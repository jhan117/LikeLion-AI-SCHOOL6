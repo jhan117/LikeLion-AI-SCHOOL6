{
 "cells": [
  {
   "cell_type": "code",
   "execution_count": 6,
   "id": "eb0ba110",
   "metadata": {},
   "outputs": [],
   "source": [
    "import pandas as pd\n",
    "import seaborn as sns\n",
    "import matplotlib.pylab as plt\n",
    "\n",
    "dfw = pd.read_csv(\"https://raw.githubusercontent.com/gedeck/practical-statistics-for-data-scientists/master/data/dfw_airline.csv\")"
   ]
  },
  {
   "cell_type": "markdown",
   "id": "ff07574e",
   "metadata": {},
   "source": [
    "## 정리\n",
    "\n",
    "- 범주형 데이터는 보통 비율로 요약할 수 있고, 막대도표를 사용해 시각화한다.\n",
    "- 범주란 전혀 다른 집합(사과와 오렌지 혹은 남자와 여자 등). 정도를 나타내는 요인변수의 수준(낮음, 중간, 높음). 구간별로 나뉜 수치 데이터 같은 것들을 의미한다.\n",
    "- 기댓값은 어떤 값과 그 값이 일어날 확률을 서로 곱해 더한 값을 의미한다. 주로 요인변수의 수준을 요약하는 데 사용한다."
   ]
  },
  {
   "cell_type": "markdown",
   "id": "b9db5f0f",
   "metadata": {},
   "source": [
    "# 이진 데이터와 범주 데이터 탐색하기\n",
    "\n",
    "범주형 데이터에서는 간단한 비율이나 퍼센트를 이용해 데이터를 관해 이야기할 수 있다."
   ]
  },
  {
   "cell_type": "markdown",
   "id": "74d57e60",
   "metadata": {},
   "source": [
    "## 막대 도표 : 각 범주의 빈도수 혹은 비율을 막대로 나타낸 그림\n",
    "\n",
    "막대도표는 어떤 범주형 자료를 보여줄 때 주로 사용된다. x축 위에 각 범주들을 놓고 y축은 각 범주에 해당하는 횟수나 비율을 표시한다."
   ]
  },
  {
   "cell_type": "markdown",
   "id": "ef74d58c",
   "metadata": {},
   "source": [
    "막대도표는 히스토그램과 매우 유사하다. 그러나, 다음과 같은 차이점이 있다.\n",
    "- 막대도표\n",
    "    - x축은 각 요인 변수의 서로 다른 범주들을 나타낸다.\n",
    "    - 막대들은 서로 떨어져 있다.\n",
    "- 히스토그램\n",
    "    - x축은 수치적으로 나타낼 수 있는 하나의 변수의 값을 의미한다.\n",
    "    - 일반적으로 막대들은 서로 붙어 있고, 중간에 틈이 있으면 그 부분에 해당하는 값들이 존재하지 않는다는 것을 의미한다."
   ]
  },
  {
   "cell_type": "code",
   "execution_count": 7,
   "id": "6d82a1cf",
   "metadata": {},
   "outputs": [
    {
     "data": {
      "image/png": "[encoded data removed]",
      "text/plain": [
       "<Figure size 288x288 with 1 Axes>"
      ]
     },
     "metadata": {
      "needs_background": "light"
     },
     "output_type": "display_data"
    }
   ],
   "source": [
    "# 막대도표\n",
    "# transpose() : 행, 열 전환\n",
    "# legend : 범례\n",
    "ax = dfw.transpose().plot.bar(figsize=(4, 4), legend=False)\n",
    "ax.set_xlabel('Cause of delay')\n",
    "ax.set_ylabel('Count')\n",
    "\n",
    "plt.show()"
   ]
  },
  {
   "cell_type": "markdown",
   "id": "efa61aab",
   "metadata": {},
   "source": [
    "NOTE_ 범주형 데이터로서의 수치 데이터  \n",
    "수치형 데이터를 범주형으로 변환하는 것은 데이터의 복잡도(그리고 크기)를 줄여준다는 점에서 중요하고 실제 많이 사용된다. 특히 데이터 분석을 시작하는 단계에서, 피처들 사이의 관계를 알아보기 위해 사용된다."
   ]
  },
  {
   "cell_type": "markdown",
   "id": "c8de03e2",
   "metadata": {},
   "source": [
    "막대도표 대신 파이그림을 사용하기도 하지만 통계학자나 데이터 시각화 전문가들은 파이그림이 시각적으로 효과적이지 않다는 이유로 잘 사용하지 않는다."
   ]
  },
  {
   "cell_type": "markdown",
   "id": "32be17ee",
   "metadata": {},
   "source": [
    "## 최빈값 : 데이터에서 가장 자주 등장하는 범주 혹은 값\n",
    "\n",
    "최빈값은 범주형 데이터를 분석하는 데 간단히 사용된다. 하지만 수치 데이터에는 잘 사용하지 않는다."
   ]
  },
  {
   "cell_type": "markdown",
   "id": "24b7a0e9",
   "metadata": {},
   "source": [
    "## 기댓값 : 범주에 해당하는 어떤 수치가 있을 때, 범주의 출현 확률에 따른 평균\n",
    "\n",
    "범주형 데이터 중에, 각 범주에 해당하는 수치형 변수들이 존재하는 특별한 경우가 있을 수 있다. 예를 들어, 서비스 이용료같이 매달 얼마하는 것들을 말한다.\n",
    "\n",
    "기댓값은 가중평균과 같은 꼴이다. 이는 실제 사업 평가나 자본 예산에 가장 근본적인 토대가 된다.\n",
    "\n",
    "기댓값 계산\n",
    "\n",
    "1. 각 결괏값과 발생 확률을 곱한다.\n",
    "2. 이 값들을 모두 더한다.\n",
    "\n",
    "이 책에서 사건이 발생할 확률이란 상황이 수없이 반복될 경우 사건이 발생할 비율을 의미한다."
   ]
  }
 ],
 "metadata": {
  "kernelspec": {
   "display_name": "Python 3 (ipykernel)",
   "language": "python",
   "name": "python3"
  },
  "language_info": {
   "codemirror_mode": {
    "name": "ipython",
    "version": 3
   },
   "file_extension": ".py",
   "mimetype": "text/x-python",
   "name": "python",
   "nbconvert_exporter": "python",
   "pygments_lexer": "ipython3",
   "version": "3.9.7"
  }
 },
 "nbformat": 4,
 "nbformat_minor": 5
}
