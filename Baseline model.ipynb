{
 "cells": [
  {
   "cell_type": "markdown",
   "id": "b834a4c5",
   "metadata": {},
   "source": [
    "# 분석 정리\n",
    "\n",
    "1. 피처 변환 : Weekly_Sales -> log\n",
    "2. 피처 추가 : Date -> year, month, week, day (주말은 어차피 금요일 밖에 없음)\n",
    "3. 피처 제거 : Date -> 세분화했으니 제거\n",
    "4. 피처 제거 : Fuel_Price -> Weekly_Sales와 상관관계가 보이지 않음, 그러나 파생 피처를 만들어서 쓸 수도 있음.\n",
    "5. 피처 인코딩 : IsHoliday -> bool을 int로 숫자화 하기\n",
    "6. 피처 결측치 : Promotion 1 ~ 5 -> 프로모션이 없는 것으로 간주해서 0으로 채움."
   ]
  },
  {
   "cell_type": "markdown",
   "id": "c9e3d36d",
   "metadata": {},
   "source": [
    "# 베이스라인 모델 전체 프로세스\n",
    "\n",
    "데이터 불러오기 -> 피처 엔지니어링 -> 평가지표 계산 함수 작성 -> 모델 훈련 -> 성능 검증 -> 제출"
   ]
  },
  {
   "cell_type": "markdown",
   "id": "0a34cc87",
   "metadata": {},
   "source": [
    "## 데이터 불러오기"
   ]
  },
  {
   "cell_type": "code",
   "execution_count": 1,
   "id": "7e713fb8",
   "metadata": {},
   "outputs": [
    {
     "data": {
      "text/plain": [
       "((6255, 12), (180, 11), (180, 2))"
      ]
     },
     "execution_count": 1,
     "metadata": {},
     "output_type": "execute_result"
    }
   ],
   "source": [
    "import pandas as pd\n",
    "import numpy as np\n",
    "\n",
    "# 데이터 불러오기\n",
    "data_path = 'data/'\n",
    "\n",
    "train = pd.read_csv(data_path + 'train.csv', index_col='id') # 학습 데이터\n",
    "test = pd.read_csv(data_path + 'test.csv', index_col='id') # 테스트 데이터\n",
    "submission = pd.read_csv(data_path + 'sample_submission.csv') # 제출 샘플 데이터\n",
    "\n",
    "train.shape, test.shape, submission.shape"
   ]
  },
  {
   "cell_type": "markdown",
   "id": "d0199748",
   "metadata": {},
   "source": [
    "## 피처 엔지니어링"
   ]
  },
  {
   "cell_type": "code",
   "execution_count": 2,
   "id": "b88543d0",
   "metadata": {},
   "outputs": [],
   "source": [
    "# 분석6 : 피처 결측치\n",
    "train = train.fillna(0)\n",
    "test = test.fillna(0)"
   ]
  },
  {
   "cell_type": "code",
   "execution_count": 3,
   "id": "7b7d4727",
   "metadata": {},
   "outputs": [
    {
     "data": {
      "text/plain": [
       "(6435, 12)"
      ]
     },
     "execution_count": 3,
     "metadata": {},
     "output_type": "execute_result"
    }
   ],
   "source": [
    "# 데이터 합치기\n",
    "df = pd.concat([train, test])\n",
    "\n",
    "df.shape"
   ]
  },
  {
   "cell_type": "code",
   "execution_count": 4,
   "id": "40c0381e",
   "metadata": {},
   "outputs": [],
   "source": [
    "# 분석1 : 피처 변환\n",
    "df['Weekly_Sales'] = np.log1p(df['Weekly_Sales'])"
   ]
  },
  {
   "cell_type": "code",
   "execution_count": 5,
   "id": "6066f7ba",
   "metadata": {},
   "outputs": [],
   "source": [
    "# 분석2 : 피처 추가\n",
    "df['Date'] = pd.to_datetime(df['Date'], dayfirst=True)\n",
    "\n",
    "df['year'] = df['Date'].dt.year\n",
    "df['month'] = df['Date'].dt.month\n",
    "df['day'] = df['Date'].dt.day\n",
    "df['week'] = df['day'] // 7"
   ]
  },
  {
   "cell_type": "code",
   "execution_count": 6,
   "id": "e8dbae53",
   "metadata": {},
   "outputs": [],
   "source": [
    "# 분석3, 4 : 피처 제거\n",
    "drop_features = ['Date', 'Fuel_Price']\n",
    "df = df.drop(columns=drop_features)"
   ]
  },
  {
   "cell_type": "code",
   "execution_count": 7,
   "id": "dff932fe",
   "metadata": {},
   "outputs": [],
   "source": [
    "# 분석5 : 피처 인코딩\n",
    "df['IsHoliday'] = df['IsHoliday'].astype(int)"
   ]
  },
  {
   "cell_type": "code",
   "execution_count": 8,
   "id": "e04bef82",
   "metadata": {},
   "outputs": [
    {
     "data": {
      "text/plain": [
       "((6255, 13), (6255,), (180, 13))"
      ]
     },
     "execution_count": 8,
     "metadata": {},
     "output_type": "execute_result"
    }
   ],
   "source": [
    "# 데이터셋 나누기\n",
    "features = df.loc[df['Weekly_Sales'].notnull()]\n",
    "label = features.pop('Weekly_Sales')\n",
    "\n",
    "X_test = df[df['Weekly_Sales'].isnull()].drop(columns='Weekly_Sales')\n",
    "\n",
    "features.shape, label.shape, X_test.shape"
   ]
  },
  {
   "cell_type": "markdown",
   "id": "3a5c379e",
   "metadata": {},
   "source": [
    "## 모델"
   ]
  },
  {
   "cell_type": "code",
   "execution_count": 9,
   "id": "c279aaf0",
   "metadata": {},
   "outputs": [],
   "source": [
    "from sklearn.linear_model import LinearRegression\n",
    "\n",
    "lr_model = LinearRegression() # 모델 생성"
   ]
  },
  {
   "cell_type": "markdown",
   "id": "e445effb",
   "metadata": {},
   "source": [
    "## 성능 검증"
   ]
  },
  {
   "cell_type": "code",
   "execution_count": 10,
   "id": "57efcb48",
   "metadata": {},
   "outputs": [
    {
     "name": "stdout",
     "output_type": "stream",
     "text": [
      "\n",
      "#1 교차 검증 rmse : 0.5445\n",
      "\n",
      "#2 교차 검증 rmse : 0.5422\n",
      "\n",
      "#3 교차 검증 rmse : 0.5516\n",
      "\n",
      "#4 교차 검증 rmse : 0.5586\n",
      "\n",
      "#5 교차 검증 rmse : 0.5502\n",
      "\n",
      "#6 교차 검증 rmse : 0.5262\n",
      "\n",
      "#7 교차 검증 rmse : 0.5372\n",
      "\n",
      "#8 교차 검증 rmse : 0.5255\n",
      "\n",
      "#9 교차 검증 rmse : 0.5282\n",
      "\n",
      "#10 교차 검증 rmse : 0.5311\n",
      "\n",
      "#11 교차 검증 rmse : 0.528\n",
      "\n",
      "#12 교차 검증 rmse : 0.5445\n",
      "\n",
      "#13 교차 검증 rmse : 0.5415\n",
      "\n",
      "#14 교차 검증 rmse : 0.5375\n",
      "\n",
      "#15 교차 검증 rmse : 0.5565\n",
      "\n",
      "## 평균 검증 rmse : 0.5402\n"
     ]
    }
   ],
   "source": [
    "from sklearn.model_selection import KFold\n",
    "from sklearn.metrics import mean_squared_error\n",
    "\n",
    "kfold = KFold(n_splits=15, shuffle=True, random_state=2001) # KFold\n",
    "\n",
    "n_iter = 0\n",
    "cv_rmse = []\n",
    "pred_test = np.zeros((X_test.shape[0]))\n",
    "\n",
    "for train_index, test_index in kfold.split(features):\n",
    "    n_iter += 1\n",
    "    \n",
    "    X_train, X_val = features.iloc[train_index], features.iloc[test_index]\n",
    "    y_train, y_val = label.iloc[train_index], label.iloc[test_index]\n",
    "    \n",
    "    lr_model.fit(X_train, y_train) # 모델 학습\n",
    "    \n",
    "    pred = lr_model.predict(X_val) # 검증용 예측\n",
    "    pred_test += lr_model.predict(X_test) / 15 # 제출용 예측\n",
    "    \n",
    "    rmse = np.round(mean_squared_error(y_val, pred, squared=False), 4) # 평가\n",
    "    \n",
    "    print(f'\\n#{n_iter} 교차 검증 rmse : {rmse}')\n",
    "    cv_rmse.append(rmse)\n",
    "    \n",
    "print(f'\\n## 평균 검증 rmse :', np.round(np.mean(cv_rmse), 4))"
   ]
  },
  {
   "cell_type": "markdown",
   "id": "0e2fa9e7",
   "metadata": {},
   "source": [
    "## 제출"
   ]
  },
  {
   "cell_type": "code",
   "execution_count": 11,
   "id": "5ddb1a6d",
   "metadata": {},
   "outputs": [],
   "source": [
    "submission['Weekly_Sales'] = np.expm1(pred_test) # 지수 변환\n",
    "submission.to_csv(data_path + 'submission_baseline.csv', index=False)"
   ]
  }
 ],
 "metadata": {
  "kernelspec": {
   "display_name": "Python 3 (ipykernel)",
   "language": "python",
   "name": "python3"
  },
  "language_info": {
   "codemirror_mode": {
    "name": "ipython",
    "version": 3
   },
   "file_extension": ".py",
   "mimetype": "text/x-python",
   "name": "python",
   "nbconvert_exporter": "python",
   "pygments_lexer": "ipython3",
   "version": "3.10.5"
  },
  "toc": {
   "base_numbering": 1,
   "nav_menu": {},
   "number_sections": true,
   "sideBar": true,
   "skip_h1_title": false,
   "title_cell": "Table of Contents",
   "title_sidebar": "Contents",
   "toc_cell": false,
   "toc_position": {
    "height": "calc(100% - 180px)",
    "left": "10px",
    "top": "150px",
    "width": "245px"
   },
   "toc_section_display": true,
   "toc_window_display": false
  }
 },
 "nbformat": 4,
 "nbformat_minor": 5
}
