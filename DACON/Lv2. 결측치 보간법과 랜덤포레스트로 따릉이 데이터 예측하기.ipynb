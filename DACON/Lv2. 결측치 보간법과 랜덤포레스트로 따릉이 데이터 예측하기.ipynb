{
 "cells": [
  {
   "cell_type": "code",
   "execution_count": 39,
   "id": "0dacbc9e",
   "metadata": {},
   "outputs": [],
   "source": [
    "import pandas as pd\n",
    "\n",
    "train = pd.read_csv('data/따릉이/train.csv')\n",
    "test = pd.read_csv('data/따릉이/test.csv')"
   ]
  },
  {
   "cell_type": "code",
   "execution_count": 41,
   "id": "26c5f278",
   "metadata": {},
   "outputs": [
    {
     "data": {
      "text/plain": [
       "id                          0\n",
       "hour                        0\n",
       "hour_bef_temperature        2\n",
       "hour_bef_precipitation      2\n",
       "hour_bef_windspeed          9\n",
       "hour_bef_humidity           2\n",
       "hour_bef_visibility         2\n",
       "hour_bef_ozone             76\n",
       "hour_bef_pm10              90\n",
       "hour_bef_pm2.5            117\n",
       "count                       0\n",
       "dtype: int64"
      ]
     },
     "execution_count": 41,
     "metadata": {},
     "output_type": "execute_result"
    }
   ],
   "source": [
    "train.isnull().sum()"
   ]
  },
  {
   "cell_type": "code",
   "execution_count": 43,
   "id": "9de3be3b",
   "metadata": {},
   "outputs": [
    {
     "data": {
      "text/plain": [
       "id                         0\n",
       "hour                       0\n",
       "hour_bef_temperature       1\n",
       "hour_bef_precipitation     1\n",
       "hour_bef_windspeed         1\n",
       "hour_bef_humidity          1\n",
       "hour_bef_visibility        1\n",
       "hour_bef_ozone            35\n",
       "hour_bef_pm10             37\n",
       "hour_bef_pm2.5            36\n",
       "dtype: int64"
      ]
     },
     "execution_count": 43,
     "metadata": {},
     "output_type": "execute_result"
    }
   ],
   "source": [
    "test.isnull().sum()"
   ]
  },
  {
   "cell_type": "code",
   "execution_count": 44,
   "id": "22ede98d",
   "metadata": {},
   "outputs": [],
   "source": [
    "# 결측치를 해당 피쳐의 평균값으로 대체하는 코드\n",
    "# inplace는 권장하지 않음 그래서 살짝 내 입맛대로 바꿨다.\n",
    "# df[컬럼명] = df[컬럼명].fillna(df[컬럼명].mean())\n",
    "train['hour_bef_temperature'] = train['hour_bef_temperature'].fillna(train['hour_bef_temperature'].mean())\n",
    "train['hour_bef_precipitation'] = train['hour_bef_precipitation'].fillna(train['hour_bef_precipitation'].mean())\n",
    "train['hour_bef_windspeed'] = train['hour_bef_windspeed'].fillna(train['hour_bef_windspeed'].mean())\n",
    "train['hour_bef_humidity'] = train['hour_bef_humidity'].fillna(train['hour_bef_humidity'].mean())\n",
    "train['hour_bef_visibility'] = train['hour_bef_visibility'].fillna(train['hour_bef_visibility'].mean())\n",
    "train['hour_bef_ozone'] = train['hour_bef_ozone'].fillna(train['hour_bef_ozone'].mean())\n",
    "train['hour_bef_pm10'] = train['hour_bef_pm10'].fillna(train['hour_bef_pm10'].mean())\n",
    "train['hour_bef_pm2.5'] = train['hour_bef_pm2.5'].fillna(train['hour_bef_pm2.5'].mean())"
   ]
  },
  {
   "cell_type": "code",
   "execution_count": 45,
   "id": "36fc9b38",
   "metadata": {},
   "outputs": [
    {
     "data": {
      "text/plain": [
       "id                        0\n",
       "hour                      0\n",
       "hour_bef_temperature      0\n",
       "hour_bef_precipitation    0\n",
       "hour_bef_windspeed        0\n",
       "hour_bef_humidity         0\n",
       "hour_bef_visibility       0\n",
       "hour_bef_ozone            0\n",
       "hour_bef_pm10             0\n",
       "hour_bef_pm2.5            0\n",
       "count                     0\n",
       "dtype: int64"
      ]
     },
     "execution_count": 45,
     "metadata": {},
     "output_type": "execute_result"
    }
   ],
   "source": [
    "train.isnull().sum()"
   ]
  },
  {
   "cell_type": "code",
   "execution_count": 47,
   "id": "ebe57872",
   "metadata": {},
   "outputs": [],
   "source": [
    "# 결측치를 피쳐의 정보성을 강조하기 위해 보간법으로 대체\n",
    "# 데이터의 순서는 시간 순서인데 이전 행(직전 시간)과\n",
    "# 다음 행(직후 시간)의 평균으로 보간하는게 합리적이다\n",
    "# inplace는 권장하지 않음 그래서 살짝 내 입맛대로 바꿨다.\n",
    "test = test.interpolate()"
   ]
  },
  {
   "cell_type": "code",
   "execution_count": 48,
   "id": "586516a7",
   "metadata": {},
   "outputs": [
    {
     "data": {
      "text/plain": [
       "id                        0\n",
       "hour                      0\n",
       "hour_bef_temperature      0\n",
       "hour_bef_precipitation    0\n",
       "hour_bef_windspeed        0\n",
       "hour_bef_humidity         0\n",
       "hour_bef_visibility       0\n",
       "hour_bef_ozone            0\n",
       "hour_bef_pm10             0\n",
       "hour_bef_pm2.5            0\n",
       "dtype: int64"
      ]
     },
     "execution_count": 48,
     "metadata": {},
     "output_type": "execute_result"
    }
   ],
   "source": [
    "test.isnull().sum()"
   ]
  }
 ],
 "metadata": {
  "kernelspec": {
   "display_name": "Python 3 (ipykernel)",
   "language": "python",
   "name": "python3"
  },
  "language_info": {
   "codemirror_mode": {
    "name": "ipython",
    "version": 3
   },
   "file_extension": ".py",
   "mimetype": "text/x-python",
   "name": "python",
   "nbconvert_exporter": "python",
   "pygments_lexer": "ipython3",
   "version": "3.9.7"
  }
 },
 "nbformat": 4,
 "nbformat_minor": 5
}
