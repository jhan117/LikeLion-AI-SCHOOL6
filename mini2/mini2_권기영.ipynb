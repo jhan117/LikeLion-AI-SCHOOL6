{
 "cells": [
  {
   "cell_type": "code",
   "execution_count": 4,
   "metadata": {},
   "outputs": [],
   "source": [
    "import requests\n",
    "import pandas as pd\n",
    "import time\n",
    "from tqdm import tqdm\n",
    "import plotly.express as px\n",
    "import json"
   ]
  },
  {
   "cell_type": "code",
   "execution_count": 5,
   "metadata": {},
   "outputs": [],
   "source": [
    "tier_list = ['challenger', 'grandmaster', 'master',\n",
    "             'diamond',  'platinum', 'gold', 'silver', 'bronze', 'iron']\n",
    "\n",
    "stats_name = ['win_rate', 'pick_rate', 'ban_rate']"
   ]
  },
  {
   "cell_type": "code",
   "execution_count": 6,
   "metadata": {},
   "outputs": [
    {
     "name": "stderr",
     "output_type": "stream",
     "text": [
      "100%|██████████| 9/9 [00:11<00:00,  1.23s/it]\n"
     ]
    }
   ],
   "source": [
    "# 데이터 수집\n",
    "def get_data(tier):\n",
    "    try:\n",
    "        time.sleep(1)\n",
    "        url = 'https://www.op.gg/_next/data/jJBmp4Iu3tyDIZFxaXguO/champions.json?region=kr'\n",
    "        response = requests.get(url, headers={'User-agent': 'Mozilla/5,0'},\n",
    "                                params={'tier': tier, 'patch': '12.10'})\n",
    "        data = response.json()['pageProps']['championMetaList']\n",
    "        return data\n",
    "    except:\n",
    "        raise Exception(response.status_code)\n",
    "\n",
    "\n",
    "# 데이터 저장하기\n",
    "def save_json():\n",
    "    for tier in tqdm(tier_list):\n",
    "        data = get_data(tier)\n",
    "\n",
    "        data_path = f'data/12.10_{tier}_data.json'\n",
    "        with open(data_path, 'w') as f:\n",
    "            json.dump(data, f)\n",
    "\n",
    "\n",
    "save_json()"
   ]
  },
  {
   "cell_type": "code",
   "execution_count": 1,
   "metadata": {},
   "outputs": [],
   "source": [
    "# 데이터프레임 만들기\n",
    "def make_dataframe():\n",
    "    df_list = []\n",
    "    for tier in tqdm(tier_list):\n",
    "        file_name = f'12.10_{tier}_'\n",
    "\n",
    "        data_path = f'data/{file_name}data.json'\n",
    "        with open(data_path) as f:\n",
    "            data = json.load(f)\n",
    "\n",
    "        # make dict\n",
    "        data_dict = {}\n",
    "        for d in tqdm(data):\n",
    "            champion = d['name']\n",
    "            for p in d['positions']:\n",
    "                stats_list = []\n",
    "                position = p['name']\n",
    "                for n in stats_name:\n",
    "                    stats_list.append(p['stats'][n] * 100)\n",
    "                data_dict[(champion, position)] = stats_list\n",
    "\n",
    "        # make df\n",
    "        df = pd.DataFrame(data_dict).T.reset_index()\n",
    "        df.columns = ['champion', 'position',\n",
    "                      'win_rate', 'pick_rate', 'ban_rate']\n",
    "        df.insert(loc=0, column='tier', value=tier)\n",
    "        df_list.append(df)\n",
    "    df = pd.concat(df_list)\n",
    "    # 라이엇의 오타 해결\n",
    "    df.loc[df['position'] == 'ALL', ['position']] = 'ADC'\n",
    "    # save df\n",
    "    df.to_csv('dataframe.csv', index=False)"
   ]
  },
  {
   "cell_type": "code",
   "execution_count": 7,
   "metadata": {},
   "outputs": [
    {
     "name": "stderr",
     "output_type": "stream",
     "text": [
      "100%|██████████| 159/159 [00:00<?, ?it/s]\n",
      "100%|██████████| 159/159 [00:00<?, ?it/s]\n",
      "100%|██████████| 159/159 [00:00<00:00, 159582.28it/s]\n",
      "100%|██████████| 159/159 [00:00<00:00, 79724.37it/s]\n",
      "100%|██████████| 159/159 [00:00<?, ?it/s]t/s]\n",
      "100%|██████████| 159/159 [00:00<?, ?it/s]\n",
      "100%|██████████| 159/159 [00:00<00:00, 159505.94it/s]\n",
      "100%|██████████| 159/159 [00:00<00:00, 159429.68it/s]\n",
      "100%|██████████| 159/159 [00:00<00:00, 159391.57it/s]\n",
      "100%|██████████| 9/9 [00:00<00:00, 37.28it/s]\n"
     ]
    }
   ],
   "source": [
    "make_dataframe()"
   ]
  },
  {
   "cell_type": "code",
   "execution_count": 8,
   "metadata": {},
   "outputs": [
    {
     "data": {
      "application/vnd.plotly.v1+json": {
       "config": {
        "plotlyServerURL": "https://plot.ly"
       },
       "data": [
        {
         "customdata": [
          [
           "Aatrox"
          ],
          [
           "Akali"
          ],
          [
           "Akshan"
          ],
          [
           "Azir"
          ],
          [
           "Camille"
          ],
          [
           "Cassiopeia"
          ],
          [
           "Darius"
          ],
          [
           "Fiora"
          ],
          [
           "Gangplank"
          ],
          [
           "Gnar"
          ],
          [
           "Gragas"
          ],
          [
           "Graves"
          ],
          [
           "Gwen"
          ],
          [
           "Irelia"
          ],
          [
           "Jax"
          ],
          [
           "Jayce"
          ],
          [
           "Kayle"
          ],
          [
           "Kennen"
          ],
          [
           "Lulu"
          ],
          [
           "Malphite"
          ],
          [
           "Mordekaiser"
          ],
          [
           "Olaf"
          ],
          [
           "Ornn"
          ],
          [
           "Poppy"
          ],
          [
           "Quinn"
          ],
          [
           "Renekton"
          ],
          [
           "Riven"
          ],
          [
           "Rumble"
          ],
          [
           "Sejuani"
          ],
          [
           "Sett"
          ],
          [
           "Shen"
          ],
          [
           "Shyvana"
          ],
          [
           "Singed"
          ],
          [
           "Sion"
          ],
          [
           "Skarner"
          ],
          [
           "Swain"
          ],
          [
           "Sylas"
          ],
          [
           "Thresh"
          ],
          [
           "Tryndamere"
          ],
          [
           "Vayne"
          ],
          [
           "Vladimir"
          ],
          [
           "Volibear"
          ],
          [
           "Warwick"
          ],
          [
           "Wukong"
          ],
          [
           "Yasuo"
          ],
          [
           "Yone"
          ]
         ],
         "hovertemplate": "position=TOP<br>tier=challenger<br>pick_rate=%{x}<br>ban_rate=%{y}<br>champion=%{customdata[0]}<extra></extra>",
         "legendgroup": "TOP",
         "marker": {
          "color": "#636efa",
          "symbol": "circle"
         },
         "mode": "markers",
         "name": "TOP",
         "orientation": "v",
         "showlegend": true,
         "type": "scatter",
         "x": [
          3.46964,
          4.77076,
          1.73482,
          2.97398,
          4.2750900000000005,
          2.04461,
          1.42503,
          3.84139,
          15.3656,
          5.080550000000001,
          4.77076,
          4.39901,
          24.5353,
          3.9653,
          5.886,
          6.81537,
          4.15118,
          5.63817,
          1.30112,
          1.42503,
          0.991326,
          6.07187,
          1.85874,
          7.00124,
          5.01859,
          1.92069,
          2.97398,
          9.72739,
          9.04585,
          1.1772,
          0.8054520000000001,
          3.15985,
          0.86741,
          1.92069,
          1.05328,
          1.92069,
          1.2391599999999998,
          0.8054520000000001,
          4.4609700000000005,
          0.991326,
          5.94796,
          1.36307,
          0.6815370000000001,
          3.09789,
          0.929368,
          4.77076
         ],
         "xaxis": "x",
         "y": [
          0.573369,
          1.31851,
          1.55433,
          1.50217,
          0.225215,
          0.647798,
          0.251471,
          3.45386,
          34.7827,
          0.410007,
          0.0550428,
          2.82056,
          24.64,
          3.84874,
          17.0309,
          0.492527,
          0.342049,
          1.30291,
          0.0672667,
          3.18165,
          0.0772476,
          1.39759,
          0.0841801,
          2.02345,
          1.5457500000000002,
          1.0392,
          2.93043,
          12.5315,
          1.44779,
          0.120725,
          0.128746,
          4.77621,
          0.209783,
          0.1263129999999999,
          0.106628,
          0.3055819999999999,
          0.314536,
          0.125924,
          5.57658,
          0.1263129999999999,
          1.82086,
          0.0445027,
          0.2376849999999999,
          2.01495,
          0.461551,
          0.619029
         ],
         "yaxis": "y"
        },
        {
         "customdata": [
          [
           "Ahri"
          ],
          [
           "Akali"
          ],
          [
           "Akshan"
          ],
          [
           "Anivia"
          ],
          [
           "Annie"
          ],
          [
           "Azir"
          ],
          [
           "Cassiopeia"
          ],
          [
           "Corki"
          ],
          [
           "Fizz"
          ],
          [
           "Galio"
          ],
          [
           "Irelia"
          ],
          [
           "Jayce"
          ],
          [
           "Karma"
          ],
          [
           "Kassadin"
          ],
          [
           "Katarina"
          ],
          [
           "Kennen"
          ],
          [
           "LeBlanc"
          ],
          [
           "Lissandra"
          ],
          [
           "Orianna"
          ],
          [
           "Poppy"
          ],
          [
           "Qiyana"
          ],
          [
           "Quinn"
          ],
          [
           "Renekton"
          ],
          [
           "Riven"
          ],
          [
           "Rumble"
          ],
          [
           "Ryze"
          ],
          [
           "Sett"
          ],
          [
           "Swain"
          ],
          [
           "Sylas"
          ],
          [
           "Syndra"
          ],
          [
           "Tahm Kench"
          ],
          [
           "Taliyah"
          ],
          [
           "Talon"
          ],
          [
           "Tristana"
          ],
          [
           "Tryndamere"
          ],
          [
           "Twisted Fate"
          ],
          [
           "Veigar"
          ],
          [
           "Vex"
          ],
          [
           "Viktor"
          ],
          [
           "Vladimir"
          ],
          [
           "Yasuo"
          ],
          [
           "Yone"
          ],
          [
           "Zed"
          ],
          [
           "Zoe"
          ]
         ],
         "hovertemplate": "position=MID<br>tier=challenger<br>pick_rate=%{x}<br>ban_rate=%{y}<br>champion=%{customdata[0]}<extra></extra>",
         "legendgroup": "MID",
         "marker": {
          "color": "#EF553B",
          "symbol": "circle"
         },
         "mode": "markers",
         "name": "MID",
         "orientation": "v",
         "showlegend": true,
         "type": "scatter",
         "x": [
          23.5183,
          6.746530000000001,
          0.504414,
          1.32409,
          1.13493,
          5.42245,
          1.00883,
          1.6393399999999998,
          0.630517,
          6.49433,
          2.5851200000000003,
          1.8285,
          1.8285,
          0.567465,
          4.66583,
          0.7566200000000001,
          8.25977,
          4.72888,
          6.55738,
          0.8827240000000001,
          3.7831,
          1.0718800000000002,
          1.32409,
          0.693569,
          1.89155,
          1.13493,
          0.819672,
          5.86381,
          7.94451,
          2.83733,
          1.0718800000000002,
          13.1778,
          2.1437600000000003,
          1.38714,
          0.7566200000000001,
          6.93569,
          1.26103,
          4.53972,
          6.8726400000000005,
          1.76545,
          5.35939,
          10.5927,
          2.77427,
          18.8525
         ],
         "xaxis": "x",
         "y": [
          20.5121,
          1.83222,
          0.444096,
          0.550187,
          0.151993,
          2.69139,
          0.314084,
          0,
          0.637428,
          0.574125,
          2.4656,
          0.129848,
          1.14477,
          0.1188419999999999,
          38.9315,
          0.171812,
          39.3071,
          1.0513,
          0.217438,
          0.250693,
          11.1736,
          0.324417,
          0.703974,
          0.6715559999999999,
          2.39456,
          0.0118843,
          0.0826014,
          0.916745,
          1.98158,
          0.503066,
          0.0714612,
          28.5691,
          3.06261,
          0.0259097999999999,
          0.92943,
          2.9553200000000004,
          0.0772476,
          11.7076,
          0.363616,
          0.531083,
          2.61546,
          1.35061,
          4.45746,
          12.7165
         ],
         "yaxis": "y"
        },
        {
         "customdata": [
          [
           "Alistar"
          ],
          [
           "Bard"
          ],
          [
           "Blitzcrank"
          ],
          [
           "Braum"
          ],
          [
           "Gragas"
          ],
          [
           "Janna"
          ],
          [
           "Karma"
          ],
          [
           "Leona"
          ],
          [
           "Lulu"
          ],
          [
           "Morgana"
          ],
          [
           "Nami"
          ],
          [
           "Nautilus"
          ],
          [
           "Pantheon"
          ],
          [
           "Poppy"
          ],
          [
           "Pyke"
          ],
          [
           "Rakan"
          ],
          [
           "Rell"
          ],
          [
           "Renata Glasc"
          ],
          [
           "Rumble"
          ],
          [
           "Senna"
          ],
          [
           "Sett"
          ],
          [
           "Soraka"
          ],
          [
           "Syndra"
          ],
          [
           "Tahm Kench"
          ],
          [
           "Taric"
          ],
          [
           "Thresh"
          ],
          [
           "Vi"
          ],
          [
           "Yuumi"
          ],
          [
           "Zilean"
          ]
         ],
         "hovertemplate": "position=SUPPORT<br>tier=challenger<br>pick_rate=%{x}<br>ban_rate=%{y}<br>champion=%{customdata[0]}<extra></extra>",
         "legendgroup": "SUPPORT",
         "marker": {
          "color": "#00cc96",
          "symbol": "circle"
         },
         "mode": "markers",
         "name": "SUPPORT",
         "orientation": "v",
         "showlegend": true,
         "type": "scatter",
         "x": [
          7.73672,
          7.67898,
          4.04157,
          3.00231,
          1.96305,
          0.51963,
          21.0162,
          6.40878,
          5.88915,
          0.750577,
          14.7806,
          30.1386,
          0.8083140000000001,
          0.635104,
          7.1016200000000005,
          13.2794,
          3.52194,
          20.0924,
          0.981524,
          25.1155,
          2.42494,
          1.78984,
          3.4642,
          1.84758,
          0.577367,
          3.4642,
          0.866051,
          5.83141,
          0.692841
         ],
         "xaxis": "x",
         "y": [
          1.01016,
          0.213916,
          0.368412,
          0.0297106,
          0.0243046,
          0.0534790999999999,
          14.3688,
          0.541794,
          0.3267239999999999,
          0.0356526999999999,
          3.6757,
          14.8674,
          0.11092,
          0.1969729999999999,
          6.7834900000000005,
          0.3268169999999999,
          0.78436,
          14.3799,
          1.35692,
          41.4935,
          0.266866,
          0.047537,
          0.670755,
          0.134515,
          0.0039614199999999,
          0.581189,
          0.0836748,
          6.23923,
          0.0297106
         ],
         "yaxis": "y"
        },
        {
         "customdata": [
          [
           "Aphelios"
          ],
          [
           "Ashe"
          ],
          [
           "Caitlyn"
          ],
          [
           "Draven"
          ],
          [
           "Ezreal"
          ],
          [
           "Jhin"
          ],
          [
           "Jinx"
          ],
          [
           "Kai'Sa"
          ],
          [
           "Kalista"
          ],
          [
           "Kog'Maw"
          ],
          [
           "Lee Sin"
          ],
          [
           "Lucian"
          ],
          [
           "Samira"
          ],
          [
           "Sett"
          ],
          [
           "Syndra"
          ],
          [
           "Tahm Kench"
          ],
          [
           "Tristana"
          ],
          [
           "Twitch"
          ],
          [
           "Varus"
          ],
          [
           "Vayne"
          ],
          [
           "Xayah"
          ],
          [
           "Yasuo"
          ],
          [
           "Zeri"
          ],
          [
           "Ziggs"
          ]
         ],
         "hovertemplate": "position=ADC<br>tier=challenger<br>pick_rate=%{x}<br>ban_rate=%{y}<br>champion=%{customdata[0]}<extra></extra>",
         "legendgroup": "ADC",
         "marker": {
          "color": "#ab63fa",
          "symbol": "circle"
         },
         "mode": "markers",
         "name": "ADC",
         "orientation": "v",
         "showlegend": true,
         "type": "scatter",
         "x": [
          6.892810000000001,
          2.17096,
          1.48553,
          5.15604,
          34.3555,
          6.72999,
          3.20875,
          17.3134,
          23.772,
          7.78418,
          2.65943,
          17.6391,
          8.466759999999999,
          1.4654,
          0.597015,
          9.11805,
          4.559019999999999,
          8.03256,
          3.1479,
          2.76798,
          20.2985,
          1.57395,
          1.79104,
          2.67396
         ],
         "xaxis": "x",
         "y": [
          0.341951,
          0.033955,
          0.0297106,
          7.753259999999999,
          9.22122,
          0.0116956,
          0.0831896999999999,
          1.96662,
          42.5315,
          3.11367,
          0.915549,
          56.0588,
          8.89184,
          0.171557,
          0.1229719999999999,
          0.706205,
          0.0989283,
          0.8570279999999999,
          0.1635589999999999,
          0.4026209999999999,
          1.286,
          0.892332,
          0.19079,
          0.231743
         ],
         "yaxis": "y"
        },
        {
         "customdata": [
          [
           "Diana"
          ],
          [
           "Ekko"
          ],
          [
           "Gragas"
          ],
          [
           "Graves"
          ],
          [
           "Gwen"
          ],
          [
           "Hecarim"
          ],
          [
           "Jarvan IV"
          ],
          [
           "Karthus"
          ],
          [
           "Kayn"
          ],
          [
           "Kha'Zix"
          ],
          [
           "Kindred"
          ],
          [
           "Lee Sin"
          ],
          [
           "Lillia"
          ],
          [
           "Nidalee"
          ],
          [
           "Nocturne"
          ],
          [
           "Olaf"
          ],
          [
           "Qiyana"
          ],
          [
           "Rek'Sai"
          ],
          [
           "Rengar"
          ],
          [
           "Shyvana"
          ],
          [
           "Taliyah"
          ],
          [
           "Talon"
          ],
          [
           "Trundle"
          ],
          [
           "Vi"
          ],
          [
           "Viego"
          ],
          [
           "Volibear"
          ],
          [
           "Wukong"
          ],
          [
           "Zed"
          ]
         ],
         "hovertemplate": "position=JUNGLE<br>tier=challenger<br>pick_rate=%{x}<br>ban_rate=%{y}<br>champion=%{customdata[0]}<extra></extra>",
         "legendgroup": "JUNGLE",
         "marker": {
          "color": "#FFA15A",
          "symbol": "circle"
         },
         "mode": "markers",
         "name": "JUNGLE",
         "orientation": "v",
         "showlegend": true,
         "type": "scatter",
         "x": [
          7.9878,
          2.37805,
          0.731707,
          31.1585,
          2.5,
          1.40244,
          1.28049,
          3.23171,
          3.04878,
          2.5,
          11.6463,
          11.6463,
          5.7317100000000005,
          10.4268,
          2.37805,
          0.7926829999999999,
          1.89024,
          2.0122,
          1.76829,
          1.03659,
          15.061,
          12.378,
          1.34146,
          1.89024,
          38.4756,
          1.52439,
          18.7805,
          2.13415
         ],
         "xaxis": "x",
         "y": [
          0.589711,
          0.207089,
          0.0085781,
          20.3001,
          2.55111,
          0.7665339999999999,
          0.0499138,
          7.424939999999999,
          0.436921,
          0.136669,
          1.97182,
          3.56877,
          0.722178,
          19.7219,
          1.04581,
          0.185394,
          5.77305,
          6.58387,
          1.14105,
          1.59207,
          33.7635,
          18.2856,
          0.0227351,
          0.172928,
          6.52627,
          0.0505713,
          12.4121,
          3.54571
         ],
         "yaxis": "y"
        }
       ],
       "frames": [
        {
         "data": [
          {
           "customdata": [
            [
             "Aatrox"
            ],
            [
             "Akali"
            ],
            [
             "Akshan"
            ],
            [
             "Azir"
            ],
            [
             "Camille"
            ],
            [
             "Cassiopeia"
            ],
            [
             "Darius"
            ],
            [
             "Fiora"
            ],
            [
             "Gangplank"
            ],
            [
             "Gnar"
            ],
            [
             "Gragas"
            ],
            [
             "Graves"
            ],
            [
             "Gwen"
            ],
            [
             "Irelia"
            ],
            [
             "Jax"
            ],
            [
             "Jayce"
            ],
            [
             "Kayle"
            ],
            [
             "Kennen"
            ],
            [
             "Lulu"
            ],
            [
             "Malphite"
            ],
            [
             "Mordekaiser"
            ],
            [
             "Olaf"
            ],
            [
             "Ornn"
            ],
            [
             "Poppy"
            ],
            [
             "Quinn"
            ],
            [
             "Renekton"
            ],
            [
             "Riven"
            ],
            [
             "Rumble"
            ],
            [
             "Sejuani"
            ],
            [
             "Sett"
            ],
            [
             "Shen"
            ],
            [
             "Shyvana"
            ],
            [
             "Singed"
            ],
            [
             "Sion"
            ],
            [
             "Skarner"
            ],
            [
             "Swain"
            ],
            [
             "Sylas"
            ],
            [
             "Thresh"
            ],
            [
             "Tryndamere"
            ],
            [
             "Vayne"
            ],
            [
             "Vladimir"
            ],
            [
             "Volibear"
            ],
            [
             "Warwick"
            ],
            [
             "Wukong"
            ],
            [
             "Yasuo"
            ],
            [
             "Yone"
            ]
           ],
           "hovertemplate": "position=TOP<br>tier=challenger<br>pick_rate=%{x}<br>ban_rate=%{y}<br>champion=%{customdata[0]}<extra></extra>",
           "legendgroup": "TOP",
           "marker": {
            "color": "#636efa",
            "symbol": "circle"
           },
           "mode": "markers",
           "name": "TOP",
           "orientation": "v",
           "showlegend": true,
           "type": "scatter",
           "x": [
            3.46964,
            4.77076,
            1.73482,
            2.97398,
            4.2750900000000005,
            2.04461,
            1.42503,
            3.84139,
            15.3656,
            5.080550000000001,
            4.77076,
            4.39901,
            24.5353,
            3.9653,
            5.886,
            6.81537,
            4.15118,
            5.63817,
            1.30112,
            1.42503,
            0.991326,
            6.07187,
            1.85874,
            7.00124,
            5.01859,
            1.92069,
            2.97398,
            9.72739,
            9.04585,
            1.1772,
            0.8054520000000001,
            3.15985,
            0.86741,
            1.92069,
            1.05328,
            1.92069,
            1.2391599999999998,
            0.8054520000000001,
            4.4609700000000005,
            0.991326,
            5.94796,
            1.36307,
            0.6815370000000001,
            3.09789,
            0.929368,
            4.77076
           ],
           "xaxis": "x",
           "y": [
            0.573369,
            1.31851,
            1.55433,
            1.50217,
            0.225215,
            0.647798,
            0.251471,
            3.45386,
            34.7827,
            0.410007,
            0.0550428,
            2.82056,
            24.64,
            3.84874,
            17.0309,
            0.492527,
            0.342049,
            1.30291,
            0.0672667,
            3.18165,
            0.0772476,
            1.39759,
            0.0841801,
            2.02345,
            1.5457500000000002,
            1.0392,
            2.93043,
            12.5315,
            1.44779,
            0.120725,
            0.128746,
            4.77621,
            0.209783,
            0.1263129999999999,
            0.106628,
            0.3055819999999999,
            0.314536,
            0.125924,
            5.57658,
            0.1263129999999999,
            1.82086,
            0.0445027,
            0.2376849999999999,
            2.01495,
            0.461551,
            0.619029
           ],
           "yaxis": "y"
          },
          {
           "customdata": [
            [
             "Ahri"
            ],
            [
             "Akali"
            ],
            [
             "Akshan"
            ],
            [
             "Anivia"
            ],
            [
             "Annie"
            ],
            [
             "Azir"
            ],
            [
             "Cassiopeia"
            ],
            [
             "Corki"
            ],
            [
             "Fizz"
            ],
            [
             "Galio"
            ],
            [
             "Irelia"
            ],
            [
             "Jayce"
            ],
            [
             "Karma"
            ],
            [
             "Kassadin"
            ],
            [
             "Katarina"
            ],
            [
             "Kennen"
            ],
            [
             "LeBlanc"
            ],
            [
             "Lissandra"
            ],
            [
             "Orianna"
            ],
            [
             "Poppy"
            ],
            [
             "Qiyana"
            ],
            [
             "Quinn"
            ],
            [
             "Renekton"
            ],
            [
             "Riven"
            ],
            [
             "Rumble"
            ],
            [
             "Ryze"
            ],
            [
             "Sett"
            ],
            [
             "Swain"
            ],
            [
             "Sylas"
            ],
            [
             "Syndra"
            ],
            [
             "Tahm Kench"
            ],
            [
             "Taliyah"
            ],
            [
             "Talon"
            ],
            [
             "Tristana"
            ],
            [
             "Tryndamere"
            ],
            [
             "Twisted Fate"
            ],
            [
             "Veigar"
            ],
            [
             "Vex"
            ],
            [
             "Viktor"
            ],
            [
             "Vladimir"
            ],
            [
             "Yasuo"
            ],
            [
             "Yone"
            ],
            [
             "Zed"
            ],
            [
             "Zoe"
            ]
           ],
           "hovertemplate": "position=MID<br>tier=challenger<br>pick_rate=%{x}<br>ban_rate=%{y}<br>champion=%{customdata[0]}<extra></extra>",
           "legendgroup": "MID",
           "marker": {
            "color": "#EF553B",
            "symbol": "circle"
           },
           "mode": "markers",
           "name": "MID",
           "orientation": "v",
           "showlegend": true,
           "type": "scatter",
           "x": [
            23.5183,
            6.746530000000001,
            0.504414,
            1.32409,
            1.13493,
            5.42245,
            1.00883,
            1.6393399999999998,
            0.630517,
            6.49433,
            2.5851200000000003,
            1.8285,
            1.8285,
            0.567465,
            4.66583,
            0.7566200000000001,
            8.25977,
            4.72888,
            6.55738,
            0.8827240000000001,
            3.7831,
            1.0718800000000002,
            1.32409,
            0.693569,
            1.89155,
            1.13493,
            0.819672,
            5.86381,
            7.94451,
            2.83733,
            1.0718800000000002,
            13.1778,
            2.1437600000000003,
            1.38714,
            0.7566200000000001,
            6.93569,
            1.26103,
            4.53972,
            6.8726400000000005,
            1.76545,
            5.35939,
            10.5927,
            2.77427,
            18.8525
           ],
           "xaxis": "x",
           "y": [
            20.5121,
            1.83222,
            0.444096,
            0.550187,
            0.151993,
            2.69139,
            0.314084,
            0,
            0.637428,
            0.574125,
            2.4656,
            0.129848,
            1.14477,
            0.1188419999999999,
            38.9315,
            0.171812,
            39.3071,
            1.0513,
            0.217438,
            0.250693,
            11.1736,
            0.324417,
            0.703974,
            0.6715559999999999,
            2.39456,
            0.0118843,
            0.0826014,
            0.916745,
            1.98158,
            0.503066,
            0.0714612,
            28.5691,
            3.06261,
            0.0259097999999999,
            0.92943,
            2.9553200000000004,
            0.0772476,
            11.7076,
            0.363616,
            0.531083,
            2.61546,
            1.35061,
            4.45746,
            12.7165
           ],
           "yaxis": "y"
          },
          {
           "customdata": [
            [
             "Alistar"
            ],
            [
             "Bard"
            ],
            [
             "Blitzcrank"
            ],
            [
             "Braum"
            ],
            [
             "Gragas"
            ],
            [
             "Janna"
            ],
            [
             "Karma"
            ],
            [
             "Leona"
            ],
            [
             "Lulu"
            ],
            [
             "Morgana"
            ],
            [
             "Nami"
            ],
            [
             "Nautilus"
            ],
            [
             "Pantheon"
            ],
            [
             "Poppy"
            ],
            [
             "Pyke"
            ],
            [
             "Rakan"
            ],
            [
             "Rell"
            ],
            [
             "Renata Glasc"
            ],
            [
             "Rumble"
            ],
            [
             "Senna"
            ],
            [
             "Sett"
            ],
            [
             "Soraka"
            ],
            [
             "Syndra"
            ],
            [
             "Tahm Kench"
            ],
            [
             "Taric"
            ],
            [
             "Thresh"
            ],
            [
             "Vi"
            ],
            [
             "Yuumi"
            ],
            [
             "Zilean"
            ]
           ],
           "hovertemplate": "position=SUPPORT<br>tier=challenger<br>pick_rate=%{x}<br>ban_rate=%{y}<br>champion=%{customdata[0]}<extra></extra>",
           "legendgroup": "SUPPORT",
           "marker": {
            "color": "#00cc96",
            "symbol": "circle"
           },
           "mode": "markers",
           "name": "SUPPORT",
           "orientation": "v",
           "showlegend": true,
           "type": "scatter",
           "x": [
            7.73672,
            7.67898,
            4.04157,
            3.00231,
            1.96305,
            0.51963,
            21.0162,
            6.40878,
            5.88915,
            0.750577,
            14.7806,
            30.1386,
            0.8083140000000001,
            0.635104,
            7.1016200000000005,
            13.2794,
            3.52194,
            20.0924,
            0.981524,
            25.1155,
            2.42494,
            1.78984,
            3.4642,
            1.84758,
            0.577367,
            3.4642,
            0.866051,
            5.83141,
            0.692841
           ],
           "xaxis": "x",
           "y": [
            1.01016,
            0.213916,
            0.368412,
            0.0297106,
            0.0243046,
            0.0534790999999999,
            14.3688,
            0.541794,
            0.3267239999999999,
            0.0356526999999999,
            3.6757,
            14.8674,
            0.11092,
            0.1969729999999999,
            6.7834900000000005,
            0.3268169999999999,
            0.78436,
            14.3799,
            1.35692,
            41.4935,
            0.266866,
            0.047537,
            0.670755,
            0.134515,
            0.0039614199999999,
            0.581189,
            0.0836748,
            6.23923,
            0.0297106
           ],
           "yaxis": "y"
          },
          {
           "customdata": [
            [
             "Aphelios"
            ],
            [
             "Ashe"
            ],
            [
             "Caitlyn"
            ],
            [
             "Draven"
            ],
            [
             "Ezreal"
            ],
            [
             "Jhin"
            ],
            [
             "Jinx"
            ],
            [
             "Kai'Sa"
            ],
            [
             "Kalista"
            ],
            [
             "Kog'Maw"
            ],
            [
             "Lee Sin"
            ],
            [
             "Lucian"
            ],
            [
             "Samira"
            ],
            [
             "Sett"
            ],
            [
             "Syndra"
            ],
            [
             "Tahm Kench"
            ],
            [
             "Tristana"
            ],
            [
             "Twitch"
            ],
            [
             "Varus"
            ],
            [
             "Vayne"
            ],
            [
             "Xayah"
            ],
            [
             "Yasuo"
            ],
            [
             "Zeri"
            ],
            [
             "Ziggs"
            ]
           ],
           "hovertemplate": "position=ADC<br>tier=challenger<br>pick_rate=%{x}<br>ban_rate=%{y}<br>champion=%{customdata[0]}<extra></extra>",
           "legendgroup": "ADC",
           "marker": {
            "color": "#ab63fa",
            "symbol": "circle"
           },
           "mode": "markers",
           "name": "ADC",
           "orientation": "v",
           "showlegend": true,
           "type": "scatter",
           "x": [
            6.892810000000001,
            2.17096,
            1.48553,
            5.15604,
            34.3555,
            6.72999,
            3.20875,
            17.3134,
            23.772,
            7.78418,
            2.65943,
            17.6391,
            8.466759999999999,
            1.4654,
            0.597015,
            9.11805,
            4.559019999999999,
            8.03256,
            3.1479,
            2.76798,
            20.2985,
            1.57395,
            1.79104,
            2.67396
           ],
           "xaxis": "x",
           "y": [
            0.341951,
            0.033955,
            0.0297106,
            7.753259999999999,
            9.22122,
            0.0116956,
            0.0831896999999999,
            1.96662,
            42.5315,
            3.11367,
            0.915549,
            56.0588,
            8.89184,
            0.171557,
            0.1229719999999999,
            0.706205,
            0.0989283,
            0.8570279999999999,
            0.1635589999999999,
            0.4026209999999999,
            1.286,
            0.892332,
            0.19079,
            0.231743
           ],
           "yaxis": "y"
          },
          {
           "customdata": [
            [
             "Diana"
            ],
            [
             "Ekko"
            ],
            [
             "Gragas"
            ],
            [
             "Graves"
            ],
            [
             "Gwen"
            ],
            [
             "Hecarim"
            ],
            [
             "Jarvan IV"
            ],
            [
             "Karthus"
            ],
            [
             "Kayn"
            ],
            [
             "Kha'Zix"
            ],
            [
             "Kindred"
            ],
            [
             "Lee Sin"
            ],
            [
             "Lillia"
            ],
            [
             "Nidalee"
            ],
            [
             "Nocturne"
            ],
            [
             "Olaf"
            ],
            [
             "Qiyana"
            ],
            [
             "Rek'Sai"
            ],
            [
             "Rengar"
            ],
            [
             "Shyvana"
            ],
            [
             "Taliyah"
            ],
            [
             "Talon"
            ],
            [
             "Trundle"
            ],
            [
             "Vi"
            ],
            [
             "Viego"
            ],
            [
             "Volibear"
            ],
            [
             "Wukong"
            ],
            [
             "Zed"
            ]
           ],
           "hovertemplate": "position=JUNGLE<br>tier=challenger<br>pick_rate=%{x}<br>ban_rate=%{y}<br>champion=%{customdata[0]}<extra></extra>",
           "legendgroup": "JUNGLE",
           "marker": {
            "color": "#FFA15A",
            "symbol": "circle"
           },
           "mode": "markers",
           "name": "JUNGLE",
           "orientation": "v",
           "showlegend": true,
           "type": "scatter",
           "x": [
            7.9878,
            2.37805,
            0.731707,
            31.1585,
            2.5,
            1.40244,
            1.28049,
            3.23171,
            3.04878,
            2.5,
            11.6463,
            11.6463,
            5.7317100000000005,
            10.4268,
            2.37805,
            0.7926829999999999,
            1.89024,
            2.0122,
            1.76829,
            1.03659,
            15.061,
            12.378,
            1.34146,
            1.89024,
            38.4756,
            1.52439,
            18.7805,
            2.13415
           ],
           "xaxis": "x",
           "y": [
            0.589711,
            0.207089,
            0.0085781,
            20.3001,
            2.55111,
            0.7665339999999999,
            0.0499138,
            7.424939999999999,
            0.436921,
            0.136669,
            1.97182,
            3.56877,
            0.722178,
            19.7219,
            1.04581,
            0.185394,
            5.77305,
            6.58387,
            1.14105,
            1.59207,
            33.7635,
            18.2856,
            0.0227351,
            0.172928,
            6.52627,
            0.0505713,
            12.4121,
            3.54571
           ],
           "yaxis": "y"
          }
         ],
         "name": "challenger"
        },
        {
         "data": [
          {
           "customdata": [
            [
             "Aatrox"
            ],
            [
             "Akali"
            ],
            [
             "Akshan"
            ],
            [
             "Camille"
            ],
            [
             "Cassiopeia"
            ],
            [
             "Darius"
            ],
            [
             "Dr. Mundo"
            ],
            [
             "Fiora"
            ],
            [
             "Gangplank"
            ],
            [
             "Garen"
            ],
            [
             "Gnar"
            ],
            [
             "Gragas"
            ],
            [
             "Graves"
            ],
            [
             "Gwen"
            ],
            [
             "Irelia"
            ],
            [
             "Jax"
            ],
            [
             "Jayce"
            ],
            [
             "Kayle"
            ],
            [
             "Kennen"
            ],
            [
             "Lillia"
            ],
            [
             "Malphite"
            ],
            [
             "Mordekaiser"
            ],
            [
             "Olaf"
            ],
            [
             "Ornn"
            ],
            [
             "Poppy"
            ],
            [
             "Quinn"
            ],
            [
             "Renekton"
            ],
            [
             "Rengar"
            ],
            [
             "Riven"
            ],
            [
             "Rumble"
            ],
            [
             "Sejuani"
            ],
            [
             "Sett"
            ],
            [
             "Shen"
            ],
            [
             "Singed"
            ],
            [
             "Sion"
            ],
            [
             "Skarner"
            ],
            [
             "Swain"
            ],
            [
             "Sylas"
            ],
            [
             "Tryndamere"
            ],
            [
             "Vayne"
            ],
            [
             "Vladimir"
            ],
            [
             "Volibear"
            ],
            [
             "Wukong"
            ],
            [
             "Yone"
            ]
           ],
           "hovertemplate": "position=TOP<br>tier=grandmaster<br>pick_rate=%{x}<br>ban_rate=%{y}<br>champion=%{customdata[0]}<extra></extra>",
           "legendgroup": "TOP",
           "marker": {
            "color": "#636efa",
            "symbol": "circle"
           },
           "mode": "markers",
           "name": "TOP",
           "orientation": "v",
           "showlegend": true,
           "type": "scatter",
           "x": [
            6.071429999999999,
            4.07143,
            4.11905,
            4.95238,
            2.09524,
            2.04762,
            1.6428600000000002,
            7.85714,
            18.2619,
            2.33333,
            4.59524,
            3.61905,
            4.35714,
            23.4048,
            4.95238,
            9.42857,
            9.57143,
            5.97619,
            6.2619,
            0.880952,
            2.30952,
            1.19048,
            4.7381,
            2.21429,
            2.7381,
            1.28571,
            4.16667,
            3.52381,
            2.0714300000000003,
            3.64286,
            4.6190500000000005,
            2.0714300000000003,
            1.35714,
            1.04762,
            4.30952,
            0.7619049999999999,
            1.28571,
            1.45238,
            1.35714,
            1.33333,
            6.642860000000001,
            1.02381,
            2.92857,
            3.21429
           ],
           "xaxis": "x",
           "y": [
            2.16138,
            1.55708,
            2.46868,
            0.7421559999999999,
            1.006,
            1.5081,
            0.262332,
            9.99341,
            34.6095,
            1.32291,
            0.553585,
            0.114211,
            3.85524,
            27.2897,
            6.20898,
            17.6055,
            0.7935970000000001,
            0.816817,
            1.94473,
            0.136402,
            1.90395,
            0.0750936,
            1.78075,
            0.1286969999999999,
            1.21294,
            1.46279,
            1.32358,
            3.4780899999999995,
            1.13441,
            2.23333,
            0.4054979999999999,
            0.2943139999999999,
            0.14987,
            0.246244,
            0.1960239999999999,
            0.141705,
            0.238593,
            0.412841,
            2.04631,
            0.420759,
            1.38214,
            0.0865112,
            2.812,
            0.547809
           ],
           "yaxis": "y"
          },
          {
           "customdata": [
            [
             "Aatrox"
            ],
            [
             "Ahri"
            ],
            [
             "Akali"
            ],
            [
             "Akshan"
            ],
            [
             "Anivia"
            ],
            [
             "Azir"
            ],
            [
             "Brand"
            ],
            [
             "Cassiopeia"
            ],
            [
             "Corki"
            ],
            [
             "Ekko"
            ],
            [
             "Fizz"
            ],
            [
             "Galio"
            ],
            [
             "Garen"
            ],
            [
             "Gragas"
            ],
            [
             "Irelia"
            ],
            [
             "Jayce"
            ],
            [
             "Kassadin"
            ],
            [
             "Katarina"
            ],
            [
             "Kayle"
            ],
            [
             "Kennen"
            ],
            [
             "LeBlanc"
            ],
            [
             "Lissandra"
            ],
            [
             "Nunu & Willump"
            ],
            [
             "Orianna"
            ],
            [
             "Pantheon"
            ],
            [
             "Pyke"
            ],
            [
             "Qiyana"
            ],
            [
             "Renekton"
            ],
            [
             "Rumble"
            ],
            [
             "Ryze"
            ],
            [
             "Seraphine"
            ],
            [
             "Singed"
            ],
            [
             "Swain"
            ],
            [
             "Sylas"
            ],
            [
             "Syndra"
            ],
            [
             "Taliyah"
            ],
            [
             "Talon"
            ],
            [
             "Tristana"
            ],
            [
             "Tryndamere"
            ],
            [
             "Twisted Fate"
            ],
            [
             "Veigar"
            ],
            [
             "Vel'Koz"
            ],
            [
             "Vex"
            ],
            [
             "Viktor"
            ],
            [
             "Vladimir"
            ],
            [
             "Xerath"
            ],
            [
             "Yasuo"
            ],
            [
             "Yone"
            ],
            [
             "Zed"
            ],
            [
             "Zoe"
            ]
           ],
           "hovertemplate": "position=MID<br>tier=grandmaster<br>pick_rate=%{x}<br>ban_rate=%{y}<br>champion=%{customdata[0]}<extra></extra>",
           "legendgroup": "MID",
           "marker": {
            "color": "#EF553B",
            "symbol": "circle"
           },
           "mode": "markers",
           "name": "MID",
           "orientation": "v",
           "showlegend": true,
           "type": "scatter",
           "x": [
            0.816222,
            25.2774,
            6.30022,
            3.21388,
            1.07129,
            1.81099,
            1.19883,
            0.8927430000000001,
            0.688688,
            0.841729,
            1.04579,
            6.351229999999999,
            0.612167,
            0.714195,
            2.37215,
            1.70897,
            1.14781,
            5.91761,
            1.14781,
            1.27535,
            9.8967,
            7.01441,
            0.714195,
            3.74952,
            0.663181,
            2.24461,
            4.13213,
            2.49968,
            1.53042,
            1.3773799999999998,
            1.07129,
            0.5356460000000001,
            3.54547,
            7.42252,
            3.11185,
            11.7587,
            3.41793,
            1.7344700000000002,
            0.5356460000000001,
            7.371510000000001,
            2.01505,
            1.63244,
            6.30022,
            7.01441,
            1.91302,
            0.816222,
            2.83127,
            9.46308,
            2.01505,
            12.932
           ],
           "xaxis": "x",
           "y": [
            0.271232,
            24.387600000000003,
            2.24911,
            1.798,
            1.41791,
            1.02157,
            0.0495307,
            0.400112,
            0,
            0.0566896,
            0.610332,
            0.699697,
            0.323979,
            0.0210389,
            2.77613,
            0.132266,
            0.136267,
            28.1988,
            0.146441,
            0.36972,
            30.8008,
            1.16089,
            0.953188,
            0.219216,
            0.111023,
            2.00274,
            4.926690000000001,
            0.741204,
            0.8758159999999999,
            0.145534,
            0.0505457999999999,
            0.117526,
            0.614157,
            1.96945,
            1.04372,
            34.153,
            5.65319,
            0.0953662,
            0.753905,
            2.87706,
            0.309228,
            0.2207329999999999,
            11.8381,
            1.34428,
            0.371543,
            0.0706985,
            2.1399600000000003,
            1.50546,
            4.383859999999999,
            13.948
           ],
           "yaxis": "y"
          },
          {
           "customdata": [
            [
             "Alistar"
            ],
            [
             "Amumu"
            ],
            [
             "Bard"
            ],
            [
             "Blitzcrank"
            ],
            [
             "Braum"
            ],
            [
             "Galio"
            ],
            [
             "Gragas"
            ],
            [
             "Karma"
            ],
            [
             "Leona"
            ],
            [
             "Lulu"
            ],
            [
             "Lux"
            ],
            [
             "Maokai"
            ],
            [
             "Morgana"
            ],
            [
             "Nami"
            ],
            [
             "Nautilus"
            ],
            [
             "Pantheon"
            ],
            [
             "Pyke"
            ],
            [
             "Rakan"
            ],
            [
             "Rell"
            ],
            [
             "Renata Glasc"
            ],
            [
             "Senna"
            ],
            [
             "Seraphine"
            ],
            [
             "Sett"
            ],
            [
             "Sona"
            ],
            [
             "Soraka"
            ],
            [
             "Tahm Kench"
            ],
            [
             "Thresh"
            ],
            [
             "Yuumi"
            ],
            [
             "Zilean"
            ],
            [
             "Zyra"
            ]
           ],
           "hovertemplate": "position=SUPPORT<br>tier=grandmaster<br>pick_rate=%{x}<br>ban_rate=%{y}<br>champion=%{customdata[0]}<extra></extra>",
           "legendgroup": "SUPPORT",
           "marker": {
            "color": "#00cc96",
            "symbol": "circle"
           },
           "mode": "markers",
           "name": "SUPPORT",
           "orientation": "v",
           "showlegend": true,
           "type": "scatter",
           "x": [
            8.042829999999999,
            0.6662699999999999,
            7.7097,
            5.09221,
            2.37954,
            0.523498,
            1.21356,
            17.1327,
            8.28079,
            11.5407,
            1.21356,
            0.737656,
            0.618679,
            9.58953,
            28.4593,
            0.832838,
            7.47174,
            11.8977,
            2.85544,
            19.6788,
            20.3212,
            0.690065,
            3.11719,
            0.523498,
            1.71327,
            1.80845,
            6.305769999999999,
            11.517,
            0.951814,
            0.547293
           ],
           "xaxis": "x",
           "y": [
            1.08355,
            0.155765,
            0.398545,
            2.84378,
            0.0423454,
            0.0618206,
            0.0383209,
            13.7857,
            1.26176,
            1.47451,
            0.2699519999999999,
            0.0482614,
            0.151945,
            3.03393,
            20.4069,
            0.149454,
            7.14613,
            0.5966250000000001,
            1.3152,
            15.877,
            34.7309,
            0.0349007,
            0.443163,
            0.00996363,
            0.0398545,
            0.312864,
            0.967802,
            8.506310000000001,
            0.143336,
            0.0747273
           ],
           "yaxis": "y"
          },
          {
           "customdata": [
            [
             "Aphelios"
            ],
            [
             "Ashe"
            ],
            [
             "Caitlyn"
            ],
            [
             "Cassiopeia"
            ],
            [
             "Draven"
            ],
            [
             "Ezreal"
            ],
            [
             "Jhin"
            ],
            [
             "Jinx"
            ],
            [
             "Kai'Sa"
            ],
            [
             "Kalista"
            ],
            [
             "Kog'Maw"
            ],
            [
             "Lucian"
            ],
            [
             "Miss Fortune"
            ],
            [
             "Samira"
            ],
            [
             "Sett"
            ],
            [
             "Sivir"
            ],
            [
             "Swain"
            ],
            [
             "Tahm Kench"
            ],
            [
             "Tristana"
            ],
            [
             "Twitch"
            ],
            [
             "Varus"
            ],
            [
             "Vayne"
            ],
            [
             "Xayah"
            ],
            [
             "Xerath"
            ],
            [
             "Yasuo"
            ],
            [
             "Zeri"
            ],
            [
             "Ziggs"
            ]
           ],
           "hovertemplate": "position=ADC<br>tier=grandmaster<br>pick_rate=%{x}<br>ban_rate=%{y}<br>champion=%{customdata[0]}<extra></extra>",
           "legendgroup": "ADC",
           "marker": {
            "color": "#ab63fa",
            "symbol": "circle"
           },
           "mode": "markers",
           "name": "ADC",
           "orientation": "v",
           "showlegend": true,
           "type": "scatter",
           "x": [
            9.57994,
            1.15361,
            2.36636,
            0.702194,
            5.26646,
            35.21,
            6.94963,
            2.80878,
            20.489,
            23.8245,
            7.548589999999999,
            16,
            0.971454,
            9.5047,
            1.45455,
            1.07109,
            1.17868,
            6.1442,
            4.01254,
            8.65204,
            1.78056,
            3.0094,
            14.7712,
            1.60502,
            0.501567,
            2.69018,
            1.63009
           ],
           "xaxis": "x",
           "y": [
            0.508786,
            0.0648576,
            0.117073,
            0.32009,
            10.0498,
            8.300699999999999,
            0.0672545,
            0.0740658999999999,
            0.964372,
            45.6578,
            7.1046700000000005,
            50.4269,
            0.543018,
            17.924699999999998,
            0.19621,
            0.0423454,
            0.207665,
            1.00857,
            0.224391,
            1.47672,
            0.0836474,
            0.901627,
            0.8656159999999999,
            0.141397,
            0.385579,
            0.0971453999999999,
            0.0760482
           ],
           "yaxis": "y"
          },
          {
           "customdata": [
            [
             "Diana"
            ],
            [
             "Ekko"
            ],
            [
             "Elise"
            ],
            [
             "Graves"
            ],
            [
             "Hecarim"
            ],
            [
             "Jarvan IV"
            ],
            [
             "Karthus"
            ],
            [
             "Kayn"
            ],
            [
             "Kha'Zix"
            ],
            [
             "Kindred"
            ],
            [
             "Lee Sin"
            ],
            [
             "Lillia"
            ],
            [
             "Nidalee"
            ],
            [
             "Nocturne"
            ],
            [
             "Olaf"
            ],
            [
             "Poppy"
            ],
            [
             "Qiyana"
            ],
            [
             "Rek'Sai"
            ],
            [
             "Rengar"
            ],
            [
             "Sejuani"
            ],
            [
             "Shaco"
            ],
            [
             "Taliyah"
            ],
            [
             "Talon"
            ],
            [
             "Trundle"
            ],
            [
             "Vi"
            ],
            [
             "Viego"
            ],
            [
             "Volibear"
            ],
            [
             "Wukong"
            ],
            [
             "Zed"
            ]
           ],
           "hovertemplate": "position=JUNGLE<br>tier=grandmaster<br>pick_rate=%{x}<br>ban_rate=%{y}<br>champion=%{customdata[0]}<extra></extra>",
           "legendgroup": "JUNGLE",
           "marker": {
            "color": "#FFA15A",
            "symbol": "circle"
           },
           "mode": "markers",
           "name": "JUNGLE",
           "orientation": "v",
           "showlegend": true,
           "type": "scatter",
           "x": [
            8.26578,
            1.40864,
            0.69103,
            27.4817,
            2.76412,
            0.664452,
            2.89701,
            1.72757,
            1.9402,
            9.0897,
            16.531599999999997,
            3.48173,
            12.8904,
            1.35548,
            1.56811,
            2.73754,
            2.7907,
            5.66113,
            0.69103,
            0.69103,
            1.40864,
            10.7375,
            10.4186,
            0.5315610000000001,
            2.39203,
            34.9236,
            0.903654,
            25.515,
            2.07309
           ],
           "xaxis": "x",
           "y": [
            0.6241789999999999,
            0.091047,
            0.194291,
            21.7831,
            0.285937,
            0.0369023,
            11.1391,
            0.517618,
            0.1842939999999999,
            2.29299,
            5.18089,
            0.482937,
            23.7608,
            0.6620550000000001,
            0.52796,
            1.08637,
            3.19322,
            15.6329,
            0.611016,
            0.0543451,
            4.72672,
            29.9301,
            16.5377,
            0.0617744999999999,
            0.195684,
            7.039529999999999,
            0.0684042,
            21.9473,
            4.3283700000000005
           ],
           "yaxis": "y"
          }
         ],
         "name": "grandmaster"
        },
        {
         "data": [
          {
           "customdata": [
            [
             "Aatrox"
            ],
            [
             "Akali"
            ],
            [
             "Akshan"
            ],
            [
             "Camille"
            ],
            [
             "Cassiopeia"
            ],
            [
             "Darius"
            ],
            [
             "Dr. Mundo"
            ],
            [
             "Fiora"
            ],
            [
             "Gangplank"
            ],
            [
             "Garen"
            ],
            [
             "Gnar"
            ],
            [
             "Gragas"
            ],
            [
             "Graves"
            ],
            [
             "Gwen"
            ],
            [
             "Illaoi"
            ],
            [
             "Irelia"
            ],
            [
             "Ivern"
            ],
            [
             "Jax"
            ],
            [
             "Jayce"
            ],
            [
             "Kayle"
            ],
            [
             "Kennen"
            ],
            [
             "Kled"
            ],
            [
             "Lillia"
            ],
            [
             "Malphite"
            ],
            [
             "Mordekaiser"
            ],
            [
             "Olaf"
            ],
            [
             "Ornn"
            ],
            [
             "Pantheon"
            ],
            [
             "Poppy"
            ],
            [
             "Quinn"
            ],
            [
             "Renekton"
            ],
            [
             "Rengar"
            ],
            [
             "Riven"
            ],
            [
             "Rumble"
            ],
            [
             "Sejuani"
            ],
            [
             "Sett"
            ],
            [
             "Shen"
            ],
            [
             "Singed"
            ],
            [
             "Sion"
            ],
            [
             "Swain"
            ],
            [
             "Sylas"
            ],
            [
             "Tahm Kench"
            ],
            [
             "Teemo"
            ],
            [
             "Tryndamere"
            ],
            [
             "Urgot"
            ],
            [
             "Vayne"
            ],
            [
             "Viktor"
            ],
            [
             "Vladimir"
            ],
            [
             "Volibear"
            ],
            [
             "Wukong"
            ],
            [
             "Yasuo"
            ],
            [
             "Yone"
            ],
            [
             "Yorick"
            ],
            [
             "Zac"
            ]
           ],
           "hovertemplate": "position=TOP<br>tier=master<br>pick_rate=%{x}<br>ban_rate=%{y}<br>champion=%{customdata[0]}<extra></extra>",
           "legendgroup": "TOP",
           "marker": {
            "color": "#636efa",
            "symbol": "circle"
           },
           "mode": "markers",
           "name": "TOP",
           "orientation": "v",
           "showlegend": true,
           "type": "scatter",
           "x": [
            6.21923,
            4.29931,
            3.2491,
            7.1053500000000005,
            1.45225,
            4.72596,
            0.959961,
            8.47555,
            9.98523,
            1.31277,
            5.3413200000000005,
            2.55169,
            4.00394,
            20.9961,
            1.09944,
            4.40597,
            0.672793,
            7.449949999999999,
            9.89498,
            5.75976,
            4.09419,
            1.1979,
            0.894322,
            2.07581,
            2.00197,
            5.33311,
            2.07581,
            2.21529,
            3.35576,
            1.5260900000000002,
            5.08697,
            3.11782,
            2.88809,
            4.31572,
            2.10863,
            2.31375,
            2.85527,
            0.7302259999999999,
            2.7322,
            1.78864,
            1.16508,
            0.639974,
            0.8122739999999999,
            3.10962,
            0.664588,
            1.13226,
            1.39481,
            3.71677,
            0.59895,
            1.96095,
            1.93633,
            3.89728,
            0.910732,
            1.00098
           ],
           "xaxis": "x",
           "y": [
            2.39164,
            1.66601,
            2.7264500000000003,
            1.31986,
            0.382011,
            3.56051,
            0.167837,
            15.2738,
            35.3879,
            0.523813,
            0.618045,
            0.0839725,
            4.55014,
            21.6461,
            0.17795,
            5.6499,
            0.157445,
            16.2185,
            1.33116,
            2.39197,
            1.27562,
            0.215684,
            0.1244179999999999,
            1.91892,
            0.137822,
            5.78721,
            0.0426576,
            0.15858,
            1.9178,
            0.570633,
            2.476,
            2.58499,
            1.0251100000000002,
            1.518,
            0.156414,
            0.208248,
            0.227286,
            0.17958,
            0.270705,
            0.472034,
            0.6770649999999999,
            0.0824158,
            0.42898,
            2.97709,
            0.0619939,
            0.934528,
            0.273086,
            1.43368,
            0.0483361,
            2.79761,
            1.16118,
            0.878633,
            0.0687052,
            0.195632
           ],
           "yaxis": "y"
          },
          {
           "customdata": [
            [
             "Ahri"
            ],
            [
             "Akali"
            ],
            [
             "Akshan"
            ],
            [
             "Anivia"
            ],
            [
             "Aurelion Sol"
            ],
            [
             "Azir"
            ],
            [
             "Cassiopeia"
            ],
            [
             "Corki"
            ],
            [
             "Ekko"
            ],
            [
             "Fizz"
            ],
            [
             "Galio"
            ],
            [
             "Gragas"
            ],
            [
             "Irelia"
            ],
            [
             "Jayce"
            ],
            [
             "Karthus"
            ],
            [
             "Kassadin"
            ],
            [
             "Katarina"
            ],
            [
             "Kayle"
            ],
            [
             "Kennen"
            ],
            [
             "LeBlanc"
            ],
            [
             "Lissandra"
            ],
            [
             "Lux"
            ],
            [
             "Malzahar"
            ],
            [
             "Neeko"
            ],
            [
             "Orianna"
            ],
            [
             "Pantheon"
            ],
            [
             "Qiyana"
            ],
            [
             "Renekton"
            ],
            [
             "Rumble"
            ],
            [
             "Ryze"
            ],
            [
             "Seraphine"
            ],
            [
             "Singed"
            ],
            [
             "Swain"
            ],
            [
             "Sylas"
            ],
            [
             "Syndra"
            ],
            [
             "Taliyah"
            ],
            [
             "Talon"
            ],
            [
             "Tristana"
            ],
            [
             "Twisted Fate"
            ],
            [
             "Veigar"
            ],
            [
             "Vex"
            ],
            [
             "Viktor"
            ],
            [
             "Vladimir"
            ],
            [
             "Xerath"
            ],
            [
             "Yasuo"
            ],
            [
             "Yone"
            ],
            [
             "Zac"
            ],
            [
             "Zed"
            ],
            [
             "Ziggs"
            ],
            [
             "Zilean"
            ],
            [
             "Zoe"
            ]
           ],
           "hovertemplate": "position=MID<br>tier=master<br>pick_rate=%{x}<br>ban_rate=%{y}<br>champion=%{customdata[0]}<extra></extra>",
           "legendgroup": "MID",
           "marker": {
            "color": "#EF553B",
            "symbol": "circle"
           },
           "mode": "markers",
           "name": "MID",
           "orientation": "v",
           "showlegend": true,
           "type": "scatter",
           "x": [
            23.1713,
            5.52205,
            4.21744,
            3.20821,
            2.04308,
            3.3148700000000004,
            1.28,
            0.8779489999999999,
            1.17333,
            1.22256,
            6.81026,
            1.17333,
            3.3641,
            0.927179,
            0.845128,
            1.95282,
            6.29333,
            0.533333,
            0.508718,
            6.94974,
            5.193849999999999,
            0.94359,
            0.598974,
            0.615385,
            4.603079999999999,
            1.6492300000000002,
            5.40718,
            1.37026,
            2.45333,
            1.31282,
            0.615385,
            0.795897,
            2.05949,
            7.48308,
            3.76615,
            7.6882,
            3.0851300000000004,
            0.8205129999999999,
            5.37436,
            2.4861500000000003,
            5.932309999999999,
            9.47692,
            1.6,
            1.48513,
            5.76,
            7.294359999999999,
            0.508718,
            5.24308,
            0.705641,
            1.28821,
            12.3077
           ],
           "xaxis": "x",
           "y": [
            20.0844,
            2.13974,
            3.53887,
            2.30675,
            0.539269,
            0.510114,
            0.336687,
            0.0240204,
            0.0940883,
            0.798431,
            0.8050989999999999,
            0.0386112,
            4.31371,
            0.1247279999999999,
            3.1439000000000004,
            0.735042,
            18.7154,
            0.2214789999999999,
            0.158494,
            32.0509,
            0.606379,
            0.108978,
            0.0830089,
            0.126004,
            0.232366,
            0.118054,
            5.44911,
            0.666922,
            0.862896,
            0.0665559,
            0.0250356999999999,
            0.195722,
            0.543489,
            4.34848,
            0.714671,
            30.8171,
            4.01029,
            0.0541278,
            1.10539,
            0.559762,
            10.3833,
            1.85538,
            0.617149,
            0.238062,
            3.45402,
            1.6444299999999998,
            0.0994195,
            12.3216,
            0.0262502,
            0.139239,
            11.9585
           ],
           "yaxis": "y"
          },
          {
           "customdata": [
            [
             "Alistar"
            ],
            [
             "Anivia"
            ],
            [
             "Ashe"
            ],
            [
             "Bard"
            ],
            [
             "Blitzcrank"
            ],
            [
             "Brand"
            ],
            [
             "Braum"
            ],
            [
             "Fiddlesticks"
            ],
            [
             "Galio"
            ],
            [
             "Gragas"
            ],
            [
             "Janna"
            ],
            [
             "Karma"
            ],
            [
             "Leona"
            ],
            [
             "Lulu"
            ],
            [
             "Lux"
            ],
            [
             "Maokai"
            ],
            [
             "Morgana"
            ],
            [
             "Nami"
            ],
            [
             "Nautilus"
            ],
            [
             "Pantheon"
            ],
            [
             "Pyke"
            ],
            [
             "Rakan"
            ],
            [
             "Rell"
            ],
            [
             "Renata Glasc"
            ],
            [
             "Senna"
            ],
            [
             "Seraphine"
            ],
            [
             "Sett"
            ],
            [
             "Soraka"
            ],
            [
             "Swain"
            ],
            [
             "Syndra"
            ],
            [
             "Tahm Kench"
            ],
            [
             "Taric"
            ],
            [
             "Thresh"
            ],
            [
             "Veigar"
            ],
            [
             "Vel'Koz"
            ],
            [
             "Xerath"
            ],
            [
             "Yuumi"
            ],
            [
             "Zilean"
            ],
            [
             "Zyra"
            ]
           ],
           "hovertemplate": "position=SUPPORT<br>tier=master<br>pick_rate=%{x}<br>ban_rate=%{y}<br>champion=%{customdata[0]}<extra></extra>",
           "legendgroup": "SUPPORT",
           "marker": {
            "color": "#00cc96",
            "symbol": "circle"
           },
           "mode": "markers",
           "name": "SUPPORT",
           "orientation": "v",
           "showlegend": true,
           "type": "scatter",
           "x": [
            7.13352,
            1.24794,
            0.81791,
            5.03394,
            8.49108,
            0.699861,
            2.80788,
            0.657701,
            0.775749,
            1.3154,
            1.7876,
            17.0749,
            7.14195,
            10.8015,
            0.986551,
            2.33568,
            1.02028,
            7.723770000000001,
            22.4461,
            1.12146,
            10.7424,
            7.31903,
            4.06425,
            17.682000000000002,
            17.0749,
            0.539652,
            1.68641,
            1.83819,
            1.85505,
            0.8769340000000001,
            1.53463,
            0.8094779999999999,
            6.888990000000001,
            0.775749,
            0.539652,
            1.5515,
            11.8808,
            2.49589,
            1.58523
           ],
           "xaxis": "x",
           "y": [
            1.33427,
            0.873143,
            0.041849,
            0.247393,
            12.9409,
            0.074449,
            0.0876760999999999,
            0.1206199999999999,
            0.0892398,
            0.0421213,
            0.198987,
            12.7008,
            3.24314,
            3.3266700000000005,
            0.110873,
            0.0597161,
            0.967919,
            2.9448700000000003,
            32.8054,
            0.0781154999999999,
            13.098399999999998,
            0.4544539999999999,
            1.03371,
            12.2149,
            25.5775,
            0.0213638,
            0.147694,
            0.110839,
            0.476365,
            0.16193,
            0.192304,
            0.0465565,
            2.76613,
            0.169961,
            0.0560332,
            0.2420079999999999,
            11.9665,
            0.262514,
            0.126505
           ],
           "yaxis": "y"
          },
          {
           "customdata": [
            [
             "Aphelios"
            ],
            [
             "Ashe"
            ],
            [
             "Caitlyn"
            ],
            [
             "Cassiopeia"
            ],
            [
             "Draven"
            ],
            [
             "Ezreal"
            ],
            [
             "Jhin"
            ],
            [
             "Jinx"
            ],
            [
             "Kai'Sa"
            ],
            [
             "Kalista"
            ],
            [
             "Kog'Maw"
            ],
            [
             "Lucian"
            ],
            [
             "Miss Fortune"
            ],
            [
             "Samira"
            ],
            [
             "Seraphine"
            ],
            [
             "Sivir"
            ],
            [
             "Swain"
            ],
            [
             "Tahm Kench"
            ],
            [
             "Tristana"
            ],
            [
             "Twitch"
            ],
            [
             "Varus"
            ],
            [
             "Vayne"
            ],
            [
             "Veigar"
            ],
            [
             "Xayah"
            ],
            [
             "Xerath"
            ],
            [
             "Yasuo"
            ],
            [
             "Zeri"
            ],
            [
             "Ziggs"
            ]
           ],
           "hovertemplate": "position=ADC<br>tier=master<br>pick_rate=%{x}<br>ban_rate=%{y}<br>champion=%{customdata[0]}<extra></extra>",
           "legendgroup": "ADC",
           "marker": {
            "color": "#ab63fa",
            "symbol": "circle"
           },
           "mode": "markers",
           "name": "ADC",
           "orientation": "v",
           "showlegend": true,
           "type": "scatter",
           "x": [
            7.20973,
            2.00367,
            2.3186600000000004,
            0.5337299999999999,
            6.6235,
            31.7438,
            10.8671,
            6.75475,
            23.0729,
            17.6656,
            9.13466,
            19.013,
            1.31245,
            12.547,
            0.708723,
            1.12871,
            1.79368,
            3.57862,
            3.56987,
            6.99974,
            2.09117,
            3.4736200000000004,
            0.901216,
            11.8383,
            1.12871,
            1.3387,
            1.56619,
            2.06492
           ],
           "xaxis": "x",
           "y": [
            0.169701,
            0.0987982,
            0.11961,
            0.131653,
            8.74834,
            9.38797,
            0.1055879999999999,
            0.149976,
            0.737268,
            27.9323,
            13.1056,
            46.5749,
            0.0787524,
            27.2925,
            0.0270385,
            0.0350347,
            0.443885,
            0.432155,
            0.220842,
            2.10006,
            0.0436089999999999,
            2.68846,
            0.190282,
            1.11072,
            0.169668,
            0.7528,
            0.143389,
            0.0720353
           ],
           "yaxis": "y"
          },
          {
           "customdata": [
            [
             "Diana"
            ],
            [
             "Ekko"
            ],
            [
             "Elise"
            ],
            [
             "Fiddlesticks"
            ],
            [
             "Graves"
            ],
            [
             "Hecarim"
            ],
            [
             "Ivern"
            ],
            [
             "Jarvan IV"
            ],
            [
             "Karthus"
            ],
            [
             "Kayn"
            ],
            [
             "Kha'Zix"
            ],
            [
             "Kindred"
            ],
            [
             "Lee Sin"
            ],
            [
             "Lillia"
            ],
            [
             "Nidalee"
            ],
            [
             "Nocturne"
            ],
            [
             "Nunu & Willump"
            ],
            [
             "Olaf"
            ],
            [
             "Poppy"
            ],
            [
             "Qiyana"
            ],
            [
             "Rammus"
            ],
            [
             "Rek'Sai"
            ],
            [
             "Rengar"
            ],
            [
             "Sejuani"
            ],
            [
             "Shaco"
            ],
            [
             "Shyvana"
            ],
            [
             "Taliyah"
            ],
            [
             "Talon"
            ],
            [
             "Udyr"
            ],
            [
             "Vi"
            ],
            [
             "Viego"
            ],
            [
             "Volibear"
            ],
            [
             "Wukong"
            ],
            [
             "Xin Zhao"
            ],
            [
             "Zac"
            ],
            [
             "Zed"
            ]
           ],
           "hovertemplate": "position=JUNGLE<br>tier=master<br>pick_rate=%{x}<br>ban_rate=%{y}<br>champion=%{customdata[0]}<extra></extra>",
           "legendgroup": "JUNGLE",
           "marker": {
            "color": "#FFA15A",
            "symbol": "circle"
           },
           "mode": "markers",
           "name": "JUNGLE",
           "orientation": "v",
           "showlegend": true,
           "type": "scatter",
           "x": [
            7.016360000000001,
            2.6733,
            1.39147,
            1.45893,
            24.2115,
            2.91786,
            0.961376,
            0.94451,
            4.65509,
            2.97689,
            2.53837,
            8.905380000000001,
            15.4579,
            3.27205,
            11.9666,
            1.6107300000000002,
            0.902344,
            0.7927139999999999,
            2.58054,
            2.7239,
            0.53972,
            7.42958,
            1.93962,
            0.8011469999999999,
            2.10828,
            0.961376,
            9.6222,
            11.7895,
            0.6662170000000001,
            0.624051,
            30.2075,
            0.775848,
            22.002,
            1.59386,
            2.55524,
            2.20105
           ],
           "xaxis": "x",
           "y": [
            1.15283,
            0.208573,
            0.98703,
            0.2675289999999999,
            26.7694,
            0.273897,
            0.218887,
            0.0698271,
            16.8489,
            0.377976,
            0.324772,
            3.87084,
            5.04488,
            0.442881,
            25.7289,
            0.288395,
            0.3576709999999999,
            0.83692,
            1.43484,
            2.67081,
            0.8241180000000001,
            15.7564,
            1.5646,
            0.0578183,
            2.4371,
            0.12152,
            37.5264,
            14.9106,
            0.118396,
            0.0654336,
            8.05829,
            0.0609167,
            30.5396,
            0.1168269999999999,
            0.485873,
            5.03276
           ],
           "yaxis": "y"
          }
         ],
         "name": "master"
        },
        {
         "data": [
          {
           "customdata": [
            [
             "Aatrox"
            ],
            [
             "Akali"
            ],
            [
             "Akshan"
            ],
            [
             "Camille"
            ],
            [
             "Cassiopeia"
            ],
            [
             "Darius"
            ],
            [
             "Dr. Mundo"
            ],
            [
             "Fiora"
            ],
            [
             "Gangplank"
            ],
            [
             "Garen"
            ],
            [
             "Gnar"
            ],
            [
             "Gragas"
            ],
            [
             "Graves"
            ],
            [
             "Gwen"
            ],
            [
             "Heimerdinger"
            ],
            [
             "Illaoi"
            ],
            [
             "Irelia"
            ],
            [
             "Jax"
            ],
            [
             "Jayce"
            ],
            [
             "Kayle"
            ],
            [
             "Kayn"
            ],
            [
             "Kennen"
            ],
            [
             "Kled"
            ],
            [
             "Lillia"
            ],
            [
             "Malphite"
            ],
            [
             "Maokai"
            ],
            [
             "Mordekaiser"
            ],
            [
             "Nasus"
            ],
            [
             "Olaf"
            ],
            [
             "Ornn"
            ],
            [
             "Pantheon"
            ],
            [
             "Poppy"
            ],
            [
             "Quinn"
            ],
            [
             "Renekton"
            ],
            [
             "Rengar"
            ],
            [
             "Riven"
            ],
            [
             "Rumble"
            ],
            [
             "Sejuani"
            ],
            [
             "Sett"
            ],
            [
             "Shen"
            ],
            [
             "Singed"
            ],
            [
             "Sion"
            ],
            [
             "Swain"
            ],
            [
             "Sylas"
            ],
            [
             "Tahm Kench"
            ],
            [
             "Teemo"
            ],
            [
             "Trundle"
            ],
            [
             "Tryndamere"
            ],
            [
             "Urgot"
            ],
            [
             "Vayne"
            ],
            [
             "Viktor"
            ],
            [
             "Vladimir"
            ],
            [
             "Volibear"
            ],
            [
             "Warwick"
            ],
            [
             "Wukong"
            ],
            [
             "Yasuo"
            ],
            [
             "Yone"
            ],
            [
             "Yorick"
            ],
            [
             "Zac"
            ]
           ],
           "hovertemplate": "position=TOP<br>tier=diamond<br>pick_rate=%{x}<br>ban_rate=%{y}<br>champion=%{customdata[0]}<extra></extra>",
           "legendgroup": "TOP",
           "marker": {
            "color": "#636efa",
            "symbol": "circle"
           },
           "mode": "markers",
           "name": "TOP",
           "orientation": "v",
           "showlegend": true,
           "type": "scatter",
           "x": [
            7.97789,
            3.8686,
            2.03069,
            6.468309999999999,
            0.921874,
            6.487,
            1.02937,
            9.23977,
            9.04465,
            3.13835,
            3.90716,
            1.87646,
            3.04487,
            13.0114,
            0.74895,
            0.9616,
            5.583819999999999,
            6.85505,
            8.40787,
            6.88426,
            0.502416,
            2.32747,
            1.61825,
            1.76079,
            2.88831,
            0.656646,
            3.2435,
            1.41261,
            6.350300000000001,
            2.49923,
            1.1450399999999998,
            2.70136,
            1.42896,
            3.81018,
            3.29842,
            3.40942,
            3.72839,
            1.41962,
            4.5381,
            3.4339500000000003,
            1.51543,
            2.07626,
            3.81135,
            1.8531,
            1.0983,
            1.6789999999999998,
            0.502416,
            2.02836,
            0.9616,
            1.7946799999999998,
            1.14621,
            2.83339,
            1.6813399999999998,
            0.794518,
            2.3263,
            1.32731,
            4.27871,
            0.793349,
            1.47336
           ],
           "xaxis": "x",
           "y": [
            2.60371,
            2.79031,
            1.85295,
            1.28471,
            0.185816,
            9.02393,
            0.055099,
            14.0602,
            37.8827,
            0.7053389999999999,
            0.339335,
            0.167071,
            5.038390000000001,
            10.3726,
            0.2476749999999999,
            0.187159,
            7.94917,
            6.00749,
            1.61063,
            6.07382,
            0.0784927,
            0.721193,
            0.352093,
            0.260672,
            2.48427,
            0.0415457,
            0.298163,
            0.408487,
            18.5672,
            0.0642069,
            0.146049,
            3.15543,
            0.389346,
            2.32602,
            2.15089,
            0.58249,
            1.00976,
            0.0942974999999999,
            0.506529,
            0.238059,
            0.384678,
            0.106075,
            1.6941500000000005,
            0.856641,
            0.338314,
            1.2170800000000002,
            0.0806189,
            2.02981,
            0.059887,
            1.7579399999999998,
            0.337265,
            0.573773,
            0.171424,
            0.0854346,
            4.49257,
            1.43153,
            1.7192200000000002,
            0.229785,
            0.23198
           ],
           "yaxis": "y"
          },
          {
           "customdata": [
            [
             "Ahri"
            ],
            [
             "Akali"
            ],
            [
             "Akshan"
            ],
            [
             "Anivia"
            ],
            [
             "Annie"
            ],
            [
             "Aurelion Sol"
            ],
            [
             "Azir"
            ],
            [
             "Brand"
            ],
            [
             "Cassiopeia"
            ],
            [
             "Corki"
            ],
            [
             "Diana"
            ],
            [
             "Ekko"
            ],
            [
             "Fizz"
            ],
            [
             "Galio"
            ],
            [
             "Gragas"
            ],
            [
             "Irelia"
            ],
            [
             "Jayce"
            ],
            [
             "Karthus"
            ],
            [
             "Kassadin"
            ],
            [
             "Katarina"
            ],
            [
             "LeBlanc"
            ],
            [
             "Lissandra"
            ],
            [
             "Lux"
            ],
            [
             "Malzahar"
            ],
            [
             "Neeko"
            ],
            [
             "Nunu & Willump"
            ],
            [
             "Orianna"
            ],
            [
             "Pantheon"
            ],
            [
             "Qiyana"
            ],
            [
             "Renekton"
            ],
            [
             "Rumble"
            ],
            [
             "Ryze"
            ],
            [
             "Sett"
            ],
            [
             "Singed"
            ],
            [
             "Swain"
            ],
            [
             "Sylas"
            ],
            [
             "Syndra"
            ],
            [
             "Taliyah"
            ],
            [
             "Talon"
            ],
            [
             "Twisted Fate"
            ],
            [
             "Veigar"
            ],
            [
             "Vel'Koz"
            ],
            [
             "Vex"
            ],
            [
             "Viktor"
            ],
            [
             "Vladimir"
            ],
            [
             "Xerath"
            ],
            [
             "Yasuo"
            ],
            [
             "Yone"
            ],
            [
             "Zed"
            ],
            [
             "Zilean"
            ],
            [
             "Zoe"
            ]
           ],
           "hovertemplate": "position=MID<br>tier=diamond<br>pick_rate=%{x}<br>ban_rate=%{y}<br>champion=%{customdata[0]}<extra></extra>",
           "legendgroup": "MID",
           "marker": {
            "color": "#EF553B",
            "symbol": "circle"
           },
           "mode": "markers",
           "name": "MID",
           "orientation": "v",
           "showlegend": true,
           "type": "scatter",
           "x": [
            19.8023,
            5.61791,
            3.11137,
            4.14539,
            0.8804879999999999,
            1.01076,
            2.38441,
            0.668799,
            2.03896,
            0.7409129999999999,
            1.33527,
            1.43414,
            2.07967,
            3.83484,
            0.60948,
            4.78744,
            0.759523,
            0.50945,
            3.49753,
            7.26723,
            6.8927000000000005,
            4.19075,
            0.908404,
            1.38529,
            0.921198,
            0.764176,
            3.90695,
            1.49695,
            3.71969,
            0.790928,
            1.91451,
            1.60163,
            0.575749,
            1.88659,
            2.33091,
            8.09887,
            2.64495,
            5.52602,
            3.61849,
            7.56034,
            3.85577,
            0.676941,
            5.9401,
            10.788,
            2.64961,
            2.05757,
            7.836,
            7.599880000000001,
            7.25327,
            0.818843,
            6.57866
           ],
           "xaxis": "x",
           "y": [
            19.4518,
            4.0704400000000005,
            2.85192,
            5.94034,
            0.0577591,
            0.108843,
            0.339061,
            0.0376345,
            0.4128449999999999,
            0.0288275,
            0.2967909999999999,
            0.160092,
            1.12034,
            0.457484,
            0.0545113999999999,
            6.84637,
            0.146156,
            1.2758,
            1.3772,
            8.97562,
            21.7847,
            0.625216,
            0.0942639,
            0.175737,
            0.117193,
            0.219393,
            0.153399,
            0.191801,
            2.60619,
            0.485033,
            0.520859,
            0.0921031,
            0.064555,
            0.48107,
            1.0408,
            3.7609,
            0.729045,
            26.3045,
            5.81684,
            0.903888,
            0.684438,
            0.0430189,
            14.1893,
            3.18872,
            0.538992,
            1.2501,
            8.48961,
            3.0675600000000003,
            24.021,
            0.153005,
            3.37281
           ],
           "yaxis": "y"
          },
          {
           "customdata": [
            [
             "Alistar"
            ],
            [
             "Anivia"
            ],
            [
             "Ashe"
            ],
            [
             "Bard"
            ],
            [
             "Blitzcrank"
            ],
            [
             "Brand"
            ],
            [
             "Braum"
            ],
            [
             "Gragas"
            ],
            [
             "Heimerdinger"
            ],
            [
             "Janna"
            ],
            [
             "Karma"
            ],
            [
             "Leona"
            ],
            [
             "Lulu"
            ],
            [
             "Lux"
            ],
            [
             "Maokai"
            ],
            [
             "Morgana"
            ],
            [
             "Nami"
            ],
            [
             "Nautilus"
            ],
            [
             "Neeko"
            ],
            [
             "Pantheon"
            ],
            [
             "Poppy"
            ],
            [
             "Pyke"
            ],
            [
             "Rakan"
            ],
            [
             "Rell"
            ],
            [
             "Renata Glasc"
            ],
            [
             "Senna"
            ],
            [
             "Seraphine"
            ],
            [
             "Sett"
            ],
            [
             "Shaco"
            ],
            [
             "Sona"
            ],
            [
             "Soraka"
            ],
            [
             "Swain"
            ],
            [
             "Tahm Kench"
            ],
            [
             "Taric"
            ],
            [
             "Thresh"
            ],
            [
             "Veigar"
            ],
            [
             "Vel'Koz"
            ],
            [
             "Xerath"
            ],
            [
             "Yuumi"
            ],
            [
             "Zac"
            ],
            [
             "Zilean"
            ],
            [
             "Zyra"
            ]
           ],
           "hovertemplate": "position=SUPPORT<br>tier=diamond<br>pick_rate=%{x}<br>ban_rate=%{y}<br>champion=%{customdata[0]}<extra></extra>",
           "legendgroup": "SUPPORT",
           "marker": {
            "color": "#00cc96",
            "symbol": "circle"
           },
           "mode": "markers",
           "name": "SUPPORT",
           "orientation": "v",
           "showlegend": true,
           "type": "scatter",
           "x": [
            5.67569,
            0.721584,
            0.895919,
            3.4913100000000004,
            12.4182,
            1.36928,
            2.4637800000000003,
            0.7596839999999999,
            0.639612,
            1.51937,
            12.073,
            7.368239999999999,
            14.763000000000002,
            3.29042,
            2.91404,
            2.69815,
            6.6316500000000005,
            17.0929,
            0.531086,
            1.412,
            0.6765570000000001,
            9.11159,
            4.4184,
            1.88997,
            11.0951,
            15.346099999999998,
            0.86821,
            1.10373,
            1.44317,
            1.37967,
            4.432259999999999,
            2.61387,
            1.11874,
            1.00098,
            9.39676,
            0.6742480000000001,
            1.03908,
            4.3756900000000005,
            15.3726,
            0.777002,
            4.07435,
            1.81146
           ],
           "xaxis": "x",
           "y": [
            1.2772800000000002,
            1.04173,
            0.0249212,
            0.1503229999999999,
            30.0314,
            0.0776251999999999,
            0.155054,
            0.0684512999999999,
            0.21406,
            0.0754047,
            8.70936,
            7.86745,
            6.29874,
            0.343985,
            0.186586,
            4.63225,
            1.65482,
            36.1448,
            0.0680666,
            0.1822639999999999,
            0.799777,
            10.089,
            0.260161,
            0.466009,
            8.84126,
            29.7521,
            0.0440176,
            0.124676,
            2.02698,
            0.0366331,
            0.259343,
            1.17583,
            0.348751,
            0.0757123,
            2.91385,
            0.120577,
            0.0665241,
            2.67829,
            14.274500000000002,
            0.123809,
            0.766984,
            0.167207
           ],
           "yaxis": "y"
          },
          {
           "customdata": [
            [
             "Aphelios"
            ],
            [
             "Ashe"
            ],
            [
             "Caitlyn"
            ],
            [
             "Draven"
            ],
            [
             "Ezreal"
            ],
            [
             "Jhin"
            ],
            [
             "Jinx"
            ],
            [
             "Kai'Sa"
            ],
            [
             "Kalista"
            ],
            [
             "Kog'Maw"
            ],
            [
             "Lucian"
            ],
            [
             "Miss Fortune"
            ],
            [
             "Samira"
            ],
            [
             "Sivir"
            ],
            [
             "Swain"
            ],
            [
             "Tahm Kench"
            ],
            [
             "Tristana"
            ],
            [
             "Twitch"
            ],
            [
             "Varus"
            ],
            [
             "Vayne"
            ],
            [
             "Xayah"
            ],
            [
             "Yasuo"
            ],
            [
             "Zeri"
            ],
            [
             "Ziggs"
            ]
           ],
           "hovertemplate": "position=ADC<br>tier=diamond<br>pick_rate=%{x}<br>ban_rate=%{y}<br>champion=%{customdata[0]}<extra></extra>",
           "legendgroup": "ADC",
           "marker": {
            "color": "#ab63fa",
            "symbol": "circle"
           },
           "mode": "markers",
           "name": "ADC",
           "orientation": "v",
           "showlegend": true,
           "type": "scatter",
           "x": [
            6.074870000000001,
            4.32246,
            3.40247,
            3.10339,
            34.1498,
            14.8585,
            6.85953,
            26.55,
            9.13505,
            10.5577,
            22.0945,
            2.44041,
            14.6743,
            1.5909300000000002,
            2.07424,
            1.95028,
            3.21939,
            5.01501,
            1.94801,
            6.56273,
            9.2283,
            0.971161,
            2.16635,
            1.3453
           ],
           "xaxis": "x",
           "y": [
            0.283768,
            0.122069,
            0.4784319999999999,
            1.98119,
            8.7016,
            0.494272,
            0.160209,
            1.21334,
            5.33934,
            14.4016,
            50.127500000000005,
            0.171057,
            35.5506,
            0.148219,
            0.947311,
            0.617243,
            0.218115,
            0.889655,
            0.0523349,
            6.6048800000000005,
            1.25305,
            1.07617,
            0.448695,
            0.0651699
           ],
           "yaxis": "y"
          },
          {
           "customdata": [
            [
             "Diana"
            ],
            [
             "Ekko"
            ],
            [
             "Elise"
            ],
            [
             "Evelynn"
            ],
            [
             "Fiddlesticks"
            ],
            [
             "Graves"
            ],
            [
             "Gwen"
            ],
            [
             "Hecarim"
            ],
            [
             "Ivern"
            ],
            [
             "Jarvan IV"
            ],
            [
             "Karthus"
            ],
            [
             "Kayn"
            ],
            [
             "Kha'Zix"
            ],
            [
             "Kindred"
            ],
            [
             "Lee Sin"
            ],
            [
             "Lillia"
            ],
            [
             "Master Yi"
            ],
            [
             "Mordekaiser"
            ],
            [
             "Nidalee"
            ],
            [
             "Nocturne"
            ],
            [
             "Nunu & Willump"
            ],
            [
             "Olaf"
            ],
            [
             "Poppy"
            ],
            [
             "Qiyana"
            ],
            [
             "Rammus"
            ],
            [
             "Rek'Sai"
            ],
            [
             "Rengar"
            ],
            [
             "Rumble"
            ],
            [
             "Sejuani"
            ],
            [
             "Shaco"
            ],
            [
             "Shyvana"
            ],
            [
             "Taliyah"
            ],
            [
             "Talon"
            ],
            [
             "Trundle"
            ],
            [
             "Udyr"
            ],
            [
             "Vi"
            ],
            [
             "Viego"
            ],
            [
             "Volibear"
            ],
            [
             "Warwick"
            ],
            [
             "Wukong"
            ],
            [
             "Xin Zhao"
            ],
            [
             "Zac"
            ],
            [
             "Zed"
            ]
           ],
           "hovertemplate": "position=JUNGLE<br>tier=diamond<br>pick_rate=%{x}<br>ban_rate=%{y}<br>champion=%{customdata[0]}<extra></extra>",
           "legendgroup": "JUNGLE",
           "marker": {
            "color": "#FFA15A",
            "symbol": "circle"
           },
           "mode": "markers",
           "name": "JUNGLE",
           "orientation": "v",
           "showlegend": true,
           "type": "scatter",
           "x": [
            8.20933,
            4.53514,
            2.30015,
            1.55437,
            2.40602,
            19.6147,
            1.58695,
            3.2123,
            0.8504849999999999,
            1.87665,
            4.9854,
            5.81959,
            3.47175,
            9.11682,
            15.964900000000002,
            3.08781,
            2.34436,
            0.5200640000000001,
            10.0162,
            2.56891,
            1.69399,
            0.657351,
            2.78298,
            1.67421,
            1.93133,
            6.13373,
            1.88596,
            0.500285,
            1.32517,
            3.15296,
            1.22512,
            7.810259999999999,
            11.211,
            0.8237249999999999,
            0.5677650000000001,
            1.61255,
            20.1452,
            1.48457,
            1.15764,
            16.5408,
            2.09771,
            3.77773,
            2.41068
           ],
           "xaxis": "x",
           "y": [
            1.82418,
            0.5061129999999999,
            2.2882,
            0.588704,
            0.6456540000000001,
            32.5949,
            1.27049,
            0.557809,
            0.094444,
            0.049838,
            12.4813,
            0.913071,
            0.347963,
            4.43444,
            8.793,
            0.459074,
            0.348827,
            0.048011,
            15.0595,
            1.30748,
            0.4862039999999999,
            1.93017,
            3.26462,
            1.1727,
            0.550841,
            15.493299999999998,
            1.23507,
            0.136069,
            0.0883991,
            4.39448,
            0.045266,
            37.1674,
            18.0171,
            0.13274,
            0.0760682,
            0.0984181,
            6.83146,
            0.152007,
            0.125011,
            32.079800000000006,
            0.4809589999999999,
            0.597335,
            7.98131
           ],
           "yaxis": "y"
          }
         ],
         "name": "diamond"
        },
        {
         "data": [
          {
           "customdata": [
            [
             "Aatrox"
            ],
            [
             "Akali"
            ],
            [
             "Akshan"
            ],
            [
             "Camille"
            ],
            [
             "Cassiopeia"
            ],
            [
             "Cho'Gath"
            ],
            [
             "Darius"
            ],
            [
             "Dr. Mundo"
            ],
            [
             "Fiora"
            ],
            [
             "Gangplank"
            ],
            [
             "Garen"
            ],
            [
             "Gnar"
            ],
            [
             "Gragas"
            ],
            [
             "Graves"
            ],
            [
             "Gwen"
            ],
            [
             "Heimerdinger"
            ],
            [
             "Illaoi"
            ],
            [
             "Irelia"
            ],
            [
             "Jax"
            ],
            [
             "Jayce"
            ],
            [
             "Kayle"
            ],
            [
             "Kayn"
            ],
            [
             "Kennen"
            ],
            [
             "Kled"
            ],
            [
             "Lillia"
            ],
            [
             "Malphite"
            ],
            [
             "Maokai"
            ],
            [
             "Mordekaiser"
            ],
            [
             "Nasus"
            ],
            [
             "Olaf"
            ],
            [
             "Ornn"
            ],
            [
             "Pantheon"
            ],
            [
             "Poppy"
            ],
            [
             "Quinn"
            ],
            [
             "Renekton"
            ],
            [
             "Rengar"
            ],
            [
             "Riven"
            ],
            [
             "Rumble"
            ],
            [
             "Ryze"
            ],
            [
             "Sejuani"
            ],
            [
             "Sett"
            ],
            [
             "Shen"
            ],
            [
             "Singed"
            ],
            [
             "Sion"
            ],
            [
             "Swain"
            ],
            [
             "Sylas"
            ],
            [
             "Tahm Kench"
            ],
            [
             "Teemo"
            ],
            [
             "Trundle"
            ],
            [
             "Tryndamere"
            ],
            [
             "Urgot"
            ],
            [
             "Vayne"
            ],
            [
             "Viktor"
            ],
            [
             "Vladimir"
            ],
            [
             "Volibear"
            ],
            [
             "Warwick"
            ],
            [
             "Wukong"
            ],
            [
             "Xin Zhao"
            ],
            [
             "Yasuo"
            ],
            [
             "Yone"
            ],
            [
             "Yorick"
            ],
            [
             "Zac"
            ]
           ],
           "hovertemplate": "position=TOP<br>tier=platinum<br>pick_rate=%{x}<br>ban_rate=%{y}<br>champion=%{customdata[0]}<extra></extra>",
           "legendgroup": "TOP",
           "marker": {
            "color": "#636efa",
            "symbol": "circle"
           },
           "mode": "markers",
           "name": "TOP",
           "orientation": "v",
           "showlegend": true,
           "type": "scatter",
           "x": [
            6.308999999999999,
            4.03198,
            1.16571,
            5.36201,
            0.5773269999999999,
            0.754451,
            7.51456,
            1.10899,
            8.43246,
            10.2904,
            3.9107,
            3.64894,
            1.42892,
            2.89012,
            10.8427,
            0.661381,
            1.54468,
            6.51376,
            6.09,
            7.58756,
            8.40832,
            0.973167,
            2.20751,
            1.59703,
            2.91514,
            3.59513,
            0.6480020000000001,
            3.59426,
            2.6144,
            6.44105,
            2.5882300000000003,
            0.750089,
            2.19733,
            1.50221,
            3.41917,
            2.3040700000000003,
            3.46658,
            2.71504,
            0.7823729999999999,
            1.18287,
            4.61105,
            2.47393,
            1.30066,
            2.08507,
            4.21725,
            1.8838,
            1.21864,
            2.63622,
            0.990036,
            1.61593,
            1.05518,
            2.78222,
            1.5249,
            2.54431,
            1.76397,
            1.1087,
            2.22787,
            0.504034,
            1.45975,
            4.262040000000001,
            1.1401100000000002,
            1.1532
           ],
           "xaxis": "x",
           "y": [
            2.72082,
            4.03954,
            1.08085,
            1.14475,
            0.140573,
            0.0216486,
            13.0413,
            0.107334,
            10.3079,
            34.8263,
            1.21799,
            0.356778,
            0.112921,
            5.431620000000001,
            8.140640000000001,
            0.2926559999999999,
            0.423327,
            10.1302,
            2.58727,
            1.61464,
            8.26682,
            0.2240799999999999,
            0.503942,
            0.423498,
            0.628693,
            3.59284,
            0.037712,
            0.548662,
            0.5402020000000001,
            22.7718,
            0.125558,
            0.119556,
            2.91786,
            0.680731,
            2.16241,
            1.3275199999999998,
            0.498033,
            0.50113,
            0.0646456,
            0.0596467,
            1.06751,
            0.169046,
            0.341614,
            0.103333,
            2.77433,
            0.910062,
            0.573904,
            4.24314,
            0.0902208999999999,
            2.39125,
            0.0673431999999999,
            3.18796,
            0.509307,
            0.492132,
            0.342674,
            0.127192,
            3.96335,
            0.168322,
            1.80386,
            2.1489700000000003,
            0.266276,
            0.1703059999999999
           ],
           "yaxis": "y"
          },
          {
           "customdata": [
            [
             "Ahri"
            ],
            [
             "Akali"
            ],
            [
             "Akshan"
            ],
            [
             "Anivia"
            ],
            [
             "Annie"
            ],
            [
             "Aurelion Sol"
            ],
            [
             "Azir"
            ],
            [
             "Brand"
            ],
            [
             "Cassiopeia"
            ],
            [
             "Corki"
            ],
            [
             "Diana"
            ],
            [
             "Ekko"
            ],
            [
             "Fizz"
            ],
            [
             "Galio"
            ],
            [
             "Garen"
            ],
            [
             "Irelia"
            ],
            [
             "Jayce"
            ],
            [
             "Kassadin"
            ],
            [
             "Katarina"
            ],
            [
             "LeBlanc"
            ],
            [
             "Lissandra"
            ],
            [
             "Lux"
            ],
            [
             "Malphite"
            ],
            [
             "Malzahar"
            ],
            [
             "Neeko"
            ],
            [
             "Nunu & Willump"
            ],
            [
             "Orianna"
            ],
            [
             "Pantheon"
            ],
            [
             "Qiyana"
            ],
            [
             "Renekton"
            ],
            [
             "Rumble"
            ],
            [
             "Ryze"
            ],
            [
             "Sett"
            ],
            [
             "Singed"
            ],
            [
             "Swain"
            ],
            [
             "Sylas"
            ],
            [
             "Syndra"
            ],
            [
             "Taliyah"
            ],
            [
             "Talon"
            ],
            [
             "Tristana"
            ],
            [
             "Twisted Fate"
            ],
            [
             "Veigar"
            ],
            [
             "Vel'Koz"
            ],
            [
             "Vex"
            ],
            [
             "Viktor"
            ],
            [
             "Vladimir"
            ],
            [
             "Xerath"
            ],
            [
             "Yasuo"
            ],
            [
             "Yone"
            ],
            [
             "Zed"
            ],
            [
             "Zilean"
            ],
            [
             "Zoe"
            ]
           ],
           "hovertemplate": "position=MID<br>tier=platinum<br>pick_rate=%{x}<br>ban_rate=%{y}<br>champion=%{customdata[0]}<extra></extra>",
           "legendgroup": "MID",
           "marker": {
            "color": "#EF553B",
            "symbol": "circle"
           },
           "mode": "markers",
           "name": "MID",
           "orientation": "v",
           "showlegend": true,
           "type": "scatter",
           "x": [
            17.9978,
            5.73208,
            2.61096,
            4.47767,
            0.911218,
            0.529253,
            2.52618,
            1.20811,
            2.07563,
            1.09497,
            1.1646999999999998,
            1.43468,
            2.48798,
            2.12511,
            0.549219,
            6.6595,
            0.7705850000000001,
            2.78342,
            7.03105,
            7.337200000000001,
            4.28611,
            1.65402,
            0.660915,
            1.91648,
            0.765377,
            0.73181,
            3.23628,
            1.46854,
            2.14826,
            0.718788,
            1.36061,
            1.76601,
            0.599858,
            1.98795,
            2.45268,
            7.94313,
            2.4706200000000003,
            5.214980000000001,
            3.11388,
            0.666413,
            7.94776,
            3.38878,
            0.5205719999999999,
            6.28448,
            10.9517,
            2.99756,
            2.76982,
            9.42672,
            8.60347,
            8.7687,
            0.756696,
            4.8987
           ],
           "xaxis": "x",
           "y": [
            17.5644,
            5.77214,
            2.43326,
            6.40881,
            0.072276,
            0.0463973,
            0.2095399999999999,
            0.0812497,
            0.507976,
            0.0369566,
            0.324459,
            0.229975,
            1.32321,
            0.2620889999999999,
            0.171928,
            10.4097,
            0.164819,
            1.04043,
            6.27209,
            19.0497,
            0.6413369999999999,
            0.270877,
            0.6638660000000001,
            0.328652,
            0.0963014,
            0.284267,
            0.105671,
            0.235265,
            0.866282,
            0.4569089999999999,
            0.252417,
            0.146666,
            0.139583,
            0.524796,
            1.62174,
            3.85691,
            0.385802,
            21.0135,
            5.03346,
            0.067626,
            0.7917179999999999,
            0.636378,
            0.0238559,
            14.9091,
            3.67647,
            0.5827610000000001,
            3.14464,
            11.7084,
            4.36012,
            33.0578,
            0.143208,
            1.35096
           ],
           "yaxis": "y"
          },
          {
           "customdata": [
            [
             "Alistar"
            ],
            [
             "Anivia"
            ],
            [
             "Ashe"
            ],
            [
             "Bard"
            ],
            [
             "Blitzcrank"
            ],
            [
             "Brand"
            ],
            [
             "Braum"
            ],
            [
             "Galio"
            ],
            [
             "Gragas"
            ],
            [
             "Janna"
            ],
            [
             "Karma"
            ],
            [
             "Leona"
            ],
            [
             "Lulu"
            ],
            [
             "Lux"
            ],
            [
             "Maokai"
            ],
            [
             "Miss Fortune"
            ],
            [
             "Morgana"
            ],
            [
             "Nami"
            ],
            [
             "Nautilus"
            ],
            [
             "Neeko"
            ],
            [
             "Pantheon"
            ],
            [
             "Poppy"
            ],
            [
             "Pyke"
            ],
            [
             "Rakan"
            ],
            [
             "Rell"
            ],
            [
             "Renata Glasc"
            ],
            [
             "Senna"
            ],
            [
             "Seraphine"
            ],
            [
             "Sett"
            ],
            [
             "Shaco"
            ],
            [
             "Sona"
            ],
            [
             "Soraka"
            ],
            [
             "Swain"
            ],
            [
             "Syndra"
            ],
            [
             "Tahm Kench"
            ],
            [
             "Taric"
            ],
            [
             "Thresh"
            ],
            [
             "Twitch"
            ],
            [
             "Veigar"
            ],
            [
             "Vel'Koz"
            ],
            [
             "Xerath"
            ],
            [
             "Yuumi"
            ],
            [
             "Zac"
            ],
            [
             "Zilean"
            ],
            [
             "Zyra"
            ]
           ],
           "hovertemplate": "position=SUPPORT<br>tier=platinum<br>pick_rate=%{x}<br>ban_rate=%{y}<br>champion=%{customdata[0]}<extra></extra>",
           "legendgroup": "SUPPORT",
           "marker": {
            "color": "#00cc96",
            "symbol": "circle"
           },
           "mode": "markers",
           "name": "SUPPORT",
           "orientation": "v",
           "showlegend": true,
           "type": "scatter",
           "x": [
            5.27124,
            0.5673509999999999,
            1.24793,
            2.39545,
            12.2234,
            2.2050400000000003,
            2.11177,
            0.5012,
            0.619498,
            1.42136,
            10.3792,
            7.34964,
            13.6435,
            6.23461,
            2.38145,
            0.7038260000000001,
            4.162459999999999,
            7.43308,
            15.4457,
            0.6087699999999999,
            1.97768,
            0.5718209999999999,
            7.59756,
            3.0700700000000003,
            1.42225,
            7.73672,
            16.7136,
            0.989289,
            0.8712900000000001,
            1.9607,
            1.38262,
            3.91931,
            4.00632,
            0.5071599999999999,
            1.14126,
            0.7223,
            9.51744,
            0.601023,
            0.653765,
            1.6653999999999998,
            8.07016,
            11.9886,
            0.935057,
            4.1279,
            2.4181
           ],
           "xaxis": "x",
           "y": [
            1.28639,
            0.7885730000000001,
            0.0506976,
            0.0876311999999999,
            34.5675,
            0.144011,
            0.0934764,
            0.0600264999999999,
            0.0477842,
            0.0630817,
            7.390670000000001,
            12.9888,
            7.21936,
            0.991525,
            0.135276,
            0.0745485,
            9.43981,
            2.43066,
            32.427499999999995,
            0.0743832,
            0.307675,
            0.741147,
            7.88847,
            0.238761,
            0.445924,
            6.91629,
            30.7839,
            0.0589981999999999,
            0.196884,
            4.9716000000000005,
            0.0343339,
            0.2504699999999999,
            2.57247,
            0.0769074,
            0.524594,
            0.0561945,
            2.54906,
            0.0777759,
            0.119222,
            0.0741136,
            8.89744,
            10.4355,
            0.134784,
            0.758649,
            0.246909
           ],
           "yaxis": "y"
          },
          {
           "customdata": [
            [
             "Aphelios"
            ],
            [
             "Ashe"
            ],
            [
             "Caitlyn"
            ],
            [
             "Draven"
            ],
            [
             "Ezreal"
            ],
            [
             "Jhin"
            ],
            [
             "Jinx"
            ],
            [
             "Kai'Sa"
            ],
            [
             "Kalista"
            ],
            [
             "Kog'Maw"
            ],
            [
             "Lucian"
            ],
            [
             "Miss Fortune"
            ],
            [
             "Samira"
            ],
            [
             "Sivir"
            ],
            [
             "Swain"
            ],
            [
             "Tahm Kench"
            ],
            [
             "Tristana"
            ],
            [
             "Twitch"
            ],
            [
             "Varus"
            ],
            [
             "Vayne"
            ],
            [
             "Xayah"
            ],
            [
             "Yasuo"
            ],
            [
             "Zeri"
            ],
            [
             "Ziggs"
            ]
           ],
           "hovertemplate": "position=ADC<br>tier=platinum<br>pick_rate=%{x}<br>ban_rate=%{y}<br>champion=%{customdata[0]}<extra></extra>",
           "legendgroup": "ADC",
           "marker": {
            "color": "#ab63fa",
            "symbol": "circle"
           },
           "mode": "markers",
           "name": "ADC",
           "orientation": "v",
           "showlegend": true,
           "type": "scatter",
           "x": [
            4.602259999999999,
            5.47293,
            5.15578,
            2.90841,
            33.3988,
            15.7947,
            7.77548,
            27.2239,
            6.34503,
            11.2644,
            21.801,
            4.15426,
            15.1886,
            2.21836,
            1.4771,
            1.95923,
            3.40789,
            3.94975,
            1.96321,
            7.859389999999999,
            7.189819999999999,
            0.920736,
            1.86935,
            1.21855
           ],
           "xaxis": "x",
           "y": [
            0.309448,
            0.232921,
            1.00565,
            0.7435579999999999,
            8.777740000000001,
            0.878425,
            0.284774,
            1.89698,
            1.49436,
            12.3489,
            48.5147,
            0.460957,
            32.9987,
            0.203143,
            0.993592,
            0.943448,
            0.351814,
            0.535447,
            0.0729783,
            9.2083,
            1.42394,
            1.1634,
            0.811434,
            0.0632629
           ],
           "yaxis": "y"
          },
          {
           "customdata": [
            [
             "Amumu"
            ],
            [
             "Diana"
            ],
            [
             "Ekko"
            ],
            [
             "Elise"
            ],
            [
             "Evelynn"
            ],
            [
             "Fiddlesticks"
            ],
            [
             "Gragas"
            ],
            [
             "Graves"
            ],
            [
             "Gwen"
            ],
            [
             "Hecarim"
            ],
            [
             "Ivern"
            ],
            [
             "Jarvan IV"
            ],
            [
             "Jax"
            ],
            [
             "Karthus"
            ],
            [
             "Kayn"
            ],
            [
             "Kha'Zix"
            ],
            [
             "Kindred"
            ],
            [
             "Lee Sin"
            ],
            [
             "Lillia"
            ],
            [
             "Master Yi"
            ],
            [
             "Mordekaiser"
            ],
            [
             "Nidalee"
            ],
            [
             "Nocturne"
            ],
            [
             "Nunu & Willump"
            ],
            [
             "Olaf"
            ],
            [
             "Poppy"
            ],
            [
             "Qiyana"
            ],
            [
             "Rammus"
            ],
            [
             "Rek'Sai"
            ],
            [
             "Rengar"
            ],
            [
             "Sejuani"
            ],
            [
             "Shaco"
            ],
            [
             "Shyvana"
            ],
            [
             "Taliyah"
            ],
            [
             "Talon"
            ],
            [
             "Trundle"
            ],
            [
             "Twitch"
            ],
            [
             "Udyr"
            ],
            [
             "Vi"
            ],
            [
             "Viego"
            ],
            [
             "Volibear"
            ],
            [
             "Warwick"
            ],
            [
             "Wukong"
            ],
            [
             "Xin Zhao"
            ],
            [
             "Zac"
            ],
            [
             "Zed"
            ]
           ],
           "hovertemplate": "position=JUNGLE<br>tier=platinum<br>pick_rate=%{x}<br>ban_rate=%{y}<br>champion=%{customdata[0]}<extra></extra>",
           "legendgroup": "JUNGLE",
           "marker": {
            "color": "#FFA15A",
            "symbol": "circle"
           },
           "mode": "markers",
           "name": "JUNGLE",
           "orientation": "v",
           "showlegend": true,
           "type": "scatter",
           "x": [
            1.01357,
            8.74273,
            4.6740900000000005,
            2.4111,
            1.50194,
            2.42721,
            0.5338200000000001,
            19.1473,
            1.4378,
            2.75308,
            0.570635,
            2.3786,
            0.702076,
            3.14022,
            7.14875,
            4.04305,
            8.57419,
            17.7276,
            3.43359,
            3.66311,
            0.6500170000000001,
            7.813440000000001,
            3.21471,
            1.82695,
            0.692873,
            3.37405,
            0.8220130000000001,
            1.70644,
            4.2075700000000005,
            1.45506,
            1.48095,
            3.66311,
            1.74872,
            6.80447,
            10.0071,
            1.28652,
            0.570922,
            0.5482009999999999,
            2.70534,
            16.787399999999998,
            1.54537,
            2.64695,
            16.268,
            2.27161,
            4.611669999999999,
            2.40621
           ],
           "xaxis": "x",
           "y": [
            0.0499461999999999,
            2.45033,
            0.753795,
            2.42068,
            0.806785,
            0.50093,
            0.0426586999999999,
            36.3887,
            1.09161,
            0.7518750000000001,
            0.0885128,
            0.0833769999999999,
            0.301615,
            3.8849,
            1.6645299999999998,
            0.501612,
            4.0669200000000005,
            12.9598,
            0.748811,
            0.960304,
            0.1003379999999999,
            7.44905,
            2.85745,
            0.713984,
            2.47707,
            4.53069,
            0.333491,
            1.11966,
            9.35833,
            0.8477560000000001,
            0.0755153,
            9.62283,
            0.0728944,
            27.585,
            16.2744,
            0.1185539999999999,
            0.076542,
            0.0759868,
            0.141239,
            6.904929999999999,
            0.303576,
            0.30707,
            29.2651,
            0.767113,
            0.688696,
            9.12655
           ],
           "yaxis": "y"
          }
         ],
         "name": "platinum"
        },
        {
         "data": [
          {
           "customdata": [
            [
             "Aatrox"
            ],
            [
             "Akali"
            ],
            [
             "Akshan"
            ],
            [
             "Camille"
            ],
            [
             "Cho'Gath"
            ],
            [
             "Darius"
            ],
            [
             "Dr. Mundo"
            ],
            [
             "Fiora"
            ],
            [
             "Gangplank"
            ],
            [
             "Garen"
            ],
            [
             "Gnar"
            ],
            [
             "Gragas"
            ],
            [
             "Graves"
            ],
            [
             "Gwen"
            ],
            [
             "Heimerdinger"
            ],
            [
             "Illaoi"
            ],
            [
             "Irelia"
            ],
            [
             "Jax"
            ],
            [
             "Jayce"
            ],
            [
             "Kalista"
            ],
            [
             "Kayle"
            ],
            [
             "Kayn"
            ],
            [
             "Kennen"
            ],
            [
             "Kled"
            ],
            [
             "Lillia"
            ],
            [
             "Malphite"
            ],
            [
             "Maokai"
            ],
            [
             "Mordekaiser"
            ],
            [
             "Nasus"
            ],
            [
             "Olaf"
            ],
            [
             "Ornn"
            ],
            [
             "Pantheon"
            ],
            [
             "Poppy"
            ],
            [
             "Quinn"
            ],
            [
             "Renekton"
            ],
            [
             "Rengar"
            ],
            [
             "Riven"
            ],
            [
             "Rumble"
            ],
            [
             "Ryze"
            ],
            [
             "Sejuani"
            ],
            [
             "Sett"
            ],
            [
             "Shen"
            ],
            [
             "Shyvana"
            ],
            [
             "Singed"
            ],
            [
             "Sion"
            ],
            [
             "Swain"
            ],
            [
             "Sylas"
            ],
            [
             "Tahm Kench"
            ],
            [
             "Teemo"
            ],
            [
             "Trundle"
            ],
            [
             "Tryndamere"
            ],
            [
             "Urgot"
            ],
            [
             "Vayne"
            ],
            [
             "Viktor"
            ],
            [
             "Vladimir"
            ],
            [
             "Volibear"
            ],
            [
             "Warwick"
            ],
            [
             "Wukong"
            ],
            [
             "Xin Zhao"
            ],
            [
             "Yasuo"
            ],
            [
             "Yone"
            ],
            [
             "Yorick"
            ],
            [
             "Zac"
            ]
           ],
           "hovertemplate": "position=TOP<br>tier=gold<br>pick_rate=%{x}<br>ban_rate=%{y}<br>champion=%{customdata[0]}<extra></extra>",
           "legendgroup": "TOP",
           "marker": {
            "color": "#636efa",
            "symbol": "circle"
           },
           "mode": "markers",
           "name": "TOP",
           "orientation": "v",
           "showlegend": true,
           "type": "scatter",
           "x": [
            5.24401,
            4.208880000000001,
            0.722951,
            4.38259,
            0.796293,
            8.23725,
            1.32077,
            7.498589999999999,
            9.04391,
            4.93742,
            3.12886,
            1.11264,
            2.81953,
            9.45444,
            0.672587,
            2.40055,
            6.3638,
            6.10841,
            6.53192,
            0.537927,
            8.51229,
            0.934764,
            2.18373,
            1.40816,
            3.52879,
            4.59047,
            0.68997,
            3.74763,
            3.07516,
            6.3532,
            2.6588000000000003,
            0.713068,
            1.8008300000000002,
            1.5810399999999998,
            3.59725,
            1.97573,
            3.13933,
            2.55485,
            0.783554,
            1.22349,
            5.32533,
            2.42865,
            0.523996,
            1.25731,
            1.51674,
            4.241140000000001,
            1.83774,
            1.4665,
            4.428669999999999,
            1.20408,
            1.5685399999999998,
            1.11943,
            3.7262,
            1.13872,
            2.04229,
            1.92787,
            1.088,
            2.1952800000000003,
            0.6048399999999999,
            1.7888000000000002,
            4.125179999999999,
            1.4617399999999998,
            1.08193
           ],
           "xaxis": "x",
           "y": [
            2.75373,
            5.0107,
            0.637161,
            1.25123,
            0.0277685,
            17.4635,
            0.213525,
            9.09043,
            26.2895,
            1.6862100000000002,
            0.406341,
            0.104109,
            5.445930000000001,
            6.969849999999999,
            0.3657269999999999,
            1.17836,
            11.283,
            2.14433,
            1.70936,
            0.1037149999999999,
            7.04704,
            0.280758,
            0.5711660000000001,
            0.50139,
            0.956259,
            4.24472,
            0.0424333,
            0.958589,
            0.71048,
            21.595,
            0.193811,
            0.13474,
            2.03073,
            0.922173,
            2.30378,
            1.14381,
            0.493631,
            0.429323,
            0.0830569,
            0.0690704,
            1.6177199999999998,
            0.1606999999999999,
            0.0324353,
            0.315677,
            0.138936,
            3.36285,
            0.996712,
            0.8582829999999999,
            8.03112,
            0.133052,
            2.65456,
            0.0930328,
            4.68974,
            0.393193,
            0.423515,
            0.456034,
            0.18897,
            3.42129,
            0.2344979999999999,
            2.4662300000000004,
            2.71119,
            0.475643,
            0.1783209999999999
           ],
           "yaxis": "y"
          },
          {
           "customdata": [
            [
             "Ahri"
            ],
            [
             "Akali"
            ],
            [
             "Akshan"
            ],
            [
             "Anivia"
            ],
            [
             "Annie"
            ],
            [
             "Azir"
            ],
            [
             "Brand"
            ],
            [
             "Cassiopeia"
            ],
            [
             "Corki"
            ],
            [
             "Diana"
            ],
            [
             "Ekko"
            ],
            [
             "Fizz"
            ],
            [
             "Galio"
            ],
            [
             "Garen"
            ],
            [
             "Irelia"
            ],
            [
             "Jayce"
            ],
            [
             "Kassadin"
            ],
            [
             "Katarina"
            ],
            [
             "LeBlanc"
            ],
            [
             "Lissandra"
            ],
            [
             "Lux"
            ],
            [
             "Malphite"
            ],
            [
             "Malzahar"
            ],
            [
             "Morgana"
            ],
            [
             "Neeko"
            ],
            [
             "Nunu & Willump"
            ],
            [
             "Orianna"
            ],
            [
             "Pantheon"
            ],
            [
             "Qiyana"
            ],
            [
             "Renekton"
            ],
            [
             "Rumble"
            ],
            [
             "Ryze"
            ],
            [
             "Sett"
            ],
            [
             "Singed"
            ],
            [
             "Swain"
            ],
            [
             "Sylas"
            ],
            [
             "Syndra"
            ],
            [
             "Taliyah"
            ],
            [
             "Talon"
            ],
            [
             "Tristana"
            ],
            [
             "Twisted Fate"
            ],
            [
             "Veigar"
            ],
            [
             "Vel'Koz"
            ],
            [
             "Vex"
            ],
            [
             "Viktor"
            ],
            [
             "Vladimir"
            ],
            [
             "Xerath"
            ],
            [
             "Yasuo"
            ],
            [
             "Yone"
            ],
            [
             "Zed"
            ],
            [
             "Ziggs"
            ],
            [
             "Zilean"
            ],
            [
             "Zoe"
            ]
           ],
           "hovertemplate": "position=MID<br>tier=gold<br>pick_rate=%{x}<br>ban_rate=%{y}<br>champion=%{customdata[0]}<extra></extra>",
           "legendgroup": "MID",
           "marker": {
            "color": "#EF553B",
            "symbol": "circle"
           },
           "mode": "markers",
           "name": "MID",
           "orientation": "v",
           "showlegend": true,
           "type": "scatter",
           "x": [
            16.5793,
            6.27351,
            2.3201,
            3.9262,
            1.00134,
            2.02778,
            1.4545,
            1.92091,
            1.18679,
            1.53924,
            1.58243,
            2.70615,
            2.05074,
            0.587125,
            7.272019999999999,
            0.770919,
            2.33477,
            6.660870000000001,
            7.409300000000001,
            3.99673,
            2.79609,
            1.1237199999999998,
            2.41383,
            0.538957,
            0.9003920000000001,
            0.6767139999999999,
            2.85053,
            1.6478799999999998,
            1.67605,
            0.770328,
            1.0288,
            1.99133,
            0.7681979999999999,
            1.71084,
            2.6078,
            8.12744,
            2.37442,
            4.59368,
            3.0929100000000003,
            0.8837050000000001,
            6.9952,
            3.72299,
            0.559905,
            6.39506,
            9.05079,
            3.0559800000000004,
            3.00273,
            10.4082,
            9.40986,
            8.907229999999998,
            0.54594,
            0.618132,
            3.55139
           ],
           "xaxis": "x",
           "y": [
            16.5361,
            7.513780000000001,
            2.05713,
            4.55483,
            0.0850022,
            0.1505679999999999,
            0.161242,
            0.474061,
            0.0538929999999999,
            0.473535,
            0.303389,
            1.81635,
            0.29557,
            0.201724,
            12.9712,
            0.202964,
            0.674761,
            5.42049,
            19.2429,
            0.632296,
            0.885122,
            1.04535,
            0.562692,
            1.19865,
            0.121977,
            0.275734,
            0.116952,
            0.31326,
            0.502776,
            0.49632,
            0.173926,
            0.212356,
            0.2347709999999999,
            0.432142,
            2.0802500000000004,
            4.43461,
            0.456577,
            14.1191,
            4.32971,
            0.118907,
            0.591135,
            0.7900880000000001,
            0.0405077,
            14.4829,
            3.14406,
            0.6375569999999999,
            5.35649,
            14.4366,
            6.22181,
            37.1629,
            0.0407917,
            0.122012,
            0.874078
           ],
           "yaxis": "y"
          },
          {
           "customdata": [
            [
             "Alistar"
            ],
            [
             "Anivia"
            ],
            [
             "Ashe"
            ],
            [
             "Bard"
            ],
            [
             "Blitzcrank"
            ],
            [
             "Brand"
            ],
            [
             "Braum"
            ],
            [
             "Galio"
            ],
            [
             "Gragas"
            ],
            [
             "Janna"
            ],
            [
             "Karma"
            ],
            [
             "LeBlanc"
            ],
            [
             "Leona"
            ],
            [
             "Lulu"
            ],
            [
             "Lux"
            ],
            [
             "Malphite"
            ],
            [
             "Maokai"
            ],
            [
             "Miss Fortune"
            ],
            [
             "Morgana"
            ],
            [
             "Nami"
            ],
            [
             "Nautilus"
            ],
            [
             "Neeko"
            ],
            [
             "Pantheon"
            ],
            [
             "Pyke"
            ],
            [
             "Rakan"
            ],
            [
             "Rell"
            ],
            [
             "Renata Glasc"
            ],
            [
             "Senna"
            ],
            [
             "Seraphine"
            ],
            [
             "Sett"
            ],
            [
             "Shaco"
            ],
            [
             "Shen"
            ],
            [
             "Sona"
            ],
            [
             "Soraka"
            ],
            [
             "Swain"
            ],
            [
             "Tahm Kench"
            ],
            [
             "Taric"
            ],
            [
             "Thresh"
            ],
            [
             "Twitch"
            ],
            [
             "Veigar"
            ],
            [
             "Vel'Koz"
            ],
            [
             "Xerath"
            ],
            [
             "Yuumi"
            ],
            [
             "Zac"
            ],
            [
             "Zilean"
            ],
            [
             "Zyra"
            ]
           ],
           "hovertemplate": "position=SUPPORT<br>tier=gold<br>pick_rate=%{x}<br>ban_rate=%{y}<br>champion=%{customdata[0]}<extra></extra>",
           "legendgroup": "SUPPORT",
           "marker": {
            "color": "#00cc96",
            "symbol": "circle"
           },
           "mode": "markers",
           "name": "SUPPORT",
           "orientation": "v",
           "showlegend": true,
           "type": "scatter",
           "x": [
            4.98514,
            0.544533,
            1.6964,
            1.5516800000000002,
            11.6671,
            3.23392,
            1.89788,
            0.5620799999999999,
            0.5119819999999999,
            1.4050200000000002,
            8.46822,
            0.611572,
            7.54433,
            12.371,
            10.0733,
            0.526624,
            2.18878,
            1.54248,
            5.769880000000001,
            7.67962,
            14.111299999999998,
            0.70983,
            2.43261,
            6.68167,
            2.5541,
            1.08144,
            5.889069999999999,
            16.5612,
            1.27094,
            0.806757,
            2.13772,
            0.555787,
            1.46044,
            4.13131,
            4.71941,
            1.02796,
            0.5969300000000001,
            8.70092,
            0.531465,
            0.8094189999999999,
            1.78716,
            9.3258,
            10.976,
            0.743591,
            3.4366099999999995,
            2.9458
           ],
           "xaxis": "x",
           "y": [
            1.53967,
            0.617837,
            0.0882366,
            0.0747865,
            35.6682,
            0.350626,
            0.101187,
            0.0792315,
            0.0471359,
            0.0647218,
            6.13978,
            1.55342,
            17.179,
            5.80179,
            3.11868,
            0.479134,
            0.132448,
            0.217054,
            12.5503,
            2.37812,
            29.7692,
            0.0940482,
            0.452275,
            7.56497,
            0.268376,
            0.517714,
            5.94054,
            24.2325,
            0.0871327,
            0.241137,
            7.48418,
            0.0361847,
            0.0351058999999999,
            0.335124,
            3.68195,
            0.591955,
            0.0598903,
            2.7119,
            0.0821689,
            0.1679989999999999,
            0.1264549999999999,
            16.2705,
            8.92346,
            0.120588,
            0.6634369999999999,
            0.401259
           ],
           "yaxis": "y"
          },
          {
           "customdata": [
            [
             "Aphelios"
            ],
            [
             "Ashe"
            ],
            [
             "Caitlyn"
            ],
            [
             "Draven"
            ],
            [
             "Ezreal"
            ],
            [
             "Jhin"
            ],
            [
             "Jinx"
            ],
            [
             "Kai'Sa"
            ],
            [
             "Kalista"
            ],
            [
             "Kog'Maw"
            ],
            [
             "Lucian"
            ],
            [
             "Miss Fortune"
            ],
            [
             "Samira"
            ],
            [
             "Sivir"
            ],
            [
             "Swain"
            ],
            [
             "Tahm Kench"
            ],
            [
             "Tristana"
            ],
            [
             "Twitch"
            ],
            [
             "Varus"
            ],
            [
             "Vayne"
            ],
            [
             "Xayah"
            ],
            [
             "Yasuo"
            ],
            [
             "Zeri"
            ],
            [
             "Ziggs"
            ]
           ],
           "hovertemplate": "position=ADC<br>tier=gold<br>pick_rate=%{x}<br>ban_rate=%{y}<br>champion=%{customdata[0]}<extra></extra>",
           "legendgroup": "ADC",
           "marker": {
            "color": "#ab63fa",
            "symbol": "circle"
           },
           "mode": "markers",
           "name": "ADC",
           "orientation": "v",
           "showlegend": true,
           "type": "scatter",
           "x": [
            3.64589,
            6.51388,
            7.288500000000001,
            2.3533,
            33.7231,
            15.9661,
            8.85544,
            25.9937,
            4.42743,
            10.4095,
            20.5907,
            5.94746,
            14.8336,
            2.49733,
            1.4018,
            1.77855,
            4.38462,
            3.98229,
            1.85678,
            8.69135,
            5.88213,
            1.10082,
            1.48414,
            1.24145
           ],
           "xaxis": "x",
           "y": [
            0.40001,
            0.349535,
            1.88625,
            0.577804,
            9.76888,
            1.216,
            0.524023,
            2.38366,
            0.8664959999999999,
            8.52564,
            42.9519,
            0.863397,
            31.8336,
            0.266026,
            1.12825,
            1.0566,
            0.595267,
            0.635181,
            0.0910343,
            11.1037,
            1.46672,
            1.54057,
            1.01671,
            0.0935918
           ],
           "yaxis": "y"
          },
          {
           "customdata": [
            [
             "Amumu"
            ],
            [
             "Diana"
            ],
            [
             "Ekko"
            ],
            [
             "Elise"
            ],
            [
             "Evelynn"
            ],
            [
             "Fiddlesticks"
            ],
            [
             "Gragas"
            ],
            [
             "Graves"
            ],
            [
             "Gwen"
            ],
            [
             "Hecarim"
            ],
            [
             "Jarvan IV"
            ],
            [
             "Jax"
            ],
            [
             "Karthus"
            ],
            [
             "Kayn"
            ],
            [
             "Kha'Zix"
            ],
            [
             "Kindred"
            ],
            [
             "Lee Sin"
            ],
            [
             "Lillia"
            ],
            [
             "Master Yi"
            ],
            [
             "Mordekaiser"
            ],
            [
             "Nidalee"
            ],
            [
             "Nocturne"
            ],
            [
             "Nunu & Willump"
            ],
            [
             "Olaf"
            ],
            [
             "Poppy"
            ],
            [
             "Qiyana"
            ],
            [
             "Rammus"
            ],
            [
             "Rek'Sai"
            ],
            [
             "Rengar"
            ],
            [
             "Sejuani"
            ],
            [
             "Shaco"
            ],
            [
             "Shyvana"
            ],
            [
             "Taliyah"
            ],
            [
             "Talon"
            ],
            [
             "Trundle"
            ],
            [
             "Twitch"
            ],
            [
             "Udyr"
            ],
            [
             "Vi"
            ],
            [
             "Viego"
            ],
            [
             "Volibear"
            ],
            [
             "Warwick"
            ],
            [
             "Wukong"
            ],
            [
             "Xin Zhao"
            ],
            [
             "Zac"
            ],
            [
             "Zed"
            ]
           ],
           "hovertemplate": "position=JUNGLE<br>tier=gold<br>pick_rate=%{x}<br>ban_rate=%{y}<br>champion=%{customdata[0]}<extra></extra>",
           "legendgroup": "JUNGLE",
           "marker": {
            "color": "#FFA15A",
            "symbol": "circle"
           },
           "mode": "markers",
           "name": "JUNGLE",
           "orientation": "v",
           "showlegend": true,
           "type": "scatter",
           "x": [
            1.83557,
            8.98392,
            4.74117,
            2.26041,
            1.70006,
            2.39133,
            0.531079,
            18.0962,
            1.21541,
            2.46031,
            2.63659,
            0.888697,
            2.48934,
            8.0052,
            3.83026,
            7.710809999999999,
            17.0133,
            3.4953199999999995,
            5.88841,
            0.7437929999999999,
            6.34568,
            4.80991,
            2.00797,
            0.8349890000000001,
            3.4504300000000003,
            0.5208550000000001,
            2.05239,
            3.02006,
            1.40673,
            1.6254399999999998,
            4.55419,
            2.23584,
            5.44289,
            8.899890000000001,
            1.83733,
            0.957564,
            0.7213459999999999,
            3.34572,
            15.3741,
            1.6865499999999998,
            2.86282,
            15.0785,
            2.39697,
            4.71037,
            2.15675
           ],
           "xaxis": "x",
           "y": [
            0.1004839999999999,
            2.78328,
            0.915387,
            2.15734,
            0.905515,
            0.360965,
            0.0503444,
            35.411300000000004,
            0.907756,
            0.845358,
            0.117139,
            0.316065,
            1.67389,
            2.4359200000000003,
            0.450077,
            3.69641,
            17.130200000000002,
            0.959614,
            2.90041,
            0.192747,
            5.25547,
            5.52043,
            0.823923,
            2.87542,
            3.94196,
            0.1573439999999999,
            2.01603,
            5.26454,
            0.8250789999999999,
            0.0929654,
            16.4172,
            0.140214,
            16.8469,
            12.5465,
            0.2056899999999999,
            0.152439,
            0.114382,
            0.223804,
            7.507179999999999,
            0.404184,
            0.503755,
            23.8077,
            0.941499,
            0.78654,
            9.06174
           ],
           "yaxis": "y"
          }
         ],
         "name": "gold"
        },
        {
         "data": [
          {
           "customdata": [
            [
             "Aatrox"
            ],
            [
             "Akali"
            ],
            [
             "Akshan"
            ],
            [
             "Camille"
            ],
            [
             "Cho'Gath"
            ],
            [
             "Darius"
            ],
            [
             "Dr. Mundo"
            ],
            [
             "Fiora"
            ],
            [
             "Gangplank"
            ],
            [
             "Garen"
            ],
            [
             "Gnar"
            ],
            [
             "Gragas"
            ],
            [
             "Graves"
            ],
            [
             "Gwen"
            ],
            [
             "Heimerdinger"
            ],
            [
             "Illaoi"
            ],
            [
             "Irelia"
            ],
            [
             "Jax"
            ],
            [
             "Jayce"
            ],
            [
             "Kalista"
            ],
            [
             "Kayle"
            ],
            [
             "Kayn"
            ],
            [
             "Kennen"
            ],
            [
             "Kled"
            ],
            [
             "Lillia"
            ],
            [
             "Malphite"
            ],
            [
             "Maokai"
            ],
            [
             "Mordekaiser"
            ],
            [
             "Nasus"
            ],
            [
             "Olaf"
            ],
            [
             "Ornn"
            ],
            [
             "Pantheon"
            ],
            [
             "Poppy"
            ],
            [
             "Quinn"
            ],
            [
             "Renekton"
            ],
            [
             "Rengar"
            ],
            [
             "Riven"
            ],
            [
             "Rumble"
            ],
            [
             "Ryze"
            ],
            [
             "Sejuani"
            ],
            [
             "Sett"
            ],
            [
             "Shen"
            ],
            [
             "Singed"
            ],
            [
             "Sion"
            ],
            [
             "Swain"
            ],
            [
             "Sylas"
            ],
            [
             "Tahm Kench"
            ],
            [
             "Teemo"
            ],
            [
             "Trundle"
            ],
            [
             "Tryndamere"
            ],
            [
             "Urgot"
            ],
            [
             "Vayne"
            ],
            [
             "Viktor"
            ],
            [
             "Vladimir"
            ],
            [
             "Volibear"
            ],
            [
             "Warwick"
            ],
            [
             "Wukong"
            ],
            [
             "Xin Zhao"
            ],
            [
             "Yasuo"
            ],
            [
             "Yone"
            ],
            [
             "Yorick"
            ],
            [
             "Zac"
            ]
           ],
           "hovertemplate": "position=TOP<br>tier=silver<br>pick_rate=%{x}<br>ban_rate=%{y}<br>champion=%{customdata[0]}<extra></extra>",
           "legendgroup": "TOP",
           "marker": {
            "color": "#636efa",
            "symbol": "circle"
           },
           "mode": "markers",
           "name": "TOP",
           "orientation": "v",
           "showlegend": true,
           "type": "scatter",
           "x": [
            4.7699,
            4.491350000000001,
            0.525404,
            3.37949,
            0.904903,
            9.36842,
            1.92213,
            6.20326,
            6.67771,
            5.95966,
            2.4149,
            0.8077380000000001,
            2.60333,
            8.02159,
            0.872479,
            3.69119,
            6.03367,
            5.68112,
            4.79432,
            0.6586759999999999,
            7.925160000000001,
            0.7737360000000001,
            2.2272,
            1.11302,
            3.48444,
            5.93155,
            0.627516,
            4.47725,
            3.77246,
            6.37274,
            2.71123,
            0.715311,
            1.32851,
            1.46147,
            3.72183,
            1.6799000000000002,
            2.72987,
            2.17393,
            0.766367,
            1.02396,
            6.8657200000000005,
            2.34931,
            1.14608,
            1.19324,
            4.21586,
            1.87749,
            1.7220099999999998,
            6.331689999999999,
            1.50947,
            1.82433,
            1.23535,
            4.30587,
            0.8584780000000001,
            1.68159,
            2.04256,
            1.09955,
            2.10404,
            0.527509,
            2.0893,
            4.4320900000000005,
            1.84897,
            0.866163
           ],
           "xaxis": "x",
           "y": [
            3.03794,
            5.31805,
            0.431251,
            1.25492,
            0.0442344,
            22.0596,
            0.374911,
            7.93219,
            15.7272,
            2.35313,
            0.448119,
            0.0922883,
            4.833740000000001,
            5.30772,
            0.513001,
            3.04153,
            11.5874,
            2.00286,
            1.49871,
            0.145517,
            5.470330000000001,
            0.31305,
            0.6720470000000001,
            0.464304,
            1.01405,
            4.88368,
            0.0583806,
            1.64342,
            1.10482,
            17.658099999999997,
            0.30631,
            0.14534,
            1.1458,
            0.999978,
            2.67108,
            1.00359,
            0.4976839999999999,
            0.408497,
            0.0969146,
            0.0674049,
            3.17951,
            0.1964469999999999,
            0.265418,
            0.1409939999999999,
            3.43021,
            1.2042199999999998,
            1.15471,
            12.0973,
            0.225243,
            2.82618,
            0.166606,
            5.99168,
            0.30878,
            0.439228,
            0.561883,
            0.321983,
            2.8579,
            0.2173969999999999,
            3.13628,
            3.4361999999999995,
            0.747485,
            0.156756
           ],
           "yaxis": "y"
          },
          {
           "customdata": [
            [
             "Ahri"
            ],
            [
             "Akali"
            ],
            [
             "Akshan"
            ],
            [
             "Anivia"
            ],
            [
             "Annie"
            ],
            [
             "Azir"
            ],
            [
             "Brand"
            ],
            [
             "Cassiopeia"
            ],
            [
             "Cho'Gath"
            ],
            [
             "Corki"
            ],
            [
             "Diana"
            ],
            [
             "Ekko"
            ],
            [
             "Fizz"
            ],
            [
             "Galio"
            ],
            [
             "Gangplank"
            ],
            [
             "Garen"
            ],
            [
             "Irelia"
            ],
            [
             "Jayce"
            ],
            [
             "Kassadin"
            ],
            [
             "Katarina"
            ],
            [
             "Kayle"
            ],
            [
             "LeBlanc"
            ],
            [
             "Lissandra"
            ],
            [
             "Lucian"
            ],
            [
             "Lux"
            ],
            [
             "Malphite"
            ],
            [
             "Malzahar"
            ],
            [
             "Morgana"
            ],
            [
             "Neeko"
            ],
            [
             "Nunu & Willump"
            ],
            [
             "Orianna"
            ],
            [
             "Pantheon"
            ],
            [
             "Qiyana"
            ],
            [
             "Renekton"
            ],
            [
             "Rumble"
            ],
            [
             "Ryze"
            ],
            [
             "Sett"
            ],
            [
             "Singed"
            ],
            [
             "Swain"
            ],
            [
             "Sylas"
            ],
            [
             "Syndra"
            ],
            [
             "Taliyah"
            ],
            [
             "Talon"
            ],
            [
             "Tristana"
            ],
            [
             "Twisted Fate"
            ],
            [
             "Veigar"
            ],
            [
             "Vel'Koz"
            ],
            [
             "Vex"
            ],
            [
             "Viktor"
            ],
            [
             "Vladimir"
            ],
            [
             "Xerath"
            ],
            [
             "Yasuo"
            ],
            [
             "Yone"
            ],
            [
             "Zed"
            ],
            [
             "Ziggs"
            ],
            [
             "Zoe"
            ]
           ],
           "hovertemplate": "position=MID<br>tier=silver<br>pick_rate=%{x}<br>ban_rate=%{y}<br>champion=%{customdata[0]}<extra></extra>",
           "legendgroup": "MID",
           "marker": {
            "color": "#EF553B",
            "symbol": "circle"
           },
           "mode": "markers",
           "name": "MID",
           "orientation": "v",
           "showlegend": true,
           "type": "scatter",
           "x": [
            15.4025,
            7.36771,
            1.91492,
            3.11415,
            1.00071,
            1.5795,
            1.67462,
            1.65698,
            0.544887,
            1.19084,
            1.49522,
            1.50118,
            2.81636,
            2.11397,
            0.522568,
            0.7051540000000001,
            7.66381,
            0.8449089999999999,
            1.97624,
            6.28942,
            0.621407,
            7.07545,
            3.08217,
            1.87751,
            3.92229,
            1.64911,
            2.71051,
            0.7934709999999999,
            1.1752200000000002,
            0.6065280000000001,
            2.22758,
            2.02927,
            1.37662,
            0.863295,
            0.952781,
            1.99441,
            0.995292,
            1.22995,
            2.62134,
            8.65442,
            2.3433200000000003,
            3.3993,
            3.37305,
            1.11464,
            5.31188,
            4.08968,
            0.602383,
            6.7771300000000005,
            6.44225,
            2.89193,
            3.14976,
            11.9492,
            10.7798,
            8.953809999999999,
            0.568268,
            3.08036
           ],
           "xaxis": "x",
           "y": [
            14.9778,
            8.64113,
            1.55686,
            2.62777,
            0.122009,
            0.154475,
            0.32814,
            0.460548,
            0.0263832,
            0.0669112,
            0.479207,
            0.384488,
            2.12245,
            0.348745,
            1.21907,
            0.275786,
            14.5785,
            0.261616,
            0.479585,
            4.88214,
            0.424858,
            19.8272,
            0.483301,
            3.33872,
            2.41619,
            1.3449,
            0.7526930000000001,
            1.43407,
            0.195073,
            0.2380789999999999,
            0.124506,
            0.408407,
            0.360521,
            0.613694,
            0.177336,
            0.249821,
            0.456548,
            0.282142,
            2.11262,
            5.49829,
            0.559992,
            8.05945,
            3.76464,
            0.214683,
            0.402034,
            1.00195,
            0.0531849,
            12.8662,
            2.2952,
            0.748205,
            6.76229,
            17.7671,
            8.27831,
            39.2627,
            0.05807,
            0.7355849999999999
           ],
           "yaxis": "y"
          },
          {
           "customdata": [
            [
             "Alistar"
            ],
            [
             "Amumu"
            ],
            [
             "Anivia"
            ],
            [
             "Ashe"
            ],
            [
             "Bard"
            ],
            [
             "Blitzcrank"
            ],
            [
             "Brand"
            ],
            [
             "Braum"
            ],
            [
             "Galio"
            ],
            [
             "Janna"
            ],
            [
             "Karma"
            ],
            [
             "LeBlanc"
            ],
            [
             "Leona"
            ],
            [
             "Lulu"
            ],
            [
             "Lux"
            ],
            [
             "Malphite"
            ],
            [
             "Maokai"
            ],
            [
             "Miss Fortune"
            ],
            [
             "Morgana"
            ],
            [
             "Nami"
            ],
            [
             "Nautilus"
            ],
            [
             "Neeko"
            ],
            [
             "Pantheon"
            ],
            [
             "Pyke"
            ],
            [
             "Rakan"
            ],
            [
             "Rell"
            ],
            [
             "Renata Glasc"
            ],
            [
             "Senna"
            ],
            [
             "Seraphine"
            ],
            [
             "Sett"
            ],
            [
             "Shaco"
            ],
            [
             "Shen"
            ],
            [
             "Sona"
            ],
            [
             "Soraka"
            ],
            [
             "Swain"
            ],
            [
             "Tahm Kench"
            ],
            [
             "Taric"
            ],
            [
             "Teemo"
            ],
            [
             "Thresh"
            ],
            [
             "Twitch"
            ],
            [
             "Veigar"
            ],
            [
             "Vel'Koz"
            ],
            [
             "Xerath"
            ],
            [
             "Yuumi"
            ],
            [
             "Zac"
            ],
            [
             "Zilean"
            ],
            [
             "Zyra"
            ]
           ],
           "hovertemplate": "position=SUPPORT<br>tier=silver<br>pick_rate=%{x}<br>ban_rate=%{y}<br>champion=%{customdata[0]}<extra></extra>",
           "legendgroup": "SUPPORT",
           "marker": {
            "color": "#00cc96",
            "symbol": "circle"
           },
           "mode": "markers",
           "name": "SUPPORT",
           "orientation": "v",
           "showlegend": true,
           "type": "scatter",
           "x": [
            4.80259,
            0.672807,
            0.557508,
            1.93108,
            1.11744,
            10.9332,
            4.06185,
            1.65449,
            0.719328,
            1.24994,
            6.65856,
            0.601708,
            8.57677,
            9.98989,
            14.4768,
            1.15953,
            2.08984,
            2.62298,
            7.87094,
            6.39135,
            13.1124,
            0.95383,
            2.66401,
            6.20802,
            2.21516,
            0.8221799999999999,
            4.18812,
            14.7666,
            1.64868,
            0.815112,
            1.99722,
            0.631456,
            1.65997,
            4.11849,
            5.13414,
            0.984421,
            0.5059239999999999,
            0.735784,
            7.24761,
            0.52776,
            1.12715,
            2.10482,
            9.57205,
            11.5083,
            0.631561,
            2.68859,
            3.09188
           ],
           "xaxis": "x",
           "y": [
            1.77131,
            0.0478813,
            0.4739529999999999,
            0.140456,
            0.0879307,
            36.605,
            0.801868,
            0.101279,
            0.119556,
            0.0626597,
            4.28734,
            1.69875,
            19.709,
            3.88276,
            8.98462,
            0.95271,
            0.194024,
            0.473103,
            14.3319,
            1.55424,
            27.212,
            0.1595089999999999,
            0.540165,
            9.37067,
            0.300972,
            0.6044769999999999,
            4.5987800000000005,
            16.491500000000002,
            0.131879,
            0.376695,
            8.84031,
            0.0526921,
            0.0462015,
            0.405416,
            4.1687,
            0.658745,
            0.0649059,
            1.40287,
            2.47292,
            0.1146359999999999,
            0.278211,
            0.187226,
            20.7042,
            8.55312,
            0.114062,
            0.511891,
            0.580373
           ],
           "yaxis": "y"
          },
          {
           "customdata": [
            [
             "Aphelios"
            ],
            [
             "Ashe"
            ],
            [
             "Caitlyn"
            ],
            [
             "Draven"
            ],
            [
             "Ezreal"
            ],
            [
             "Jhin"
            ],
            [
             "Jinx"
            ],
            [
             "Kai'Sa"
            ],
            [
             "Kalista"
            ],
            [
             "Kog'Maw"
            ],
            [
             "Lucian"
            ],
            [
             "Miss Fortune"
            ],
            [
             "Samira"
            ],
            [
             "Sivir"
            ],
            [
             "Swain"
            ],
            [
             "Tahm Kench"
            ],
            [
             "Tristana"
            ],
            [
             "Twitch"
            ],
            [
             "Varus"
            ],
            [
             "Vayne"
            ],
            [
             "Xayah"
            ],
            [
             "Yasuo"
            ],
            [
             "Zeri"
            ],
            [
             "Ziggs"
            ]
           ],
           "hovertemplate": "position=ADC<br>tier=silver<br>pick_rate=%{x}<br>ban_rate=%{y}<br>champion=%{customdata[0]}<extra></extra>",
           "legendgroup": "ADC",
           "marker": {
            "color": "#ab63fa",
            "symbol": "circle"
           },
           "mode": "markers",
           "name": "ADC",
           "orientation": "v",
           "showlegend": true,
           "type": "scatter",
           "x": [
            2.99672,
            7.48576,
            9.3562,
            2.05588,
            33.2959,
            14.3574,
            10.3142,
            24.2043,
            3.51771,
            8.95335,
            19.345,
            9.55181,
            14.4295,
            2.86065,
            1.23508,
            1.06694,
            5.9525500000000005,
            3.70388,
            1.95829,
            8.99591,
            4.86968,
            1.31821,
            1.30752,
            1.25762
           ],
           "xaxis": "x",
           "y": [
            0.470217,
            0.5479040000000001,
            3.31312,
            0.575515,
            11.011,
            1.66016,
            0.993849,
            2.93582,
            0.7804260000000001,
            5.61613,
            34.8767,
            1.73371,
            32.4582,
            0.423823,
            1.0091599999999998,
            0.718464,
            1.16233,
            0.8095990000000001,
            0.11785,
            12.570799999999998,
            1.36553,
            1.98714,
            1.1273,
            0.130291
           ],
           "yaxis": "y"
          },
          {
           "customdata": [
            [
             "Amumu"
            ],
            [
             "Diana"
            ],
            [
             "Ekko"
            ],
            [
             "Elise"
            ],
            [
             "Evelynn"
            ],
            [
             "Fiddlesticks"
            ],
            [
             "Graves"
            ],
            [
             "Gwen"
            ],
            [
             "Hecarim"
            ],
            [
             "Jarvan IV"
            ],
            [
             "Jax"
            ],
            [
             "Karthus"
            ],
            [
             "Kayn"
            ],
            [
             "Kha'Zix"
            ],
            [
             "Kindred"
            ],
            [
             "Lee Sin"
            ],
            [
             "Lillia"
            ],
            [
             "Master Yi"
            ],
            [
             "Mordekaiser"
            ],
            [
             "Nidalee"
            ],
            [
             "Nocturne"
            ],
            [
             "Nunu & Willump"
            ],
            [
             "Olaf"
            ],
            [
             "Pantheon"
            ],
            [
             "Poppy"
            ],
            [
             "Rammus"
            ],
            [
             "Rek'Sai"
            ],
            [
             "Rengar"
            ],
            [
             "Sejuani"
            ],
            [
             "Shaco"
            ],
            [
             "Shyvana"
            ],
            [
             "Taliyah"
            ],
            [
             "Talon"
            ],
            [
             "Teemo"
            ],
            [
             "Trundle"
            ],
            [
             "Twitch"
            ],
            [
             "Udyr"
            ],
            [
             "Vi"
            ],
            [
             "Viego"
            ],
            [
             "Volibear"
            ],
            [
             "Warwick"
            ],
            [
             "Wukong"
            ],
            [
             "Xin Zhao"
            ],
            [
             "Zac"
            ],
            [
             "Zed"
            ]
           ],
           "hovertemplate": "position=JUNGLE<br>tier=silver<br>pick_rate=%{x}<br>ban_rate=%{y}<br>champion=%{customdata[0]}<extra></extra>",
           "legendgroup": "JUNGLE",
           "marker": {
            "color": "#FFA15A",
            "symbol": "circle"
           },
           "mode": "markers",
           "name": "JUNGLE",
           "orientation": "v",
           "showlegend": true,
           "type": "scatter",
           "x": [
            3.4645,
            8.59947,
            4.96853,
            1.81494,
            1.75128,
            1.89789,
            16.1145,
            1.03105,
            2.40648,
            2.45798,
            1.37021,
            2.21094,
            8.81912,
            3.31715,
            6.95513,
            15.2225,
            3.23431,
            9.31715,
            0.859062,
            5.15043,
            5.84721,
            2.46875,
            1.11037,
            0.500382,
            3.35532,
            2.54189,
            2.10314,
            1.29195,
            1.58207,
            4.77672,
            2.49573,
            3.74919,
            7.832319999999999,
            0.748388,
            2.39955,
            1.42886,
            0.907896,
            3.7301,
            14.4207,
            2.28621,
            3.55439,
            13.4862,
            2.69799,
            4.40471,
            1.85194
           ],
           "xaxis": "x",
           "y": [
            0.243933,
            2.74714,
            1.26844,
            1.48517,
            0.964853,
            0.304205,
            29.5409,
            0.673565,
            0.8631740000000001,
            0.142299,
            0.476936,
            0.8525380000000001,
            3.5229000000000004,
            0.4806569999999999,
            3.11367,
            19.9568,
            0.929307,
            8.7693,
            0.311326,
            3.79215,
            7.73404,
            0.965915,
            3.03767,
            0.10038,
            2.85714,
            3.4645500000000005,
            3.1623900000000003,
            0.762034,
            0.102822,
            20.9183,
            0.219737,
            8.86023,
            8.7133,
            1.41172,
            0.353518,
            0.307062,
            0.16577,
            0.337581,
            7.92405,
            0.6209290000000001,
            1.02763,
            18.0858,
            1.09779,
            0.7870389999999999,
            8.094510000000001
           ],
           "yaxis": "y"
          }
         ],
         "name": "silver"
        },
        {
         "data": [
          {
           "customdata": [
            [
             "Aatrox"
            ],
            [
             "Akali"
            ],
            [
             "Camille"
            ],
            [
             "Cho'Gath"
            ],
            [
             "Darius"
            ],
            [
             "Dr. Mundo"
            ],
            [
             "Fiora"
            ],
            [
             "Gangplank"
            ],
            [
             "Garen"
            ],
            [
             "Gnar"
            ],
            [
             "Gragas"
            ],
            [
             "Graves"
            ],
            [
             "Gwen"
            ],
            [
             "Heimerdinger"
            ],
            [
             "Illaoi"
            ],
            [
             "Irelia"
            ],
            [
             "Jax"
            ],
            [
             "Jayce"
            ],
            [
             "Kalista"
            ],
            [
             "Kayle"
            ],
            [
             "Kennen"
            ],
            [
             "Kled"
            ],
            [
             "Lillia"
            ],
            [
             "Malphite"
            ],
            [
             "Mordekaiser"
            ],
            [
             "Nasus"
            ],
            [
             "Olaf"
            ],
            [
             "Ornn"
            ],
            [
             "Pantheon"
            ],
            [
             "Poppy"
            ],
            [
             "Quinn"
            ],
            [
             "Renekton"
            ],
            [
             "Rengar"
            ],
            [
             "Riven"
            ],
            [
             "Rumble"
            ],
            [
             "Ryze"
            ],
            [
             "Sejuani"
            ],
            [
             "Sett"
            ],
            [
             "Shen"
            ],
            [
             "Singed"
            ],
            [
             "Sion"
            ],
            [
             "Swain"
            ],
            [
             "Sylas"
            ],
            [
             "Tahm Kench"
            ],
            [
             "Teemo"
            ],
            [
             "Trundle"
            ],
            [
             "Tryndamere"
            ],
            [
             "Urgot"
            ],
            [
             "Vayne"
            ],
            [
             "Viktor"
            ],
            [
             "Vladimir"
            ],
            [
             "Volibear"
            ],
            [
             "Warwick"
            ],
            [
             "Wukong"
            ],
            [
             "Yasuo"
            ],
            [
             "Yone"
            ],
            [
             "Yorick"
            ],
            [
             "Zac"
            ]
           ],
           "hovertemplate": "position=TOP<br>tier=bronze<br>pick_rate=%{x}<br>ban_rate=%{y}<br>champion=%{customdata[0]}<extra></extra>",
           "legendgroup": "TOP",
           "marker": {
            "color": "#636efa",
            "symbol": "circle"
           },
           "mode": "markers",
           "name": "TOP",
           "orientation": "v",
           "showlegend": true,
           "type": "scatter",
           "x": [
            4.864,
            5.0178,
            2.34553,
            1.2017,
            11.1009,
            2.56343,
            4.88559,
            3.963,
            7.56766,
            1.77951,
            0.552216,
            1.93443,
            6.08239,
            1.07038,
            5.78525,
            5.54976,
            5.18674,
            3.68233,
            0.8511390000000001,
            6.47057,
            2.19507,
            0.8965449999999999,
            2.54407,
            7.10425,
            6.11266,
            4.13127,
            6.03454,
            2.51113,
            0.8437939999999999,
            0.961537,
            1.254,
            4.29108,
            1.11423,
            2.17014,
            1.62126,
            0.681979,
            0.679086,
            10.767,
            1.7701600000000002,
            0.885638,
            1.03788,
            3.33355,
            2.01967,
            1.84384,
            7.87904,
            1.5983299999999998,
            2.20041,
            1.28628,
            3.97903,
            0.539974,
            1.32835,
            2.82452,
            1.38911,
            1.88835,
            2.55319,
            5.42223,
            1.9647,
            0.5680189999999999
           ],
           "xaxis": "x",
           "y": [
            3.26535,
            5.0657,
            1.06033,
            0.0735601,
            26.5718,
            0.673219,
            6.1174,
            7.965070000000001,
            3.03439,
            0.508311,
            0.0876528,
            3.51994,
            3.50583,
            0.747452,
            7.11364,
            10.4439,
            1.85195,
            1.29619,
            0.2477099999999999,
            3.63323,
            0.7995880000000001,
            0.4447089999999999,
            0.761387,
            5.08404,
            2.87861,
            1.61298,
            12.2359,
            0.441347,
            0.171453,
            0.597168,
            0.822826,
            3.26556,
            0.848325,
            0.500089,
            0.396047,
            0.106983,
            0.055646,
            6.48393,
            0.189248,
            0.217356,
            0.14174,
            2.77814,
            1.33165,
            1.32262,
            13.7542,
            0.31018,
            2.8443,
            0.250765,
            6.83778,
            0.197257,
            0.5013110000000001,
            0.902352,
            0.607475,
            2.1575,
            3.35201,
            3.72138,
            1.01317,
            0.108945
           ],
           "yaxis": "y"
          },
          {
           "customdata": [
            [
             "Ahri"
            ],
            [
             "Akali"
            ],
            [
             "Akshan"
            ],
            [
             "Anivia"
            ],
            [
             "Annie"
            ],
            [
             "Azir"
            ],
            [
             "Brand"
            ],
            [
             "Cassiopeia"
            ],
            [
             "Cho'Gath"
            ],
            [
             "Corki"
            ],
            [
             "Diana"
            ],
            [
             "Ekko"
            ],
            [
             "Fizz"
            ],
            [
             "Galio"
            ],
            [
             "Garen"
            ],
            [
             "Heimerdinger"
            ],
            [
             "Irelia"
            ],
            [
             "Jayce"
            ],
            [
             "Kassadin"
            ],
            [
             "Katarina"
            ],
            [
             "Kayle"
            ],
            [
             "LeBlanc"
            ],
            [
             "Lissandra"
            ],
            [
             "Lucian"
            ],
            [
             "Lux"
            ],
            [
             "Malphite"
            ],
            [
             "Malzahar"
            ],
            [
             "Morgana"
            ],
            [
             "Neeko"
            ],
            [
             "Orianna"
            ],
            [
             "Pantheon"
            ],
            [
             "Pyke"
            ],
            [
             "Qiyana"
            ],
            [
             "Renekton"
            ],
            [
             "Rumble"
            ],
            [
             "Ryze"
            ],
            [
             "Sett"
            ],
            [
             "Singed"
            ],
            [
             "Swain"
            ],
            [
             "Sylas"
            ],
            [
             "Syndra"
            ],
            [
             "Taliyah"
            ],
            [
             "Talon"
            ],
            [
             "Tristana"
            ],
            [
             "Twisted Fate"
            ],
            [
             "Veigar"
            ],
            [
             "Vel'Koz"
            ],
            [
             "Vex"
            ],
            [
             "Viktor"
            ],
            [
             "Vladimir"
            ],
            [
             "Xerath"
            ],
            [
             "Yasuo"
            ],
            [
             "Yone"
            ],
            [
             "Zed"
            ],
            [
             "Ziggs"
            ],
            [
             "Zoe"
            ]
           ],
           "hovertemplate": "position=MID<br>tier=bronze<br>pick_rate=%{x}<br>ban_rate=%{y}<br>champion=%{customdata[0]}<extra></extra>",
           "legendgroup": "MID",
           "marker": {
            "color": "#EF553B",
            "symbol": "circle"
           },
           "mode": "markers",
           "name": "MID",
           "orientation": "v",
           "showlegend": true,
           "type": "scatter",
           "x": [
            13.9028,
            9.30905,
            1.6489899999999995,
            2.08371,
            1.03355,
            1.22445,
            1.77633,
            1.38169,
            0.552984,
            0.915513,
            1.35511,
            1.41823,
            2.54213,
            2.26376,
            0.8453109999999999,
            0.5636140000000001,
            7.51235,
            0.771786,
            1.52187,
            5.6102300000000005,
            0.592182,
            6.02945,
            1.7652500000000002,
            1.69638,
            4.88517,
            1.95859,
            2.02104,
            0.8902669999999999,
            1.66382,
            1.48931,
            2.73569,
            0.959141,
            1.34404,
            1.00853,
            0.640239,
            1.83988,
            1.52652,
            0.749862,
            2.25645,
            9.72008,
            1.93334,
            2.06821,
            4.22168,
            1.0599,
            3.10685,
            4.30229,
            0.545897,
            7.11195,
            3.93489,
            2.37028,
            2.75584,
            15.9643,
            14.9277,
            9.1899,
            0.67523,
            2.8557200000000003
           ],
           "xaxis": "x",
           "y": [
            13.1561,
            9.44539,
            1.27809,
            1.34279,
            0.196376,
            0.176108,
            0.516924,
            0.480166,
            0.034021,
            0.0748466,
            0.419695,
            0.479108,
            2.07132,
            0.3999209999999999,
            0.340655,
            0.3955639999999999,
            14.2086,
            0.273043,
            0.408293,
            4.45084,
            0.33419,
            19.3725,
            0.328306,
            2.76456,
            4.18358,
            1.40871,
            0.681936,
            1.14926,
            0.3800389999999999,
            0.165617,
            0.558679,
            1.71223,
            0.365585,
            0.771375,
            0.15719,
            0.290084,
            0.92392,
            0.184962,
            1.89,
            6.44121,
            0.712172,
            3.95838,
            3.43691,
            0.33099,
            0.284805,
            1.27826,
            0.0648027,
            11.2219,
            1.44471,
            0.89905,
            6.2163200000000005,
            21.065,
            10.2969,
            39.3324,
            0.0942772,
            0.909684
           ],
           "yaxis": "y"
          },
          {
           "customdata": [
            [
             "Alistar"
            ],
            [
             "Amumu"
            ],
            [
             "Anivia"
            ],
            [
             "Ashe"
            ],
            [
             "Bard"
            ],
            [
             "Blitzcrank"
            ],
            [
             "Brand"
            ],
            [
             "Braum"
            ],
            [
             "Galio"
            ],
            [
             "Janna"
            ],
            [
             "Karma"
            ],
            [
             "LeBlanc"
            ],
            [
             "Leona"
            ],
            [
             "Lulu"
            ],
            [
             "Lux"
            ],
            [
             "Malphite"
            ],
            [
             "Maokai"
            ],
            [
             "Miss Fortune"
            ],
            [
             "Morgana"
            ],
            [
             "Nami"
            ],
            [
             "Nautilus"
            ],
            [
             "Neeko"
            ],
            [
             "Pantheon"
            ],
            [
             "Pyke"
            ],
            [
             "Rakan"
            ],
            [
             "Rell"
            ],
            [
             "Renata Glasc"
            ],
            [
             "Senna"
            ],
            [
             "Seraphine"
            ],
            [
             "Sett"
            ],
            [
             "Shaco"
            ],
            [
             "Shen"
            ],
            [
             "Sona"
            ],
            [
             "Soraka"
            ],
            [
             "Swain"
            ],
            [
             "Tahm Kench"
            ],
            [
             "Teemo"
            ],
            [
             "Thresh"
            ],
            [
             "Veigar"
            ],
            [
             "Vel'Koz"
            ],
            [
             "Vex"
            ],
            [
             "Xerath"
            ],
            [
             "Yuumi"
            ],
            [
             "Ziggs"
            ],
            [
             "Zilean"
            ],
            [
             "Zyra"
            ]
           ],
           "hovertemplate": "position=SUPPORT<br>tier=bronze<br>pick_rate=%{x}<br>ban_rate=%{y}<br>champion=%{customdata[0]}<extra></extra>",
           "legendgroup": "SUPPORT",
           "marker": {
            "color": "#00cc96",
            "symbol": "circle"
           },
           "mode": "markers",
           "name": "SUPPORT",
           "orientation": "v",
           "showlegend": true,
           "type": "scatter",
           "x": [
            4.02624,
            1.06061,
            0.579484,
            1.93903,
            0.653684,
            10.9165,
            4.53131,
            1.22098,
            1.02917,
            1.08605,
            4.973940000000001,
            0.547195,
            9.3205,
            7.052379999999999,
            20.2794,
            2.19199,
            2.00275,
            3.24169,
            10.6584,
            4.20692,
            12.3796,
            1.40103,
            2.97568,
            7.233499999999999,
            2.0500000000000003,
            0.684261,
            3.04325,
            11.8514,
            2.75522,
            0.978066,
            1.62512,
            0.590603,
            2.07673,
            3.41489,
            4.99105,
            0.959249,
            1.24664,
            5.09625,
            1.80025,
            2.04038,
            0.60493,
            8.88364,
            12.909399999999998,
            0.6269549999999999,
            1.83853,
            2.66605
           ],
           "xaxis": "x",
           "y": [
            1.67711,
            0.114563,
            0.386753,
            0.224346,
            0.0947602999999999,
            38.0481,
            1.36568,
            0.109475,
            0.188301,
            0.087411,
            2.69859,
            1.82084,
            19.780900000000003,
            2.12293,
            17.9864,
            1.63283,
            0.25595,
            0.882791,
            14.249999999999998,
            0.829247,
            23.2432,
            0.331428,
            0.629368,
            13.3737,
            0.388512,
            0.709878,
            3.16164,
            9.9284,
            0.27959,
            0.613087,
            8.07796,
            0.065724,
            0.0720381,
            0.379001,
            4.32961,
            0.7162339999999999,
            2.26523,
            1.95718,
            0.553955,
            0.250851,
            0.988568,
            20.7535,
            7.853680000000001,
            0.0906594999999999,
            0.348539,
            0.591957
           ],
           "yaxis": "y"
          },
          {
           "customdata": [
            [
             "Aphelios"
            ],
            [
             "Ashe"
            ],
            [
             "Caitlyn"
            ],
            [
             "Draven"
            ],
            [
             "Ezreal"
            ],
            [
             "Jhin"
            ],
            [
             "Jinx"
            ],
            [
             "Kai'Sa"
            ],
            [
             "Kalista"
            ],
            [
             "Kog'Maw"
            ],
            [
             "Lucian"
            ],
            [
             "Miss Fortune"
            ],
            [
             "Samira"
            ],
            [
             "Sivir"
            ],
            [
             "Swain"
            ],
            [
             "Tahm Kench"
            ],
            [
             "Tristana"
            ],
            [
             "Twitch"
            ],
            [
             "Varus"
            ],
            [
             "Vayne"
            ],
            [
             "Xayah"
            ],
            [
             "Yasuo"
            ],
            [
             "Zeri"
            ],
            [
             "Ziggs"
            ]
           ],
           "hovertemplate": "position=ADC<br>tier=bronze<br>pick_rate=%{x}<br>ban_rate=%{y}<br>champion=%{customdata[0]}<extra></extra>",
           "legendgroup": "ADC",
           "marker": {
            "color": "#ab63fa",
            "symbol": "circle"
           },
           "mode": "markers",
           "name": "ADC",
           "orientation": "v",
           "showlegend": true,
           "type": "scatter",
           "x": [
            3.3043500000000003,
            8.74775,
            11.3094,
            1.71572,
            30.5415,
            12.0923,
            11.65,
            21.9571,
            3.13771,
            6.1456,
            16.674,
            15.3418,
            14.846699999999998,
            2.88651,
            1.0661,
            0.6843680000000001,
            7.827710000000001,
            3.33224,
            2.25014,
            8.43002,
            4.37959,
            1.92716,
            1.36554,
            1.41879
           ],
           "xaxis": "x",
           "y": [
            0.720924,
            0.946816,
            5.28765,
            0.665095,
            12.1985,
            2.35343,
            2.01972,
            3.90217,
            0.889204,
            3.56162,
            26.3268,
            3.90839,
            33.2227,
            0.559407,
            0.865143,
            0.478022,
            2.36831,
            1.02739,
            0.2031879999999999,
            14.1062,
            1.35521,
            2.46367,
            1.16712,
            0.1919249999999999
           ],
           "yaxis": "y"
          },
          {
           "customdata": [
            [
             "Amumu"
            ],
            [
             "Diana"
            ],
            [
             "Dr. Mundo"
            ],
            [
             "Ekko"
            ],
            [
             "Elise"
            ],
            [
             "Evelynn"
            ],
            [
             "Fiddlesticks"
            ],
            [
             "Garen"
            ],
            [
             "Graves"
            ],
            [
             "Gwen"
            ],
            [
             "Hecarim"
            ],
            [
             "Jarvan IV"
            ],
            [
             "Jax"
            ],
            [
             "Karthus"
            ],
            [
             "Kayn"
            ],
            [
             "Kha'Zix"
            ],
            [
             "Kindred"
            ],
            [
             "Lee Sin"
            ],
            [
             "Lillia"
            ],
            [
             "Master Yi"
            ],
            [
             "Mordekaiser"
            ],
            [
             "Nasus"
            ],
            [
             "Nidalee"
            ],
            [
             "Nocturne"
            ],
            [
             "Nunu & Willump"
            ],
            [
             "Olaf"
            ],
            [
             "Pantheon"
            ],
            [
             "Poppy"
            ],
            [
             "Rammus"
            ],
            [
             "Rek'Sai"
            ],
            [
             "Rengar"
            ],
            [
             "Sejuani"
            ],
            [
             "Shaco"
            ],
            [
             "Shyvana"
            ],
            [
             "Taliyah"
            ],
            [
             "Talon"
            ],
            [
             "Teemo"
            ],
            [
             "Trundle"
            ],
            [
             "Tryndamere"
            ],
            [
             "Twitch"
            ],
            [
             "Udyr"
            ],
            [
             "Vi"
            ],
            [
             "Viego"
            ],
            [
             "Volibear"
            ],
            [
             "Warwick"
            ],
            [
             "Wukong"
            ],
            [
             "Xin Zhao"
            ],
            [
             "Zac"
            ],
            [
             "Zed"
            ]
           ],
           "hovertemplate": "position=JUNGLE<br>tier=bronze<br>pick_rate=%{x}<br>ban_rate=%{y}<br>champion=%{customdata[0]}<extra></extra>",
           "legendgroup": "JUNGLE",
           "marker": {
            "color": "#FFA15A",
            "symbol": "circle"
           },
           "mode": "markers",
           "name": "JUNGLE",
           "orientation": "v",
           "showlegend": true,
           "type": "scatter",
           "x": [
            5.57315,
            7.559,
            0.508086,
            4.59079,
            1.0602200000000002,
            1.94336,
            1.75694,
            0.8784719999999999,
            11.8332,
            0.961448,
            2.29617,
            1.66752,
            2.3331,
            2.00231,
            10.5966,
            2.64765,
            5.645,
            12.3075,
            2.82028,
            14.298,
            1.10159,
            0.839543,
            4.04133,
            6.492109999999999,
            3.12081,
            1.45752,
            0.6666960000000001,
            2.96932,
            2.84408,
            1.52982,
            1.1512,
            1.33962,
            4.74406,
            2.344,
            2.36424,
            7.0635900000000005,
            1.5204799999999998,
            3.3639500000000004,
            0.631103,
            1.36631,
            1.06244,
            3.49253,
            14.2558,
            3.4956500000000004,
            5.991359999999999,
            10.3873,
            3.13216,
            3.54347,
            1.66841
           ],
           "xaxis": "x",
           "y": [
            0.578661,
            2.33065,
            0.13351,
            1.54393,
            0.957723,
            0.927126,
            0.260574,
            0.3524359999999999,
            21.5441,
            0.554477,
            0.776969,
            0.1526749999999999,
            0.833508,
            0.547859,
            4.98768,
            0.502628,
            2.44429,
            19.8267,
            0.844521,
            20.2374,
            0.519058,
            0.327967,
            2.82328,
            8.30028,
            1.18087,
            2.95697,
            0.135543,
            1.84514,
            4.84733,
            2.35947,
            0.8769640000000001,
            0.109833,
            22.6672,
            0.256977,
            4.50473,
            5.72482,
            2.65572,
            0.6531870000000001,
            0.8162330000000001,
            0.432861,
            0.208375,
            0.406422,
            7.78001,
            1.11738,
            2.62155,
            11.8744,
            1.17483,
            0.68001,
            7.108770000000001
           ],
           "yaxis": "y"
          }
         ],
         "name": "bronze"
        },
        {
         "data": [
          {
           "customdata": [
            [
             "Aatrox"
            ],
            [
             "Akali"
            ],
            [
             "Camille"
            ],
            [
             "Cho'Gath"
            ],
            [
             "Darius"
            ],
            [
             "Dr. Mundo"
            ],
            [
             "Fiora"
            ],
            [
             "Gangplank"
            ],
            [
             "Garen"
            ],
            [
             "Gnar"
            ],
            [
             "Graves"
            ],
            [
             "Gwen"
            ],
            [
             "Heimerdinger"
            ],
            [
             "Illaoi"
            ],
            [
             "Irelia"
            ],
            [
             "Jax"
            ],
            [
             "Jayce"
            ],
            [
             "Kalista"
            ],
            [
             "Kayle"
            ],
            [
             "Kennen"
            ],
            [
             "Kled"
            ],
            [
             "Lillia"
            ],
            [
             "Malphite"
            ],
            [
             "Mordekaiser"
            ],
            [
             "Nasus"
            ],
            [
             "Olaf"
            ],
            [
             "Ornn"
            ],
            [
             "Pantheon"
            ],
            [
             "Poppy"
            ],
            [
             "Quinn"
            ],
            [
             "Renekton"
            ],
            [
             "Rengar"
            ],
            [
             "Riven"
            ],
            [
             "Rumble"
            ],
            [
             "Ryze"
            ],
            [
             "Sett"
            ],
            [
             "Shen"
            ],
            [
             "Singed"
            ],
            [
             "Sion"
            ],
            [
             "Swain"
            ],
            [
             "Sylas"
            ],
            [
             "Tahm Kench"
            ],
            [
             "Teemo"
            ],
            [
             "Trundle"
            ],
            [
             "Tryndamere"
            ],
            [
             "Urgot"
            ],
            [
             "Vayne"
            ],
            [
             "Vladimir"
            ],
            [
             "Volibear"
            ],
            [
             "Warwick"
            ],
            [
             "Wukong"
            ],
            [
             "Yasuo"
            ],
            [
             "Yone"
            ],
            [
             "Yorick"
            ]
           ],
           "hovertemplate": "position=TOP<br>tier=iron<br>pick_rate=%{x}<br>ban_rate=%{y}<br>champion=%{customdata[0]}<extra></extra>",
           "legendgroup": "TOP",
           "marker": {
            "color": "#636efa",
            "symbol": "circle"
           },
           "mode": "markers",
           "name": "TOP",
           "orientation": "v",
           "showlegend": true,
           "type": "scatter",
           "x": [
            5.29512,
            5.48587,
            1.7518200000000002,
            1.27266,
            12.4107,
            2.91613,
            3.36324,
            2.17451,
            8.01593,
            1.41763,
            1.37185,
            4.61759,
            1.17652,
            6.760059999999999,
            4.73357,
            4.83275,
            2.82305,
            0.929317,
            4.5184,
            2.05854,
            0.68211,
            1.53665,
            7.205640000000001,
            8.58207,
            3.3403500000000004,
            5.49503,
            2.35152,
            1.05597,
            0.804187,
            0.825551,
            4.652690000000001,
            0.8362329999999999,
            1.73198,
            1.11701,
            0.5508759999999999,
            16.9963,
            1.23756,
            0.804187,
            0.935421,
            1.98834,
            2.56363,
            1.91815,
            7.52457,
            1.37948,
            2.59568,
            1.19026,
            3.1999600000000004,
            1.02851,
            4.1353800000000005,
            2.22182,
            1.66789,
            3.55857,
            8.167,
            1.82201
           ],
           "xaxis": "x",
           "y": [
            3.37432,
            4.95165,
            0.8537350000000001,
            0.123939,
            28.6039,
            0.909763,
            4.43419,
            4.86147,
            3.32688,
            0.49892,
            3.1569,
            2.20136,
            0.8779210000000001,
            11.1482,
            8.65293,
            1.8902,
            1.32307,
            0.354376,
            2.59415,
            0.8613559999999999,
            0.41385,
            0.5917870000000001,
            5.12343,
            3.7538,
            1.90965,
            8.58244,
            0.493382,
            0.186013,
            0.406122,
            0.716458,
            3.7497,
            0.80875,
            0.472948,
            0.4204819999999999,
            0.111118,
            9.20378,
            0.164717,
            0.196734,
            0.113717,
            2.08059,
            1.53533,
            1.44322,
            14.4925,
            0.370509,
            2.71643,
            0.324114,
            7.69577,
            0.612068,
            1.3923,
            1.03664,
            1.7084,
            3.5298700000000003,
            4.246980000000001,
            1.02161
           ],
           "yaxis": "y"
          },
          {
           "customdata": [
            [
             "Ahri"
            ],
            [
             "Akali"
            ],
            [
             "Akshan"
            ],
            [
             "Anivia"
            ],
            [
             "Annie"
            ],
            [
             "Azir"
            ],
            [
             "Brand"
            ],
            [
             "Cassiopeia"
            ],
            [
             "Corki"
            ],
            [
             "Diana"
            ],
            [
             "Ekko"
            ],
            [
             "Fizz"
            ],
            [
             "Galio"
            ],
            [
             "Garen"
            ],
            [
             "Heimerdinger"
            ],
            [
             "Irelia"
            ],
            [
             "Jayce"
            ],
            [
             "Kassadin"
            ],
            [
             "Katarina"
            ],
            [
             "LeBlanc"
            ],
            [
             "Lissandra"
            ],
            [
             "Lucian"
            ],
            [
             "Lux"
            ],
            [
             "Malphite"
            ],
            [
             "Malzahar"
            ],
            [
             "Mordekaiser"
            ],
            [
             "Neeko"
            ],
            [
             "Orianna"
            ],
            [
             "Pantheon"
            ],
            [
             "Pyke"
            ],
            [
             "Qiyana"
            ],
            [
             "Renekton"
            ],
            [
             "Ryze"
            ],
            [
             "Sett"
            ],
            [
             "Swain"
            ],
            [
             "Sylas"
            ],
            [
             "Syndra"
            ],
            [
             "Taliyah"
            ],
            [
             "Talon"
            ],
            [
             "Tristana"
            ],
            [
             "Twisted Fate"
            ],
            [
             "Veigar"
            ],
            [
             "Vex"
            ],
            [
             "Viktor"
            ],
            [
             "Vladimir"
            ],
            [
             "Xerath"
            ],
            [
             "Yasuo"
            ],
            [
             "Yone"
            ],
            [
             "Zed"
            ],
            [
             "Ziggs"
            ],
            [
             "Zoe"
            ]
           ],
           "hovertemplate": "position=MID<br>tier=iron<br>pick_rate=%{x}<br>ban_rate=%{y}<br>champion=%{customdata[0]}<extra></extra>",
           "legendgroup": "MID",
           "marker": {
            "color": "#EF553B",
            "symbol": "circle"
           },
           "mode": "markers",
           "name": "MID",
           "orientation": "v",
           "showlegend": true,
           "type": "scatter",
           "x": [
            12.6414,
            10.548,
            1.57232,
            1.4543199999999998,
            0.743249,
            0.994575,
            0.971588,
            0.84899,
            0.701873,
            0.970055,
            1.35164,
            1.57385,
            1.90946,
            1.0007,
            0.775431,
            7.66237,
            0.5808070000000001,
            1.02522,
            4.20357,
            4.6296,
            0.919484,
            1.32865,
            4.88093,
            1.76541,
            0.99764,
            0.789224,
            1.27502,
            0.685015,
            3.563,
            1.7179,
            1.24437,
            1.08959,
            1.49263,
            2.47341,
            1.7608100000000002,
            11.61,
            1.38689,
            1.19226,
            4.81503,
            0.763172,
            2.07497,
            3.81126,
            7.51218,
            1.92632,
            1.65967,
            2.26653,
            22.2592,
            21.8883,
            10.0653,
            0.559353,
            2.84887
           ],
           "xaxis": "x",
           "y": [
            12.0873,
            9.48046,
            1.22304,
            0.71855,
            0.238314,
            0.208828,
            0.473241,
            0.445627,
            0.0782805,
            0.360935,
            0.644999,
            1.7704999999999995,
            0.423461,
            0.413564,
            0.576171,
            13.947300000000002,
            0.2710499999999999,
            0.333984,
            3.80545,
            17.6053,
            0.264782,
            2.53359,
            5.297700000000001,
            1.24993,
            0.589001,
            0.343742,
            0.571599,
            0.163854,
            0.62497,
            2.73027,
            0.387233,
            0.8743960000000001,
            0.299802,
            1.33371,
            1.83469,
            6.92362,
            0.724404,
            2.45655,
            3.09038,
            0.353537,
            0.220978,
            1.6796700000000002,
            10.8834,
            1.10082,
            0.983487,
            6.04595,
            21.986,
            11.334,
            37.5831,
            0.126663,
            1.21805
           ],
           "yaxis": "y"
          },
          {
           "customdata": [
            [
             "Alistar"
            ],
            [
             "Amumu"
            ],
            [
             "Anivia"
            ],
            [
             "Ashe"
            ],
            [
             "Bard"
            ],
            [
             "Blitzcrank"
            ],
            [
             "Brand"
            ],
            [
             "Braum"
            ],
            [
             "Galio"
            ],
            [
             "Janna"
            ],
            [
             "Karma"
            ],
            [
             "Leona"
            ],
            [
             "Lulu"
            ],
            [
             "Lux"
            ],
            [
             "Malphite"
            ],
            [
             "Maokai"
            ],
            [
             "Miss Fortune"
            ],
            [
             "Morgana"
            ],
            [
             "Nami"
            ],
            [
             "Nautilus"
            ],
            [
             "Neeko"
            ],
            [
             "Pantheon"
            ],
            [
             "Pyke"
            ],
            [
             "Rakan"
            ],
            [
             "Rell"
            ],
            [
             "Renata Glasc"
            ],
            [
             "Senna"
            ],
            [
             "Seraphine"
            ],
            [
             "Shaco"
            ],
            [
             "Shen"
            ],
            [
             "Sona"
            ],
            [
             "Soraka"
            ],
            [
             "Swain"
            ],
            [
             "Tahm Kench"
            ],
            [
             "Teemo"
            ],
            [
             "Thresh"
            ],
            [
             "Veigar"
            ],
            [
             "Vel'Koz"
            ],
            [
             "Vex"
            ],
            [
             "Xerath"
            ],
            [
             "Yuumi"
            ],
            [
             "Ziggs"
            ],
            [
             "Zilean"
            ],
            [
             "Zyra"
            ]
           ],
           "hovertemplate": "position=SUPPORT<br>tier=iron<br>pick_rate=%{x}<br>ban_rate=%{y}<br>champion=%{customdata[0]}<extra></extra>",
           "legendgroup": "SUPPORT",
           "marker": {
            "color": "#00cc96",
            "symbol": "circle"
           },
           "mode": "markers",
           "name": "SUPPORT",
           "orientation": "v",
           "showlegend": true,
           "type": "scatter",
           "x": [
            3.1497200000000003,
            1.64663,
            0.99346,
            1.93693,
            0.524147,
            11.5457,
            3.39002,
            1.04991,
            1.10635,
            0.967656,
            3.1803600000000003,
            8.73955,
            4.9673,
            23.6576,
            2.76427,
            1.7175900000000002,
            3.35615,
            11.078,
            2.79975,
            10.6136,
            1.53051,
            3.89482,
            10.6039,
            1.98369,
            0.537049,
            2.3981700000000004,
            8.746,
            4.10609,
            1.15796,
            0.504794,
            2.16594,
            2.70621,
            3.91578,
            0.930563,
            1.41117,
            3.61903,
            1.80145,
            1.45471,
            0.7499330000000001,
            7.539650000000001,
            17.6968,
            0.593496,
            1.59341,
            1.39826
           ],
           "xaxis": "x",
           "y": [
            1.38478,
            0.183033,
            0.466414,
            0.307441,
            0.0950426,
            37.4494,
            1.5690099999999998,
            0.107315,
            0.233142,
            0.116183,
            1.92255,
            17.149700000000003,
            1.20792,
            24.3993,
            1.85971,
            0.288049,
            1.10967,
            13.0462,
            0.593874,
            19.4043,
            0.65198,
            0.649162,
            16.0138,
            0.493269,
            0.8435929999999999,
            2.05944,
            6.74134,
            0.460876,
            6.063700000000001,
            0.0635714,
            0.1063769999999999,
            0.307041,
            3.87696,
            0.662481,
            2.57167,
            1.47848,
            0.754398,
            0.311423,
            1.03239,
            19.1107,
            7.47522,
            0.1277039999999999,
            0.27692,
            0.5129790000000001
           ],
           "yaxis": "y"
          },
          {
           "customdata": [
            [
             "Aphelios"
            ],
            [
             "Ashe"
            ],
            [
             "Caitlyn"
            ],
            [
             "Draven"
            ],
            [
             "Ezreal"
            ],
            [
             "Jhin"
            ],
            [
             "Jinx"
            ],
            [
             "Kai'Sa"
            ],
            [
             "Kalista"
            ],
            [
             "Kog'Maw"
            ],
            [
             "Lucian"
            ],
            [
             "Miss Fortune"
            ],
            [
             "Samira"
            ],
            [
             "Sivir"
            ],
            [
             "Tristana"
            ],
            [
             "Twitch"
            ],
            [
             "Varus"
            ],
            [
             "Vayne"
            ],
            [
             "Xayah"
            ],
            [
             "Yasuo"
            ],
            [
             "Zeri"
            ],
            [
             "Ziggs"
            ]
           ],
           "hovertemplate": "position=ADC<br>tier=iron<br>pick_rate=%{x}<br>ban_rate=%{y}<br>champion=%{customdata[0]}<extra></extra>",
           "legendgroup": "ADC",
           "marker": {
            "color": "#ab63fa",
            "symbol": "circle"
           },
           "mode": "markers",
           "name": "ADC",
           "orientation": "v",
           "showlegend": true,
           "type": "scatter",
           "x": [
            3.58503,
            9.9334,
            11.558,
            1.30757,
            26.279000000000003,
            10.7964,
            11.5205,
            20.7748,
            3.50436,
            3.02411,
            13.1732,
            22.3881,
            16.6851,
            2.64516,
            9.53382,
            2.5795,
            2.11988,
            7.355780000000001,
            3.83454,
            3.28862,
            1.6602599999999998,
            1.34697
           ],
           "xaxis": "x",
           "y": [
            0.96228,
            1.35545,
            6.51206,
            0.746641,
            12.9989,
            2.83145,
            2.93767,
            4.77808,
            1.08698,
            2.5056700000000003,
            20.52,
            6.363670000000001,
            34.0247,
            0.597814,
            3.60778,
            1.2322,
            0.289305,
            14.3897,
            1.4883499999999998,
            2.65345,
            1.07723,
            0.249162
           ],
           "yaxis": "y"
          },
          {
           "customdata": [
            [
             "Amumu"
            ],
            [
             "Diana"
            ],
            [
             "Dr. Mundo"
            ],
            [
             "Ekko"
            ],
            [
             "Elise"
            ],
            [
             "Evelynn"
            ],
            [
             "Fiddlesticks"
            ],
            [
             "Garen"
            ],
            [
             "Graves"
            ],
            [
             "Gwen"
            ],
            [
             "Hecarim"
            ],
            [
             "Jarvan IV"
            ],
            [
             "Jax"
            ],
            [
             "Karthus"
            ],
            [
             "Kayn"
            ],
            [
             "Kha'Zix"
            ],
            [
             "Kindred"
            ],
            [
             "Lee Sin"
            ],
            [
             "Lillia"
            ],
            [
             "Master Yi"
            ],
            [
             "Mordekaiser"
            ],
            [
             "Nasus"
            ],
            [
             "Nidalee"
            ],
            [
             "Nocturne"
            ],
            [
             "Nunu & Willump"
            ],
            [
             "Olaf"
            ],
            [
             "Pantheon"
            ],
            [
             "Poppy"
            ],
            [
             "Rammus"
            ],
            [
             "Rek'Sai"
            ],
            [
             "Rengar"
            ],
            [
             "Sejuani"
            ],
            [
             "Shaco"
            ],
            [
             "Shyvana"
            ],
            [
             "Taliyah"
            ],
            [
             "Talon"
            ],
            [
             "Teemo"
            ],
            [
             "Trundle"
            ],
            [
             "Tryndamere"
            ],
            [
             "Twitch"
            ],
            [
             "Udyr"
            ],
            [
             "Vi"
            ],
            [
             "Viego"
            ],
            [
             "Volibear"
            ],
            [
             "Warwick"
            ],
            [
             "Wukong"
            ],
            [
             "Xin Zhao"
            ],
            [
             "Zac"
            ],
            [
             "Zed"
            ]
           ],
           "hovertemplate": "position=JUNGLE<br>tier=iron<br>pick_rate=%{x}<br>ban_rate=%{y}<br>champion=%{customdata[0]}<extra></extra>",
           "legendgroup": "JUNGLE",
           "marker": {
            "color": "#FFA15A",
            "symbol": "circle"
           },
           "mode": "markers",
           "name": "JUNGLE",
           "orientation": "v",
           "showlegend": true,
           "type": "scatter",
           "x": [
            7.562240000000001,
            5.75165,
            0.617712,
            3.38008,
            0.616136,
            1.91459,
            1.30949,
            1.15979,
            7.29593,
            1.24488,
            2.20296,
            0.9896,
            2.67885,
            1.79483,
            13.7126,
            2.15254,
            4.04507,
            10.4255,
            2.09266,
            19.5556,
            1.3567600000000002,
            1.05421,
            2.9294,
            6.92089,
            4.12228,
            1.72234,
            0.907658,
            2.69619,
            2.7277,
            1.1818499999999998,
            1.09991,
            1.08257,
            4.36023,
            2.03278,
            1.26221,
            7.015440000000001,
            1.7097399999999998,
            3.09171,
            1.00221,
            0.773716,
            0.85093,
            2.8128,
            15.2947,
            4.36023,
            9.95115,
            7.770249999999999,
            3.95367,
            2.21714,
            1.71604
           ],
           "xaxis": "x",
           "y": [
            0.86031,
            2.08122,
            0.186618,
            1.56862,
            0.636514,
            0.753371,
            0.226931,
            0.466131,
            16.2585,
            0.5747099999999999,
            0.769712,
            0.121609,
            1.01463,
            0.428831,
            6.136620000000001,
            0.5345230000000001,
            1.91291,
            16.8856,
            0.780431,
            28.9429,
            0.5746829999999999,
            0.583624,
            2.44716,
            8.62463,
            1.37729,
            2.605,
            0.154831,
            1.31855,
            5.49324,
            2.31699,
            1.03012,
            0.113383,
            23.3681,
            0.2639519999999999,
            2.52918,
            4.37886,
            3.18887,
            0.8041349999999999,
            1.01567,
            0.4400079999999999,
            0.247839,
            0.372075,
            7.35557,
            1.42158,
            4.49614,
            7.70734,
            1.18245,
            0.597998,
            6.23142
           ],
           "yaxis": "y"
          }
         ],
         "name": "iron"
        }
       ],
       "layout": {
        "legend": {
         "title": {
          "text": "position"
         },
         "tracegroupgap": 0
        },
        "margin": {
         "t": 60
        },
        "sliders": [
         {
          "active": 0,
          "currentvalue": {
           "prefix": "tier="
          },
          "len": 0.9,
          "pad": {
           "b": 10,
           "t": 60
          },
          "steps": [
           {
            "args": [
             [
              "challenger"
             ],
             {
              "frame": {
               "duration": 0,
               "redraw": false
              },
              "fromcurrent": true,
              "mode": "immediate",
              "transition": {
               "duration": 0,
               "easing": "linear"
              }
             }
            ],
            "label": "challenger",
            "method": "animate"
           },
           {
            "args": [
             [
              "grandmaster"
             ],
             {
              "frame": {
               "duration": 0,
               "redraw": false
              },
              "fromcurrent": true,
              "mode": "immediate",
              "transition": {
               "duration": 0,
               "easing": "linear"
              }
             }
            ],
            "label": "grandmaster",
            "method": "animate"
           },
           {
            "args": [
             [
              "master"
             ],
             {
              "frame": {
               "duration": 0,
               "redraw": false
              },
              "fromcurrent": true,
              "mode": "immediate",
              "transition": {
               "duration": 0,
               "easing": "linear"
              }
             }
            ],
            "label": "master",
            "method": "animate"
           },
           {
            "args": [
             [
              "diamond"
             ],
             {
              "frame": {
               "duration": 0,
               "redraw": false
              },
              "fromcurrent": true,
              "mode": "immediate",
              "transition": {
               "duration": 0,
               "easing": "linear"
              }
             }
            ],
            "label": "diamond",
            "method": "animate"
           },
           {
            "args": [
             [
              "platinum"
             ],
             {
              "frame": {
               "duration": 0,
               "redraw": false
              },
              "fromcurrent": true,
              "mode": "immediate",
              "transition": {
               "duration": 0,
               "easing": "linear"
              }
             }
            ],
            "label": "platinum",
            "method": "animate"
           },
           {
            "args": [
             [
              "gold"
             ],
             {
              "frame": {
               "duration": 0,
               "redraw": false
              },
              "fromcurrent": true,
              "mode": "immediate",
              "transition": {
               "duration": 0,
               "easing": "linear"
              }
             }
            ],
            "label": "gold",
            "method": "animate"
           },
           {
            "args": [
             [
              "silver"
             ],
             {
              "frame": {
               "duration": 0,
               "redraw": false
              },
              "fromcurrent": true,
              "mode": "immediate",
              "transition": {
               "duration": 0,
               "easing": "linear"
              }
             }
            ],
            "label": "silver",
            "method": "animate"
           },
           {
            "args": [
             [
              "bronze"
             ],
             {
              "frame": {
               "duration": 0,
               "redraw": false
              },
              "fromcurrent": true,
              "mode": "immediate",
              "transition": {
               "duration": 0,
               "easing": "linear"
              }
             }
            ],
            "label": "bronze",
            "method": "animate"
           },
           {
            "args": [
             [
              "iron"
             ],
             {
              "frame": {
               "duration": 0,
               "redraw": false
              },
              "fromcurrent": true,
              "mode": "immediate",
              "transition": {
               "duration": 0,
               "easing": "linear"
              }
             }
            ],
            "label": "iron",
            "method": "animate"
           }
          ],
          "x": 0.1,
          "xanchor": "left",
          "y": 0,
          "yanchor": "top"
         }
        ],
        "template": {
         "data": {
          "bar": [
           {
            "error_x": {
             "color": "#2a3f5f"
            },
            "error_y": {
             "color": "#2a3f5f"
            },
            "marker": {
             "line": {
              "color": "#E5ECF6",
              "width": 0.5
             },
             "pattern": {
              "fillmode": "overlay",
              "size": 10,
              "solidity": 0.2
             }
            },
            "type": "bar"
           }
          ],
          "barpolar": [
           {
            "marker": {
             "line": {
              "color": "#E5ECF6",
              "width": 0.5
             },
             "pattern": {
              "fillmode": "overlay",
              "size": 10,
              "solidity": 0.2
             }
            },
            "type": "barpolar"
           }
          ],
          "carpet": [
           {
            "aaxis": {
             "endlinecolor": "#2a3f5f",
             "gridcolor": "white",
             "linecolor": "white",
             "minorgridcolor": "white",
             "startlinecolor": "#2a3f5f"
            },
            "baxis": {
             "endlinecolor": "#2a3f5f",
             "gridcolor": "white",
             "linecolor": "white",
             "minorgridcolor": "white",
             "startlinecolor": "#2a3f5f"
            },
            "type": "carpet"
           }
          ],
          "choropleth": [
           {
            "colorbar": {
             "outlinewidth": 0,
             "ticks": ""
            },
            "type": "choropleth"
           }
          ],
          "contour": [
           {
            "colorbar": {
             "outlinewidth": 0,
             "ticks": ""
            },
            "colorscale": [
             [
              0,
              "#0d0887"
             ],
             [
              0.1111111111111111,
              "#46039f"
             ],
             [
              0.2222222222222222,
              "#7201a8"
             ],
             [
              0.3333333333333333,
              "#9c179e"
             ],
             [
              0.4444444444444444,
              "#bd3786"
             ],
             [
              0.5555555555555556,
              "#d8576b"
             ],
             [
              0.6666666666666666,
              "#ed7953"
             ],
             [
              0.7777777777777778,
              "#fb9f3a"
             ],
             [
              0.8888888888888888,
              "#fdca26"
             ],
             [
              1,
              "#f0f921"
             ]
            ],
            "type": "contour"
           }
          ],
          "contourcarpet": [
           {
            "colorbar": {
             "outlinewidth": 0,
             "ticks": ""
            },
            "type": "contourcarpet"
           }
          ],
          "heatmap": [
           {
            "colorbar": {
             "outlinewidth": 0,
             "ticks": ""
            },
            "colorscale": [
             [
              0,
              "#0d0887"
             ],
             [
              0.1111111111111111,
              "#46039f"
             ],
             [
              0.2222222222222222,
              "#7201a8"
             ],
             [
              0.3333333333333333,
              "#9c179e"
             ],
             [
              0.4444444444444444,
              "#bd3786"
             ],
             [
              0.5555555555555556,
              "#d8576b"
             ],
             [
              0.6666666666666666,
              "#ed7953"
             ],
             [
              0.7777777777777778,
              "#fb9f3a"
             ],
             [
              0.8888888888888888,
              "#fdca26"
             ],
             [
              1,
              "#f0f921"
             ]
            ],
            "type": "heatmap"
           }
          ],
          "heatmapgl": [
           {
            "colorbar": {
             "outlinewidth": 0,
             "ticks": ""
            },
            "colorscale": [
             [
              0,
              "#0d0887"
             ],
             [
              0.1111111111111111,
              "#46039f"
             ],
             [
              0.2222222222222222,
              "#7201a8"
             ],
             [
              0.3333333333333333,
              "#9c179e"
             ],
             [
              0.4444444444444444,
              "#bd3786"
             ],
             [
              0.5555555555555556,
              "#d8576b"
             ],
             [
              0.6666666666666666,
              "#ed7953"
             ],
             [
              0.7777777777777778,
              "#fb9f3a"
             ],
             [
              0.8888888888888888,
              "#fdca26"
             ],
             [
              1,
              "#f0f921"
             ]
            ],
            "type": "heatmapgl"
           }
          ],
          "histogram": [
           {
            "marker": {
             "pattern": {
              "fillmode": "overlay",
              "size": 10,
              "solidity": 0.2
             }
            },
            "type": "histogram"
           }
          ],
          "histogram2d": [
           {
            "colorbar": {
             "outlinewidth": 0,
             "ticks": ""
            },
            "colorscale": [
             [
              0,
              "#0d0887"
             ],
             [
              0.1111111111111111,
              "#46039f"
             ],
             [
              0.2222222222222222,
              "#7201a8"
             ],
             [
              0.3333333333333333,
              "#9c179e"
             ],
             [
              0.4444444444444444,
              "#bd3786"
             ],
             [
              0.5555555555555556,
              "#d8576b"
             ],
             [
              0.6666666666666666,
              "#ed7953"
             ],
             [
              0.7777777777777778,
              "#fb9f3a"
             ],
             [
              0.8888888888888888,
              "#fdca26"
             ],
             [
              1,
              "#f0f921"
             ]
            ],
            "type": "histogram2d"
           }
          ],
          "histogram2dcontour": [
           {
            "colorbar": {
             "outlinewidth": 0,
             "ticks": ""
            },
            "colorscale": [
             [
              0,
              "#0d0887"
             ],
             [
              0.1111111111111111,
              "#46039f"
             ],
             [
              0.2222222222222222,
              "#7201a8"
             ],
             [
              0.3333333333333333,
              "#9c179e"
             ],
             [
              0.4444444444444444,
              "#bd3786"
             ],
             [
              0.5555555555555556,
              "#d8576b"
             ],
             [
              0.6666666666666666,
              "#ed7953"
             ],
             [
              0.7777777777777778,
              "#fb9f3a"
             ],
             [
              0.8888888888888888,
              "#fdca26"
             ],
             [
              1,
              "#f0f921"
             ]
            ],
            "type": "histogram2dcontour"
           }
          ],
          "mesh3d": [
           {
            "colorbar": {
             "outlinewidth": 0,
             "ticks": ""
            },
            "type": "mesh3d"
           }
          ],
          "parcoords": [
           {
            "line": {
             "colorbar": {
              "outlinewidth": 0,
              "ticks": ""
             }
            },
            "type": "parcoords"
           }
          ],
          "pie": [
           {
            "automargin": true,
            "type": "pie"
           }
          ],
          "scatter": [
           {
            "fillpattern": {
             "fillmode": "overlay",
             "size": 10,
             "solidity": 0.2
            },
            "type": "scatter"
           }
          ],
          "scatter3d": [
           {
            "line": {
             "colorbar": {
              "outlinewidth": 0,
              "ticks": ""
             }
            },
            "marker": {
             "colorbar": {
              "outlinewidth": 0,
              "ticks": ""
             }
            },
            "type": "scatter3d"
           }
          ],
          "scattercarpet": [
           {
            "marker": {
             "colorbar": {
              "outlinewidth": 0,
              "ticks": ""
             }
            },
            "type": "scattercarpet"
           }
          ],
          "scattergeo": [
           {
            "marker": {
             "colorbar": {
              "outlinewidth": 0,
              "ticks": ""
             }
            },
            "type": "scattergeo"
           }
          ],
          "scattergl": [
           {
            "marker": {
             "colorbar": {
              "outlinewidth": 0,
              "ticks": ""
             }
            },
            "type": "scattergl"
           }
          ],
          "scattermapbox": [
           {
            "marker": {
             "colorbar": {
              "outlinewidth": 0,
              "ticks": ""
             }
            },
            "type": "scattermapbox"
           }
          ],
          "scatterpolar": [
           {
            "marker": {
             "colorbar": {
              "outlinewidth": 0,
              "ticks": ""
             }
            },
            "type": "scatterpolar"
           }
          ],
          "scatterpolargl": [
           {
            "marker": {
             "colorbar": {
              "outlinewidth": 0,
              "ticks": ""
             }
            },
            "type": "scatterpolargl"
           }
          ],
          "scatterternary": [
           {
            "marker": {
             "colorbar": {
              "outlinewidth": 0,
              "ticks": ""
             }
            },
            "type": "scatterternary"
           }
          ],
          "surface": [
           {
            "colorbar": {
             "outlinewidth": 0,
             "ticks": ""
            },
            "colorscale": [
             [
              0,
              "#0d0887"
             ],
             [
              0.1111111111111111,
              "#46039f"
             ],
             [
              0.2222222222222222,
              "#7201a8"
             ],
             [
              0.3333333333333333,
              "#9c179e"
             ],
             [
              0.4444444444444444,
              "#bd3786"
             ],
             [
              0.5555555555555556,
              "#d8576b"
             ],
             [
              0.6666666666666666,
              "#ed7953"
             ],
             [
              0.7777777777777778,
              "#fb9f3a"
             ],
             [
              0.8888888888888888,
              "#fdca26"
             ],
             [
              1,
              "#f0f921"
             ]
            ],
            "type": "surface"
           }
          ],
          "table": [
           {
            "cells": {
             "fill": {
              "color": "#EBF0F8"
             },
             "line": {
              "color": "white"
             }
            },
            "header": {
             "fill": {
              "color": "#C8D4E3"
             },
             "line": {
              "color": "white"
             }
            },
            "type": "table"
           }
          ]
         },
         "layout": {
          "annotationdefaults": {
           "arrowcolor": "#2a3f5f",
           "arrowhead": 0,
           "arrowwidth": 1
          },
          "autotypenumbers": "strict",
          "coloraxis": {
           "colorbar": {
            "outlinewidth": 0,
            "ticks": ""
           }
          },
          "colorscale": {
           "diverging": [
            [
             0,
             "#8e0152"
            ],
            [
             0.1,
             "#c51b7d"
            ],
            [
             0.2,
             "#de77ae"
            ],
            [
             0.3,
             "#f1b6da"
            ],
            [
             0.4,
             "#fde0ef"
            ],
            [
             0.5,
             "#f7f7f7"
            ],
            [
             0.6,
             "#e6f5d0"
            ],
            [
             0.7,
             "#b8e186"
            ],
            [
             0.8,
             "#7fbc41"
            ],
            [
             0.9,
             "#4d9221"
            ],
            [
             1,
             "#276419"
            ]
           ],
           "sequential": [
            [
             0,
             "#0d0887"
            ],
            [
             0.1111111111111111,
             "#46039f"
            ],
            [
             0.2222222222222222,
             "#7201a8"
            ],
            [
             0.3333333333333333,
             "#9c179e"
            ],
            [
             0.4444444444444444,
             "#bd3786"
            ],
            [
             0.5555555555555556,
             "#d8576b"
            ],
            [
             0.6666666666666666,
             "#ed7953"
            ],
            [
             0.7777777777777778,
             "#fb9f3a"
            ],
            [
             0.8888888888888888,
             "#fdca26"
            ],
            [
             1,
             "#f0f921"
            ]
           ],
           "sequentialminus": [
            [
             0,
             "#0d0887"
            ],
            [
             0.1111111111111111,
             "#46039f"
            ],
            [
             0.2222222222222222,
             "#7201a8"
            ],
            [
             0.3333333333333333,
             "#9c179e"
            ],
            [
             0.4444444444444444,
             "#bd3786"
            ],
            [
             0.5555555555555556,
             "#d8576b"
            ],
            [
             0.6666666666666666,
             "#ed7953"
            ],
            [
             0.7777777777777778,
             "#fb9f3a"
            ],
            [
             0.8888888888888888,
             "#fdca26"
            ],
            [
             1,
             "#f0f921"
            ]
           ]
          },
          "colorway": [
           "#636efa",
           "#EF553B",
           "#00cc96",
           "#ab63fa",
           "#FFA15A",
           "#19d3f3",
           "#FF6692",
           "#B6E880",
           "#FF97FF",
           "#FECB52"
          ],
          "font": {
           "color": "#2a3f5f"
          },
          "geo": {
           "bgcolor": "white",
           "lakecolor": "white",
           "landcolor": "#E5ECF6",
           "showlakes": true,
           "showland": true,
           "subunitcolor": "white"
          },
          "hoverlabel": {
           "align": "left"
          },
          "hovermode": "closest",
          "mapbox": {
           "style": "light"
          },
          "paper_bgcolor": "white",
          "plot_bgcolor": "#E5ECF6",
          "polar": {
           "angularaxis": {
            "gridcolor": "white",
            "linecolor": "white",
            "ticks": ""
           },
           "bgcolor": "#E5ECF6",
           "radialaxis": {
            "gridcolor": "white",
            "linecolor": "white",
            "ticks": ""
           }
          },
          "scene": {
           "xaxis": {
            "backgroundcolor": "#E5ECF6",
            "gridcolor": "white",
            "gridwidth": 2,
            "linecolor": "white",
            "showbackground": true,
            "ticks": "",
            "zerolinecolor": "white"
           },
           "yaxis": {
            "backgroundcolor": "#E5ECF6",
            "gridcolor": "white",
            "gridwidth": 2,
            "linecolor": "white",
            "showbackground": true,
            "ticks": "",
            "zerolinecolor": "white"
           },
           "zaxis": {
            "backgroundcolor": "#E5ECF6",
            "gridcolor": "white",
            "gridwidth": 2,
            "linecolor": "white",
            "showbackground": true,
            "ticks": "",
            "zerolinecolor": "white"
           }
          },
          "shapedefaults": {
           "line": {
            "color": "#2a3f5f"
           }
          },
          "ternary": {
           "aaxis": {
            "gridcolor": "white",
            "linecolor": "white",
            "ticks": ""
           },
           "baxis": {
            "gridcolor": "white",
            "linecolor": "white",
            "ticks": ""
           },
           "bgcolor": "#E5ECF6",
           "caxis": {
            "gridcolor": "white",
            "linecolor": "white",
            "ticks": ""
           }
          },
          "title": {
           "x": 0.05
          },
          "xaxis": {
           "automargin": true,
           "gridcolor": "white",
           "linecolor": "white",
           "ticks": "",
           "title": {
            "standoff": 15
           },
           "zerolinecolor": "white",
           "zerolinewidth": 2
          },
          "yaxis": {
           "automargin": true,
           "gridcolor": "white",
           "linecolor": "white",
           "ticks": "",
           "title": {
            "standoff": 15
           },
           "zerolinecolor": "white",
           "zerolinewidth": 2
          }
         }
        },
        "updatemenus": [
         {
          "buttons": [
           {
            "args": [
             null,
             {
              "frame": {
               "duration": 500,
               "redraw": false
              },
              "fromcurrent": true,
              "mode": "immediate",
              "transition": {
               "duration": 500,
               "easing": "linear"
              }
             }
            ],
            "label": "&#9654;",
            "method": "animate"
           },
           {
            "args": [
             [
              null
             ],
             {
              "frame": {
               "duration": 0,
               "redraw": false
              },
              "fromcurrent": true,
              "mode": "immediate",
              "transition": {
               "duration": 0,
               "easing": "linear"
              }
             }
            ],
            "label": "&#9724;",
            "method": "animate"
           }
          ],
          "direction": "left",
          "pad": {
           "r": 10,
           "t": 70
          },
          "showactive": false,
          "type": "buttons",
          "x": 0.1,
          "xanchor": "right",
          "y": 0,
          "yanchor": "top"
         }
        ],
        "xaxis": {
         "anchor": "y",
         "domain": [
          0,
          1
         ],
         "range": [
          -10,
          60
         ],
         "title": {
          "text": "pick_rate"
         }
        },
        "yaxis": {
         "anchor": "x",
         "domain": [
          0,
          1
         ],
         "range": [
          -10,
          60
         ],
         "title": {
          "text": "ban_rate"
         }
        }
       }
      }
     },
     "metadata": {},
     "output_type": "display_data"
    }
   ],
   "source": [
    "df = pd.read_csv('dataframe.csv')\n",
    "\n",
    "fig = px.scatter(df, x='pick_rate',\n",
    "                 y='ban_rate', color='position', animation_frame='tier', hover_data=['champion'], range_x=[-10, 60], range_y=[-10, 60])\n",
    "fig.show()"
   ]
  }
 ],
 "metadata": {
  "interpreter": {
   "hash": "a5402ad5e55afdc1166c58efd4d7d720cf2c5010e726faa52f37033350a90f4c"
  },
  "kernelspec": {
   "display_name": "Python 3.10.4 64-bit",
   "language": "python",
   "name": "python3"
  },
  "language_info": {
   "codemirror_mode": {
    "name": "ipython",
    "version": 3
   },
   "file_extension": ".py",
   "mimetype": "text/x-python",
   "name": "python",
   "nbconvert_exporter": "python",
   "pygments_lexer": "ipython3",
   "version": "3.10.4"
  },
  "orig_nbformat": 4
 },
 "nbformat": 4,
 "nbformat_minor": 2
}
