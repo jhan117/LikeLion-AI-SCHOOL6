{
 "cells": [
  {
   "cell_type": "code",
   "execution_count": 4,
   "id": "948c7517",
   "metadata": {},
   "outputs": [],
   "source": [
    "import pandas as pd\n",
    "import seaborn as sns\n",
    "state = pd.read_csv(\"https://raw.githubusercontent.com/gedeck/practical-statistics-for-data-scientists/master/data/state.csv\")"
   ]
  },
  {
   "cell_type": "code",
   "execution_count": 5,
   "id": "1995811d",
   "metadata": {},
   "outputs": [
    {
     "data": {
      "text/plain": [
       "0.05    1.600\n",
       "0.25    2.425\n",
       "0.50    4.000\n",
       "0.75    5.550\n",
       "0.95    6.510\n",
       "Name: Murder.Rate, dtype: float64"
      ]
     },
     "execution_count": 5,
     "metadata": {},
     "output_type": "execute_result"
    }
   ],
   "source": [
    "# 백분위수\n",
    "state[\"Murder.Rate\"].quantile([0.05, 0.25, 0.5, 0.75, 0.95])"
   ]
  },
  {
   "cell_type": "code",
   "execution_count": 30,
   "id": "c61ce25c",
   "metadata": {},
   "outputs": [
    {
     "data": {
      "text/plain": [
       "<AxesSubplot:>"
      ]
     },
     "execution_count": 30,
     "metadata": {},
     "output_type": "execute_result"
    },
    {
     "data": {
      "image/png": "[encoded data removed]",
      "text/plain": [
       "<Figure size 432x288 with 1 Axes>"
      ]
     },
     "metadata": {
      "needs_background": "light"
     },
     "output_type": "display_data"
    }
   ],
   "source": [
    "# 상자 그림 pandas\n",
    "(state[\"Population\"] / 1000000).plot.box()"
   ]
  },
  {
   "cell_type": "code",
   "execution_count": 10,
   "id": "a925ac4d",
   "metadata": {},
   "outputs": [
    {
     "data": {
      "text/plain": [
       "<AxesSubplot:ylabel='Population'>"
      ]
     },
     "execution_count": 10,
     "metadata": {},
     "output_type": "execute_result"
    },
    {
     "data": {
      "image/png": "[encoded data removed]",
      "text/plain": [
       "<Figure size 432x288 with 1 Axes>"
      ]
     },
     "metadata": {
      "needs_background": "light"
     },
     "output_type": "display_data"
    }
   ],
   "source": [
    "# 상자그림 seaborn\n",
    "sns.boxplot(y = state[\"Population\"] / 1000000)"
   ]
  },
  {
   "cell_type": "markdown",
   "id": "bd15155f",
   "metadata": {},
   "source": [
    "상자부분의 위쪽과 아래쪽은 각각 75%, 25% 백분위수를 나타낸다. 중간값은 상자 안에 있는 굵은 수평선으로 표시한다. 구레나룻처럼 위아래로 나 있는 점선이 바로 수염으로 데이터 전체의 범위를 나타내주는 위아래 선들과 연결되어 있다. 수염 부분보다 더 바깥쪽에 위치한 데이터는 각자 하나의 점 또는 원(종종 고려되는 특잇값)으로 표시한다."
   ]
  },
  {
   "cell_type": "markdown",
   "id": "95dde310",
   "metadata": {},
   "source": [
    "R 함수, Matplotlib는 수염 부분이 사분위범위의 1.5배 이상 더 멀리 나가지 않도록 한다. 다른 소프트웨어는 또 다른 규칙을 사용할 수 있다."
   ]
  }
 ],
 "metadata": {
  "kernelspec": {
   "display_name": "Python 3 (ipykernel)",
   "language": "python",
   "name": "python3"
  },
  "language_info": {
   "codemirror_mode": {
    "name": "ipython",
    "version": 3
   },
   "file_extension": ".py",
   "mimetype": "text/x-python",
   "name": "python",
   "nbconvert_exporter": "python",
   "pygments_lexer": "ipython3",
   "version": "3.9.7"
  }
 },
 "nbformat": 4,
 "nbformat_minor": 5
}
