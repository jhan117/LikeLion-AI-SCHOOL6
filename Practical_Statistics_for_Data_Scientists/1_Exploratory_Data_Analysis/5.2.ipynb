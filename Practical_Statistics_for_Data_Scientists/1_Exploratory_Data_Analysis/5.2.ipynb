{
 "cells": [
  {
   "cell_type": "code",
   "execution_count": 1,
   "id": "84cbe309",
   "metadata": {},
   "outputs": [],
   "source": [
    "import pandas as pd\n",
    "import seaborn as sns\n",
    "state = pd.read_csv(\"https://raw.githubusercontent.com/gedeck/practical-statistics-for-data-scientists/master/data/state.csv\")"
   ]
  },
  {
   "cell_type": "code",
   "execution_count": 12,
   "id": "049d71bb",
   "metadata": {},
   "outputs": [
    {
     "data": {
      "text/plain": [
       "(526935.67, 4232659.0]      24\n",
       "(4232659.0, 7901692.0]      14\n",
       "(7901692.0, 11570725.0]      6\n",
       "(11570725.0, 15239758.0]     2\n",
       "(15239758.0, 18908791.0]     1\n",
       "(18908791.0, 22577824.0]     1\n",
       "(22577824.0, 26246857.0]     1\n",
       "(33584923.0, 37253956.0]     1\n",
       "(26246857.0, 29915890.0]     0\n",
       "(29915890.0, 33584923.0]     0\n",
       "Name: Population, dtype: int64"
      ]
     },
     "execution_count": 12,
     "metadata": {},
     "output_type": "execute_result"
    }
   ],
   "source": [
    "# 매핑\n",
    "binnedPopulation = pd.cut(state[\"Population\"], 10)\n",
    "# 도수분포표\n",
    "binnedPopulation.value_counts()"
   ]
  },
  {
   "cell_type": "markdown",
   "id": "3389973a",
   "metadata": {},
   "source": [
    "빈 구간이 있다는 것은 중요한 정보를 준다. 구간의 크기를 바꿔보는 것도 유용한 정보를 얻는 좋은 방법이다. 만약 크기가 너무 크면, 분포를 나타내는 중요한 특징을 놓칠 수 있고 또한 반대로 너무 작아도, 결과가 너무 쪼개져 있어서 더 큰 그림을 볼 수가 없게 된다."
   ]
  },
  {
   "cell_type": "markdown",
   "id": "caeb5bea",
   "metadata": {},
   "source": [
    "이때, 백분위수는 서로 크기가 다르게 구간을 나누지만 도수분포표는 구간의 크기가 서로 같게 나눈는 차이점이 있다."
   ]
  },
  {
   "cell_type": "code",
   "execution_count": 4,
   "id": "0e21cb63",
   "metadata": {},
   "outputs": [
    {
     "data": {
      "text/plain": [
       "<AxesSubplot:ylabel='Frequency'>"
      ]
     },
     "execution_count": 4,
     "metadata": {},
     "output_type": "execute_result"
    },
    {
     "data": {
      "image/png": "[encoded data removed]",
      "text/plain": [
       "<Figure size 288x288 with 1 Axes>"
      ]
     },
     "metadata": {
      "needs_background": "light"
     },
     "output_type": "display_data"
    }
   ],
   "source": [
    "# 히스토그램 pandas\n",
    "(state[\"Population\"] / 1000000).plot.hist(figsize=(4, 4))"
   ]
  },
  {
   "cell_type": "code",
   "execution_count": 19,
   "id": "f5ba6676",
   "metadata": {},
   "outputs": [
    {
     "data": {
      "text/plain": [
       "<AxesSubplot:xlabel='Population', ylabel='Count'>"
      ]
     },
     "execution_count": 19,
     "metadata": {},
     "output_type": "execute_result"
    },
    {
     "data": {
      "image/png": "[encoded data removed]",
      "text/plain": [
       "<Figure size 432x288 with 1 Axes>"
      ]
     },
     "metadata": {
      "needs_background": "light"
     },
     "output_type": "display_data"
    }
   ],
   "source": [
    "# 히스토그램 seaborn -> 크기 조정은... 어렵군!\n",
    "sns.histplot(state[\"Population\"] / 1000000)"
   ]
  },
  {
   "cell_type": "markdown",
   "id": "1979d92c",
   "metadata": {},
   "source": [
    "보통 히스토그램은 다음과 같은 정보들을 담고 있다.\n",
    "\n",
    "- 그래프에 빈 구간들이 있을 수 있다.\n",
    "- 구간은 동일한 크기를 갖는다.\n",
    "- 구간의 수(혹은 구간의 크기)는 사용자가 결정할 수 있다.\n",
    "- 빈 구간이 있지 않은 이상, 박대 사이는 공간 없이 서로 붙어 있다."
   ]
  },
  {
   "cell_type": "markdown",
   "id": "a8152d33",
   "metadata": {},
   "source": [
    "TIP_ 통계학에서 말하는 모멘트  \n",
    "위치와 변이는 각각 분포의 일차 및 이차 모멘트(혹은 적률)라고 한다.  \n",
    "왜도, 첨도는 각각 분포의 삼차 및 사차 모멘트라고 부른다.\n",
    "  \n",
    "(보통은 이러한 모멘트 값들을 직접 구하기보다는 시각화해서 직접 확인한다.)"
   ]
  },
  {
   "cell_type": "markdown",
   "id": "c2a2041e",
   "metadata": {},
   "source": [
    "왜도 : 데이터가 큰 값이나 작은 값 쪽으로 얼마나 비스듬히 쏠려 있는지  \n",
    "첨도 : 데이터가 극단 값을 갖는 경향성"
   ]
  }
 ],
 "metadata": {
  "kernelspec": {
   "display_name": "Python 3 (ipykernel)",
   "language": "python",
   "name": "python3"
  },
  "language_info": {
   "codemirror_mode": {
    "name": "ipython",
    "version": 3
   },
   "file_extension": ".py",
   "mimetype": "text/x-python",
   "name": "python",
   "nbconvert_exporter": "python",
   "pygments_lexer": "ipython3",
   "version": "3.9.7"
  }
 },
 "nbformat": 4,
 "nbformat_minor": 5
}
