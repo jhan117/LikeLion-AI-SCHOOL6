{
 "cells": [
  {
   "cell_type": "markdown",
   "id": "cb7d02b0",
   "metadata": {},
   "source": [
    "# 데이터 불러오기"
   ]
  },
  {
   "cell_type": "code",
   "execution_count": 1,
   "id": "f744b52a",
   "metadata": {},
   "outputs": [
    {
     "data": {
      "text/plain": [
       "((6255, 12), (180, 11), (180, 2))"
      ]
     },
     "execution_count": 1,
     "metadata": {},
     "output_type": "execute_result"
    }
   ],
   "source": [
    "import pandas as pd\n",
    "import numpy as np\n",
    "\n",
    "# 데이터 불러오기\n",
    "data_path = 'data/'\n",
    "\n",
    "train = pd.read_csv(data_path + 'train.csv', index_col='id') # 학습 데이터\n",
    "test = pd.read_csv(data_path + 'test.csv', index_col='id') # 테스트 데이터\n",
    "submission = pd.read_csv(data_path + 'sample_submission.csv') # 제출 샘플 데이터\n",
    "\n",
    "train.shape, test.shape, submission.shape"
   ]
  },
  {
   "cell_type": "markdown",
   "id": "06eb39a3",
   "metadata": {},
   "source": [
    "# 피처 엔지니어링"
   ]
  },
  {
   "cell_type": "code",
   "execution_count": 2,
   "id": "b88543d0",
   "metadata": {},
   "outputs": [],
   "source": [
    "# 분석6 : 피처 결측치\n",
    "train = train.fillna(0)\n",
    "test = test.fillna(0)"
   ]
  },
  {
   "cell_type": "code",
   "execution_count": 3,
   "id": "7b7d4727",
   "metadata": {},
   "outputs": [
    {
     "data": {
      "text/plain": [
       "(6435, 12)"
      ]
     },
     "execution_count": 3,
     "metadata": {},
     "output_type": "execute_result"
    }
   ],
   "source": [
    "# 데이터 합치기\n",
    "df = pd.concat([train, test])\n",
    "\n",
    "df.shape"
   ]
  },
  {
   "cell_type": "code",
   "execution_count": 4,
   "id": "40c0381e",
   "metadata": {},
   "outputs": [],
   "source": [
    "# 분석1 : 피처 변환\n",
    "df['Weekly_Sales'] = np.log1p(df['Weekly_Sales'])"
   ]
  },
  {
   "cell_type": "code",
   "execution_count": 5,
   "id": "6066f7ba",
   "metadata": {},
   "outputs": [],
   "source": [
    "# 분석2 : 피처 추가\n",
    "df['Date'] = pd.to_datetime(df['Date'], dayfirst=True)\n",
    "\n",
    "df['year'] = df['Date'].dt.year\n",
    "df['month'] = df['Date'].dt.month\n",
    "df['day'] = df['Date'].dt.day\n",
    "df['week'] = df['day'] // 7"
   ]
  },
  {
   "cell_type": "code",
   "execution_count": 6,
   "id": "e8dbae53",
   "metadata": {},
   "outputs": [],
   "source": [
    "# 분석3, 4 : 피처 제거\n",
    "drop_features = ['Date', 'Fuel_Price']\n",
    "df = df.drop(columns=drop_features)"
   ]
  },
  {
   "cell_type": "code",
   "execution_count": 7,
   "id": "dff932fe",
   "metadata": {},
   "outputs": [],
   "source": [
    "# 분석5 : 피처 인코딩\n",
    "df['IsHoliday'] = df['IsHoliday'].astype(int)"
   ]
  },
  {
   "cell_type": "code",
   "execution_count": 8,
   "id": "e04bef82",
   "metadata": {},
   "outputs": [
    {
     "data": {
      "text/plain": [
       "((6255, 13), (6255,), (180, 13))"
      ]
     },
     "execution_count": 8,
     "metadata": {},
     "output_type": "execute_result"
    }
   ],
   "source": [
    "# 데이터셋 나누기\n",
    "features = df.loc[df['Weekly_Sales'].notnull()]\n",
    "label = features.pop('Weekly_Sales')\n",
    "\n",
    "X_test = df[df['Weekly_Sales'].isnull()].drop(columns='Weekly_Sales')\n",
    "\n",
    "features.shape, label.shape, X_test.shape"
   ]
  },
  {
   "cell_type": "markdown",
   "id": "4e34dded",
   "metadata": {},
   "source": [
    "# 모델 및 하이퍼파라미터 최적화\n",
    "\n",
    "- 규제 선형 모델\n",
    "    - Ridge\n",
    "    - Lasso\n",
    "    - Elastic net\n",
    "- 트리\n",
    "    - Decision Tree\n",
    "    - Gradient Boosting\n",
    "    - RandomForest\n",
    "    - XGBoost\n",
    "    - LightGBM"
   ]
  },
  {
   "cell_type": "code",
   "execution_count": 9,
   "id": "f332f5da",
   "metadata": {},
   "outputs": [],
   "source": [
    "from sklearn.model_selection import KFold\n",
    "from sklearn.metrics import mean_squared_error\n",
    "\n",
    "n = 15\n",
    "\n",
    "kfold = KFold(n_splits=n, shuffle=True, random_state=2001) # KFold\n",
    "\n",
    "def kfold_rmse(model):\n",
    "    \"\"\"KFold 교차 검증으로 모델 학습 및 검증\"\"\"\n",
    "    n_iter = 0\n",
    "    cv_rmse = []\n",
    "    pred_test = np.zeros((test.shape[0]))\n",
    "\n",
    "    for train_index, test_index in kfold.split(features):\n",
    "        n_iter += 1\n",
    "\n",
    "        # 학습, 검증 데이터 나누기\n",
    "        X_train, X_val = features.iloc[train_index], features.iloc[test_index]\n",
    "        y_train, y_val = label.iloc[train_index], label.iloc[test_index]\n",
    "\n",
    "        model.fit(X_train, y_train) # 모델 학습\n",
    "\n",
    "        pred = model.predict(X_val) # 검증용 예측\n",
    "        pred_test += model.predict(X_test) / n # 제출용 예측\n",
    "\n",
    "        rmse = np.round(mean_squared_error(y_val, pred, squared=False), 4) # 평가\n",
    "\n",
    "        print(f'\\n#{n_iter} 교차 검증 rmse : {rmse}')\n",
    "        cv_rmse.append(rmse)\n",
    "\n",
    "    print(f'\\n## 평균 검증 rmse :', np.round(np.mean(cv_rmse), 4))\n",
    "    \n",
    "    return pred_test"
   ]
  },
  {
   "cell_type": "markdown",
   "id": "f4920d82",
   "metadata": {},
   "source": [
    "## 규제 선형 모델\n",
    "\n",
    "\n",
    "- Ridge model(L2 규제)\n",
    "- Lasso model(L1 규제)\n",
    "- Elastic Net model(L2 + L1 규제)\n",
    "\n",
    "알다시피 선형 모델인 Linear model과 별 차이 없기 때문에 따로 제출하지 않았다."
   ]
  },
  {
   "cell_type": "code",
   "execution_count": 10,
   "id": "81276163",
   "metadata": {},
   "outputs": [
    {
     "name": "stdout",
     "output_type": "stream",
     "text": [
      "\n",
      "#1 교차 검증 rmse : 0.5445\n",
      "\n",
      "#2 교차 검증 rmse : 0.5422\n",
      "\n",
      "#3 교차 검증 rmse : 0.5516\n",
      "\n",
      "#4 교차 검증 rmse : 0.5586\n",
      "\n",
      "#5 교차 검증 rmse : 0.5502\n",
      "\n",
      "#6 교차 검증 rmse : 0.5262\n",
      "\n",
      "#7 교차 검증 rmse : 0.5372\n",
      "\n",
      "#8 교차 검증 rmse : 0.5255\n",
      "\n",
      "#9 교차 검증 rmse : 0.5282\n",
      "\n",
      "#10 교차 검증 rmse : 0.5311\n",
      "\n",
      "#11 교차 검증 rmse : 0.528\n",
      "\n",
      "#12 교차 검증 rmse : 0.5445\n",
      "\n",
      "#13 교차 검증 rmse : 0.5415\n",
      "\n",
      "#14 교차 검증 rmse : 0.5375\n",
      "\n",
      "#15 교차 검증 rmse : 0.5565\n",
      "\n",
      "## 평균 검증 rmse : 0.5402\n"
     ]
    }
   ],
   "source": [
    "from sklearn.linear_model import Ridge\n",
    "\n",
    "ridge_model = Ridge(random_state=2001) # 릿지 모델\n",
    "\n",
    "ridge_pred = kfold_rmse(ridge_model) # 교차 검증 및 예측"
   ]
  },
  {
   "cell_type": "code",
   "execution_count": 11,
   "id": "ff86423b",
   "metadata": {},
   "outputs": [
    {
     "name": "stdout",
     "output_type": "stream",
     "text": [
      "\n",
      "#1 교차 검증 rmse : 0.5579\n",
      "\n",
      "#2 교차 검증 rmse : 0.5612\n",
      "\n",
      "#3 교차 검증 rmse : 0.5677\n",
      "\n",
      "#4 교차 검증 rmse : 0.5746\n",
      "\n",
      "#5 교차 검증 rmse : 0.5553\n",
      "\n",
      "#6 교차 검증 rmse : 0.5397\n",
      "\n",
      "#7 교차 검증 rmse : 0.5566\n",
      "\n",
      "#8 교차 검증 rmse : 0.5341\n",
      "\n",
      "#9 교차 검증 rmse : 0.5375\n",
      "\n",
      "#10 교차 검증 rmse : 0.5504\n",
      "\n",
      "#11 교차 검증 rmse : 0.5439\n",
      "\n",
      "#12 교차 검증 rmse : 0.5511\n",
      "\n",
      "#13 교차 검증 rmse : 0.5524\n",
      "\n",
      "#14 교차 검증 rmse : 0.5414\n",
      "\n",
      "#15 교차 검증 rmse : 0.5762\n",
      "\n",
      "## 평균 검증 rmse : 0.5533\n"
     ]
    }
   ],
   "source": [
    "from sklearn.linear_model import Lasso\n",
    "\n",
    "lasso_model = Lasso(random_state=2001) # 라쏘 모델\n",
    "\n",
    "lasso_pred = kfold_rmse(lasso_model) # 교차 검증 및 예측"
   ]
  },
  {
   "cell_type": "code",
   "execution_count": 12,
   "id": "0b048af9",
   "metadata": {},
   "outputs": [
    {
     "name": "stdout",
     "output_type": "stream",
     "text": [
      "\n",
      "#1 교차 검증 rmse : 0.5521\n",
      "\n",
      "#2 교차 검증 rmse : 0.5528\n",
      "\n",
      "#3 교차 검증 rmse : 0.5608\n",
      "\n",
      "#4 교차 검증 rmse : 0.5685\n",
      "\n",
      "#5 교차 검증 rmse : 0.5525\n",
      "\n",
      "#6 교차 검증 rmse : 0.5358\n",
      "\n",
      "#7 교차 검증 rmse : 0.5512\n",
      "\n",
      "#8 교차 검증 rmse : 0.5304\n",
      "\n",
      "#9 교차 검증 rmse : 0.5345\n",
      "\n",
      "#10 교차 검증 rmse : 0.5418\n",
      "\n",
      "#11 교차 검증 rmse : 0.5374\n",
      "\n",
      "#12 교차 검증 rmse : 0.5497\n",
      "\n",
      "#13 교차 검증 rmse : 0.547\n",
      "\n",
      "#14 교차 검증 rmse : 0.5377\n",
      "\n",
      "#15 교차 검증 rmse : 0.5684\n",
      "\n",
      "## 평균 검증 rmse : 0.548\n"
     ]
    }
   ],
   "source": [
    "from sklearn.linear_model import ElasticNet\n",
    "\n",
    "en_model = ElasticNet(random_state=2001) # 엘라스틱넷 모델\n",
    "\n",
    "en_pred = kfold_rmse(en_model) # 교차 검증 및 예측"
   ]
  },
  {
   "cell_type": "markdown",
   "id": "bf682587",
   "metadata": {},
   "source": [
    "## 트리\n",
    "\n",
    "- Decision Tree\n",
    "- Gradient Boosting\n",
    "- RandomForest\n",
    "- XGBoost\n",
    "- LightGBM"
   ]
  },
  {
   "cell_type": "code",
   "execution_count": 13,
   "id": "3456bdd9",
   "metadata": {},
   "outputs": [],
   "source": [
    "from sklearn.tree import DecisionTreeRegressor\n",
    "from sklearn.ensemble import GradientBoostingRegressor, RandomForestRegressor\n",
    "from xgboost import XGBRegressor\n",
    "from lightgbm import LGBMRegressor\n",
    "\n",
    "dt_model = DecisionTreeRegressor(random_state=2001, max_depth=100) # 결정 트리 모델 생성\n",
    "gb_model = GradientBoostingRegressor(random_state=2001, n_estimators=1000) # GradientBoosting 모델 생성\n",
    "rf_model = RandomForestRegressor(random_state=2001, n_estimators=1000) # 랜덤 포레스트 모델 생성\n",
    "xgb_model = XGBRegressor(random_state=2001, n_estimators=1000) # XGB 모델 생성\n",
    "lgbm_model = LGBMRegressor(random_state=2001, n_estimators=1000) # LGM 모델 생성"
   ]
  },
  {
   "cell_type": "code",
   "execution_count": 14,
   "id": "82cf3803",
   "metadata": {},
   "outputs": [
    {
     "name": "stdout",
     "output_type": "stream",
     "text": [
      "\n",
      "#1 교차 검증 rmse : 0.1169\n",
      "\n",
      "#2 교차 검증 rmse : 0.1416\n",
      "\n",
      "#3 교차 검증 rmse : 0.1291\n",
      "\n",
      "#4 교차 검증 rmse : 0.1019\n",
      "\n",
      "#5 교차 검증 rmse : 0.1226\n",
      "\n",
      "#6 교차 검증 rmse : 0.1085\n",
      "\n",
      "#7 교차 검증 rmse : 0.14\n",
      "\n",
      "#8 교차 검증 rmse : 0.1129\n",
      "\n",
      "#9 교차 검증 rmse : 0.0935\n",
      "\n",
      "#10 교차 검증 rmse : 0.129\n",
      "\n",
      "#11 교차 검증 rmse : 0.1316\n",
      "\n",
      "#12 교차 검증 rmse : 0.1104\n",
      "\n",
      "#13 교차 검증 rmse : 0.1508\n",
      "\n",
      "#14 교차 검증 rmse : 0.1153\n",
      "\n",
      "#15 교차 검증 rmse : 0.1127\n",
      "\n",
      "## 평균 검증 rmse : 0.1211\n"
     ]
    }
   ],
   "source": [
    "# DecisionTreeRegressor\n",
    "dt_pred = kfold_rmse(dt_model)"
   ]
  },
  {
   "cell_type": "code",
   "execution_count": 15,
   "id": "2aa9b380",
   "metadata": {},
   "outputs": [
    {
     "name": "stdout",
     "output_type": "stream",
     "text": [
      "\n",
      "#1 교차 검증 rmse : 0.0693\n",
      "\n",
      "#2 교차 검증 rmse : 0.0686\n",
      "\n",
      "#3 교차 검증 rmse : 0.0638\n",
      "\n",
      "#4 교차 검증 rmse : 0.0711\n",
      "\n",
      "#5 교차 검증 rmse : 0.0738\n",
      "\n",
      "#6 교차 검증 rmse : 0.071\n",
      "\n",
      "#7 교차 검증 rmse : 0.0768\n",
      "\n",
      "#8 교차 검증 rmse : 0.0704\n",
      "\n",
      "#9 교차 검증 rmse : 0.0618\n",
      "\n",
      "#10 교차 검증 rmse : 0.0708\n",
      "\n",
      "#11 교차 검증 rmse : 0.0689\n",
      "\n",
      "#12 교차 검증 rmse : 0.0656\n",
      "\n",
      "#13 교차 검증 rmse : 0.0713\n",
      "\n",
      "#14 교차 검증 rmse : 0.0682\n",
      "\n",
      "#15 교차 검증 rmse : 0.0692\n",
      "\n",
      "## 평균 검증 rmse : 0.0694\n"
     ]
    }
   ],
   "source": [
    "# GradientBoostingRegressor\n",
    "gb_pred = kfold_rmse(gb_model)"
   ]
  },
  {
   "cell_type": "code",
   "execution_count": 16,
   "id": "231d792f",
   "metadata": {},
   "outputs": [
    {
     "name": "stdout",
     "output_type": "stream",
     "text": [
      "\n",
      "#1 교차 검증 rmse : 0.1004\n",
      "\n",
      "#2 교차 검증 rmse : 0.1122\n",
      "\n",
      "#3 교차 검증 rmse : 0.0993\n",
      "\n",
      "#4 교차 검증 rmse : 0.0883\n",
      "\n",
      "#5 교차 검증 rmse : 0.098\n",
      "\n",
      "#6 교차 검증 rmse : 0.1014\n",
      "\n",
      "#7 교차 검증 rmse : 0.1076\n",
      "\n",
      "#8 교차 검증 rmse : 0.0923\n",
      "\n",
      "#9 교차 검증 rmse : 0.0797\n",
      "\n",
      "#10 교차 검증 rmse : 0.0882\n",
      "\n",
      "#11 교차 검증 rmse : 0.1006\n",
      "\n",
      "#12 교차 검증 rmse : 0.0797\n",
      "\n",
      "#13 교차 검증 rmse : 0.1054\n",
      "\n",
      "#14 교차 검증 rmse : 0.0908\n",
      "\n",
      "#15 교차 검증 rmse : 0.083\n",
      "\n",
      "## 평균 검증 rmse : 0.0951\n"
     ]
    }
   ],
   "source": [
    "# RandomForestRegressor\n",
    "rf_pred = kfold_rmse(rf_model)"
   ]
  },
  {
   "cell_type": "code",
   "execution_count": 17,
   "id": "20139504",
   "metadata": {},
   "outputs": [
    {
     "name": "stdout",
     "output_type": "stream",
     "text": [
      "\n",
      "#1 교차 검증 rmse : 0.0616\n",
      "\n",
      "#2 교차 검증 rmse : 0.0631\n",
      "\n",
      "#3 교차 검증 rmse : 0.0674\n",
      "\n",
      "#4 교차 검증 rmse : 0.0771\n",
      "\n",
      "#5 교차 검증 rmse : 0.0661\n",
      "\n",
      "#6 교차 검증 rmse : 0.0639\n",
      "\n",
      "#7 교차 검증 rmse : 0.0767\n",
      "\n",
      "#8 교차 검증 rmse : 0.0635\n",
      "\n",
      "#9 교차 검증 rmse : 0.0665\n",
      "\n",
      "#10 교차 검증 rmse : 0.07\n",
      "\n",
      "#11 교차 검증 rmse : 0.0669\n",
      "\n",
      "#12 교차 검증 rmse : 0.0693\n",
      "\n",
      "#13 교차 검증 rmse : 0.063\n",
      "\n",
      "#14 교차 검증 rmse : 0.0717\n",
      "\n",
      "#15 교차 검증 rmse : 0.0666\n",
      "\n",
      "## 평균 검증 rmse : 0.0676\n"
     ]
    }
   ],
   "source": [
    "# XGBRegressor\n",
    "xgb_pred = kfold_rmse(xgb_model)"
   ]
  },
  {
   "cell_type": "code",
   "execution_count": 18,
   "id": "10976bcb",
   "metadata": {},
   "outputs": [
    {
     "name": "stdout",
     "output_type": "stream",
     "text": [
      "\n",
      "#1 교차 검증 rmse : 0.0615\n",
      "\n",
      "#2 교차 검증 rmse : 0.0601\n",
      "\n",
      "#3 교차 검증 rmse : 0.0639\n",
      "\n",
      "#4 교차 검증 rmse : 0.0693\n",
      "\n",
      "#5 교차 검증 rmse : 0.0641\n",
      "\n",
      "#6 교차 검증 rmse : 0.0652\n",
      "\n",
      "#7 교차 검증 rmse : 0.0756\n",
      "\n",
      "#8 교차 검증 rmse : 0.0717\n",
      "\n",
      "#9 교차 검증 rmse : 0.0644\n",
      "\n",
      "#10 교차 검증 rmse : 0.0666\n",
      "\n",
      "#11 교차 검증 rmse : 0.0568\n",
      "\n",
      "#12 교차 검증 rmse : 0.0658\n",
      "\n",
      "#13 교차 검증 rmse : 0.0568\n",
      "\n",
      "#14 교차 검증 rmse : 0.0653\n",
      "\n",
      "#15 교차 검증 rmse : 0.0556\n",
      "\n",
      "## 평균 검증 rmse : 0.0642\n"
     ]
    }
   ],
   "source": [
    "# LGBMRegressor\n",
    "lgbm_pred = kfold_rmse(lgbm_model)"
   ]
  },
  {
   "cell_type": "markdown",
   "id": "c41c85c3",
   "metadata": {},
   "source": [
    "# 제출"
   ]
  },
  {
   "cell_type": "code",
   "execution_count": 19,
   "id": "a773e16f",
   "metadata": {},
   "outputs": [],
   "source": [
    "def make_submit_csv(model, pred):\n",
    "    \"\"\"제출 파일 만들기\"\"\"\n",
    "    submission['Weekly_Sales'] = np.expm1(pred)\n",
    "    submission.to_csv(data_path + f'submission_{model}.csv', index=False)"
   ]
  },
  {
   "cell_type": "code",
   "execution_count": 20,
   "id": "2926075c",
   "metadata": {},
   "outputs": [],
   "source": [
    "# 기본 모델 일괄 저장 완료\n",
    "# make_submit_csv('dt', dt_pred) # DecisionTreeRegressor\n",
    "# make_submit_csv('gb', gb_pred) # GradientBoostingRegressor\n",
    "# make_submit_csv('rf', rf_pred) # RandomForestRegressor\n",
    "# make_submit_csv('xgb', xgb_pred) # XGBRegressor\n",
    "# make_submit_csv('lgbm', lgbm_pred) # LGBMRegressor"
   ]
  }
 ],
 "metadata": {
  "kernelspec": {
   "display_name": "Python 3 (ipykernel)",
   "language": "python",
   "name": "python3"
  },
  "language_info": {
   "codemirror_mode": {
    "name": "ipython",
    "version": 3
   },
   "file_extension": ".py",
   "mimetype": "text/x-python",
   "name": "python",
   "nbconvert_exporter": "python",
   "pygments_lexer": "ipython3",
   "version": "3.10.5"
  },
  "toc": {
   "base_numbering": 1,
   "nav_menu": {},
   "number_sections": true,
   "sideBar": true,
   "skip_h1_title": false,
   "title_cell": "Table of Contents",
   "title_sidebar": "Contents",
   "toc_cell": false,
   "toc_position": {
    "height": "calc(100% - 180px)",
    "left": "10px",
    "top": "150px",
    "width": "303.837px"
   },
   "toc_section_display": true,
   "toc_window_display": true
  }
 },
 "nbformat": 4,
 "nbformat_minor": 5
}
