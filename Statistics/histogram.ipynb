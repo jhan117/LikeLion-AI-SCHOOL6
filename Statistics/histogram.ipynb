{
 "cells": [
  {
   "cell_type": "code",
   "execution_count": 56,
   "metadata": {},
   "outputs": [],
   "source": [
    "import pandas as pd"
   ]
  },
  {
   "cell_type": "code",
   "execution_count": 2,
   "metadata": {},
   "outputs": [
    {
     "data": {
      "text/plain": [
       "0     48\n",
       "1     54\n",
       "2     47\n",
       "3     50\n",
       "4     53\n",
       "      ..\n",
       "75    50\n",
       "76    54\n",
       "77    55\n",
       "78    48\n",
       "79    50\n",
       "Length: 80, dtype: int64"
      ]
     },
     "execution_count": 2,
     "metadata": {},
     "output_type": "execute_result"
    }
   ],
   "source": [
    "# 여대생 몸무게\n",
    "data = [48, 54, 47, 50, 53, 43, 45, 43, 44, 47, 58, 46, 46, 63, 49, 50, 48, 43, 46, 45, 50, 53, 51, 58, 52, 53, 47, 49, 45, 42, 51, 49, 58, 54, 45, 53, 50, 69, 44, 50, 58, 64, 40 ,57, 51, 69, 58, 47, 62, 47, 40, 60, 48, 47, 53, 47 ,52, 61, 55, 55, 48, 48, 46, 52, 45, 38, 62, 47, 55, 50, 46, 47, 55, 48, 50, 50, 54, 55, 48, 50]\n",
    "ser = pd.Series(data=data)\n",
    "ser"
   ]
  },
  {
   "cell_type": "code",
   "execution_count": 22,
   "metadata": {},
   "outputs": [
    {
     "data": {
      "text/plain": [
       "(35, 40]     3\n",
       "(40, 45]    11\n",
       "(45, 50]    33\n",
       "(50, 55]    19\n",
       "(55, 60]     7\n",
       "(60, 65]     5\n",
       "(65, 70]     2\n",
       "dtype: int64"
      ]
     },
     "execution_count": 22,
     "metadata": {},
     "output_type": "execute_result"
    }
   ],
   "source": [
    "# 도수분포표\n",
    "bins = pd.interval_range(start=35, end=70, freq=5) # 범위 지정\n",
    "out = pd.cut(x=ser, bins=bins)\n",
    "# 도수\n",
    "table = out.value_counts(sort=False)\n",
    "table"
   ]
  },
  {
   "cell_type": "code",
   "execution_count": 32,
   "metadata": {},
   "outputs": [
    {
     "data": {
      "text/html": [
       "<div>\n",
       "<style scoped>\n",
       "    .dataframe tbody tr th:only-of-type {\n",
       "        vertical-align: middle;\n",
       "    }\n",
       "\n",
       "    .dataframe tbody tr th {\n",
       "        vertical-align: top;\n",
       "    }\n",
       "\n",
       "    .dataframe thead th {\n",
       "        text-align: right;\n",
       "    }\n",
       "</style>\n",
       "<table border=\"1\" class=\"dataframe\">\n",
       "  <thead>\n",
       "    <tr style=\"text-align: right;\">\n",
       "      <th></th>\n",
       "      <th>계급(이상~미만)</th>\n",
       "      <th>계급값</th>\n",
       "      <th>도수</th>\n",
       "      <th>상대도수</th>\n",
       "      <th>누적도수</th>\n",
       "    </tr>\n",
       "  </thead>\n",
       "  <tbody>\n",
       "    <tr>\n",
       "      <th>0</th>\n",
       "      <td>(35, 40]</td>\n",
       "      <td>38</td>\n",
       "      <td>3</td>\n",
       "      <td>0.0375</td>\n",
       "      <td>3</td>\n",
       "    </tr>\n",
       "    <tr>\n",
       "      <th>1</th>\n",
       "      <td>(40, 45]</td>\n",
       "      <td>43</td>\n",
       "      <td>11</td>\n",
       "      <td>0.1375</td>\n",
       "      <td>14</td>\n",
       "    </tr>\n",
       "    <tr>\n",
       "      <th>2</th>\n",
       "      <td>(45, 50]</td>\n",
       "      <td>48</td>\n",
       "      <td>33</td>\n",
       "      <td>0.4125</td>\n",
       "      <td>47</td>\n",
       "    </tr>\n",
       "    <tr>\n",
       "      <th>3</th>\n",
       "      <td>(50, 55]</td>\n",
       "      <td>53</td>\n",
       "      <td>19</td>\n",
       "      <td>0.2375</td>\n",
       "      <td>66</td>\n",
       "    </tr>\n",
       "    <tr>\n",
       "      <th>4</th>\n",
       "      <td>(55, 60]</td>\n",
       "      <td>58</td>\n",
       "      <td>7</td>\n",
       "      <td>0.0875</td>\n",
       "      <td>73</td>\n",
       "    </tr>\n",
       "    <tr>\n",
       "      <th>5</th>\n",
       "      <td>(60, 65]</td>\n",
       "      <td>63</td>\n",
       "      <td>5</td>\n",
       "      <td>0.0625</td>\n",
       "      <td>78</td>\n",
       "    </tr>\n",
       "    <tr>\n",
       "      <th>6</th>\n",
       "      <td>(65, 70]</td>\n",
       "      <td>68</td>\n",
       "      <td>2</td>\n",
       "      <td>0.0250</td>\n",
       "      <td>80</td>\n",
       "    </tr>\n",
       "  </tbody>\n",
       "</table>\n",
       "</div>"
      ],
      "text/plain": [
       "  계급(이상~미만)  계급값  도수    상대도수  누적도수\n",
       "0  (35, 40]   38   3  0.0375     3\n",
       "1  (40, 45]   43  11  0.1375    14\n",
       "2  (45, 50]   48  33  0.4125    47\n",
       "3  (50, 55]   53  19  0.2375    66\n",
       "4  (55, 60]   58   7  0.0875    73\n",
       "5  (60, 65]   63   5  0.0625    78\n",
       "6  (65, 70]   68   2  0.0250    80"
      ]
     },
     "execution_count": 32,
     "metadata": {},
     "output_type": "execute_result"
    }
   ],
   "source": [
    "# 계급\n",
    "s1 = pd.Series(data=bins)\n",
    "# 계급값 -> 중앙값인데 .mid로 할 수 있지만 왼쪽값이 이상이라...\n",
    "s2 = pd.Series([s1.iloc[i].left+3 for i in range(7)])\n",
    "# 도수\n",
    "s3 = table.reset_index(drop=True)\n",
    "# 상대도수 -> 다 더해서 1\n",
    "s4 = s3 / len(data)\n",
    "# 누적도수 -> 마지막에 총 데이터 갯수여야 함\n",
    "s5_list = []\n",
    "result = 0\n",
    "for i in range(7):\n",
    "    result += s3.iloc[i]\n",
    "    s5_list.append(result)\n",
    "s5 = pd.Series(s5_list)\n",
    "\n",
    "df = pd.concat([s1, s2, s3, s4, s5], ignore_index=True, axis=1)\n",
    "df.columns = ['계급(초과~이하)', '계급값', '도수', '상대도수', '누적도수']\n",
    "df"
   ]
  },
  {
   "cell_type": "code",
   "execution_count": 26,
   "metadata": {},
   "outputs": [
    {
     "data": {
      "text/plain": [
       "<AxesSubplot:ylabel='Frequency'>"
      ]
     },
     "execution_count": 26,
     "metadata": {},
     "output_type": "execute_result"
    },
    {
     "data": {
      "image/png": "[encoded data removed]",
      "text/plain": [
       "<Figure size 432x288 with 1 Axes>"
      ]
     },
     "metadata": {
      "needs_background": "light"
     },
     "output_type": "display_data"
    }
   ],
   "source": [
    "# 히스토그램\n",
    "ser.plot.hist(bins=7, range=[35, 70])"
   ]
  },
  {
   "cell_type": "code",
   "execution_count": 34,
   "metadata": {},
   "outputs": [
    {
     "data": {
      "text/html": [
       "<div>\n",
       "<style scoped>\n",
       "    .dataframe tbody tr th:only-of-type {\n",
       "        vertical-align: middle;\n",
       "    }\n",
       "\n",
       "    .dataframe tbody tr th {\n",
       "        vertical-align: top;\n",
       "    }\n",
       "\n",
       "    .dataframe thead th {\n",
       "        text-align: right;\n",
       "    }\n",
       "</style>\n",
       "<table border=\"1\" class=\"dataframe\">\n",
       "  <thead>\n",
       "    <tr style=\"text-align: right;\">\n",
       "      <th></th>\n",
       "      <th>계급값</th>\n",
       "      <th>도수</th>\n",
       "      <th>상대도수</th>\n",
       "      <th>계급값 x 상대도수</th>\n",
       "    </tr>\n",
       "  </thead>\n",
       "  <tbody>\n",
       "    <tr>\n",
       "      <th>0</th>\n",
       "      <td>30</td>\n",
       "      <td>5</td>\n",
       "      <td>0.05</td>\n",
       "      <td>1.5</td>\n",
       "    </tr>\n",
       "    <tr>\n",
       "      <th>1</th>\n",
       "      <td>50</td>\n",
       "      <td>10</td>\n",
       "      <td>0.10</td>\n",
       "      <td>5.0</td>\n",
       "    </tr>\n",
       "    <tr>\n",
       "      <th>2</th>\n",
       "      <td>70</td>\n",
       "      <td>15</td>\n",
       "      <td>0.15</td>\n",
       "      <td>10.5</td>\n",
       "    </tr>\n",
       "    <tr>\n",
       "      <th>3</th>\n",
       "      <td>90</td>\n",
       "      <td>40</td>\n",
       "      <td>0.40</td>\n",
       "      <td>36.0</td>\n",
       "    </tr>\n",
       "    <tr>\n",
       "      <th>4</th>\n",
       "      <td>110</td>\n",
       "      <td>20</td>\n",
       "      <td>0.20</td>\n",
       "      <td>22.0</td>\n",
       "    </tr>\n",
       "    <tr>\n",
       "      <th>5</th>\n",
       "      <td>130</td>\n",
       "      <td>10</td>\n",
       "      <td>0.10</td>\n",
       "      <td>13.0</td>\n",
       "    </tr>\n",
       "  </tbody>\n",
       "</table>\n",
       "</div>"
      ],
      "text/plain": [
       "   계급값  도수  상대도수  계급값 x 상대도수\n",
       "0   30   5  0.05         1.5\n",
       "1   50  10  0.10         5.0\n",
       "2   70  15  0.15        10.5\n",
       "3   90  40  0.40        36.0\n",
       "4  110  20  0.20        22.0\n",
       "5  130  10  0.10        13.0"
      ]
     },
     "execution_count": 34,
     "metadata": {},
     "output_type": "execute_result"
    }
   ],
   "source": [
    "# 평균값\n",
    "df_avg = pd.DataFrame({'계급값' : [30, 50, 70, 90, 110, 130], '도수' : [5, 10, 15, 40, 20, 10]})\n",
    "df_avg['상대도수'] = df_avg['도수'] / df_avg['도수'].sum()\n",
    "df_avg['계급값 x 상대도수'] = df_avg['계급값'] * df_avg['상대도수']\n",
    "df_avg"
   ]
  },
  {
   "cell_type": "code",
   "execution_count": 35,
   "metadata": {},
   "outputs": [
    {
     "data": {
      "text/plain": [
       "88.0"
      ]
     },
     "execution_count": 35,
     "metadata": {},
     "output_type": "execute_result"
    }
   ],
   "source": [
    "# 평균값\n",
    "df_avg['계급값 x 상대도수'].sum()"
   ]
  },
  {
   "cell_type": "code",
   "execution_count": 54,
   "metadata": {},
   "outputs": [
    {
     "data": {
      "text/html": [
       "<div>\n",
       "<style scoped>\n",
       "    .dataframe tbody tr th:only-of-type {\n",
       "        vertical-align: middle;\n",
       "    }\n",
       "\n",
       "    .dataframe tbody tr th {\n",
       "        vertical-align: top;\n",
       "    }\n",
       "\n",
       "    .dataframe thead th {\n",
       "        text-align: right;\n",
       "    }\n",
       "</style>\n",
       "<table border=\"1\" class=\"dataframe\">\n",
       "  <thead>\n",
       "    <tr style=\"text-align: right;\">\n",
       "      <th></th>\n",
       "      <th>데이터</th>\n",
       "      <th>편차</th>\n",
       "      <th>편차의 제곱</th>\n",
       "    </tr>\n",
       "  </thead>\n",
       "  <tbody>\n",
       "    <tr>\n",
       "      <th>0</th>\n",
       "      <td>6</td>\n",
       "      <td>1.0</td>\n",
       "      <td>1.0</td>\n",
       "    </tr>\n",
       "    <tr>\n",
       "      <th>1</th>\n",
       "      <td>4</td>\n",
       "      <td>-1.0</td>\n",
       "      <td>1.0</td>\n",
       "    </tr>\n",
       "    <tr>\n",
       "      <th>2</th>\n",
       "      <td>6</td>\n",
       "      <td>1.0</td>\n",
       "      <td>1.0</td>\n",
       "    </tr>\n",
       "    <tr>\n",
       "      <th>3</th>\n",
       "      <td>6</td>\n",
       "      <td>1.0</td>\n",
       "      <td>1.0</td>\n",
       "    </tr>\n",
       "    <tr>\n",
       "      <th>4</th>\n",
       "      <td>6</td>\n",
       "      <td>1.0</td>\n",
       "      <td>1.0</td>\n",
       "    </tr>\n",
       "    <tr>\n",
       "      <th>5</th>\n",
       "      <td>3</td>\n",
       "      <td>-2.0</td>\n",
       "      <td>4.0</td>\n",
       "    </tr>\n",
       "    <tr>\n",
       "      <th>6</th>\n",
       "      <td>7</td>\n",
       "      <td>2.0</td>\n",
       "      <td>4.0</td>\n",
       "    </tr>\n",
       "    <tr>\n",
       "      <th>7</th>\n",
       "      <td>2</td>\n",
       "      <td>-3.0</td>\n",
       "      <td>9.0</td>\n",
       "    </tr>\n",
       "    <tr>\n",
       "      <th>8</th>\n",
       "      <td>2</td>\n",
       "      <td>-3.0</td>\n",
       "      <td>9.0</td>\n",
       "    </tr>\n",
       "    <tr>\n",
       "      <th>9</th>\n",
       "      <td>8</td>\n",
       "      <td>3.0</td>\n",
       "      <td>9.0</td>\n",
       "    </tr>\n",
       "  </tbody>\n",
       "</table>\n",
       "</div>"
      ],
      "text/plain": [
       "   데이터   편차  편차의 제곱\n",
       "0    6  1.0     1.0\n",
       "1    4 -1.0     1.0\n",
       "2    6  1.0     1.0\n",
       "3    6  1.0     1.0\n",
       "4    6  1.0     1.0\n",
       "5    3 -2.0     4.0\n",
       "6    7  2.0     4.0\n",
       "7    2 -3.0     9.0\n",
       "8    2 -3.0     9.0\n",
       "9    8  3.0     9.0"
      ]
     },
     "execution_count": 54,
     "metadata": {},
     "output_type": "execute_result"
    }
   ],
   "source": [
    "# 표준편차\n",
    "# 1. 평균을 계산\n",
    "df2 = pd.DataFrame({'데이터' : [6, 4, 6, 6, 6, 3, 7, 2, 2, 8]})\n",
    "df2_avg = df2.mean()\n",
    "# 2. 편차 계산\n",
    "df2['편차'] = df2 - df2_avg\n",
    "# 3. 편차의 제곱과 그 평균(=분산) 계산\n",
    "df2['편차의 제곱'] = df2['편차'] ** 2\n",
    "df2_var = df2['편차의 제곱'].mean()\n",
    "# 4. 표준편차\n",
    "df2_std = df2_var ** (1/2)\n",
    "df2"
   ]
  },
  {
   "cell_type": "code",
   "execution_count": 55,
   "metadata": {},
   "outputs": [
    {
     "data": {
      "text/plain": [
       "(4.0, 2.0)"
      ]
     },
     "execution_count": 55,
     "metadata": {},
     "output_type": "execute_result"
    }
   ],
   "source": [
    "# 분산, 표준편차\n",
    "# 근데 이거 numpy로 간단하게 가능!\n",
    "df2_var, df2_std"
   ]
  }
 ],
 "metadata": {
  "interpreter": {
   "hash": "a5402ad5e55afdc1166c58efd4d7d720cf2c5010e726faa52f37033350a90f4c"
  },
  "kernelspec": {
   "display_name": "Python 3.10.4 64-bit",
   "language": "python",
   "name": "python3"
  },
  "language_info": {
   "codemirror_mode": {
    "name": "ipython",
    "version": 3
   },
   "file_extension": ".py",
   "mimetype": "text/x-python",
   "name": "python",
   "nbconvert_exporter": "python",
   "pygments_lexer": "ipython3",
   "version": "3.10.4"
  },
  "orig_nbformat": 4
 },
 "nbformat": 4,
 "nbformat_minor": 2
}
