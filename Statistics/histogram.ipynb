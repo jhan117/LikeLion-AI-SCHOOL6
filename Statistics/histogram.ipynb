{
 "cells": [
  {
   "cell_type": "code",
   "execution_count": 2,
   "metadata": {},
   "outputs": [
    {
     "data": {
      "text/plain": [
       "0     48\n",
       "1     54\n",
       "2     47\n",
       "3     50\n",
       "4     53\n",
       "      ..\n",
       "75    50\n",
       "76    54\n",
       "77    55\n",
       "78    48\n",
       "79    50\n",
       "Length: 80, dtype: int64"
      ]
     },
     "execution_count": 2,
     "metadata": {},
     "output_type": "execute_result"
    }
   ],
   "source": [
    "import pandas as pd\n",
    "\n",
    "# 여대생 몸무게\n",
    "data = [48, 54, 47, 50, 53, 43, 45, 43, 44, 47, 58, 46, 46, 63, 49, 50, 48, 43, 46, 45, 50, 53, 51, 58, 52, 53, 47, 49, 45, 42, 51, 49, 58, 54, 45, 53, 50, 69, 44, 50, 58, 64, 40 ,57, 51, 69, 58, 47, 62, 47, 40, 60, 48, 47, 53, 47 ,52, 61, 55, 55, 48, 48, 46, 52, 45, 38, 62, 47, 55, 50, 46, 47, 55, 48, 50, 50, 54, 55, 48, 50]\n",
    "ser = pd.Series(data=data)\n",
    "ser"
   ]
  },
  {
   "cell_type": "code",
   "execution_count": 140,
   "metadata": {},
   "outputs": [
    {
     "data": {
      "text/plain": [
       "(36, 41]     3\n",
       "(41, 46]    16\n",
       "(46, 51]    31\n",
       "(51, 56]    16\n",
       "(56, 61]     8\n",
       "(61, 66]     4\n",
       "(66, 71]     2\n",
       "dtype: int64"
      ]
     },
     "execution_count": 140,
     "metadata": {},
     "output_type": "execute_result"
    }
   ],
   "source": [
    "# 도수분포표\n",
    "bins = pd.interval_range(start=36, end=71, freq=5) # 범위 지정\n",
    "out = pd.cut(x=ser, bins=bins)\n",
    "# 도수\n",
    "table = out.value_counts(sort=False)\n",
    "table"
   ]
  },
  {
   "cell_type": "code",
   "execution_count": 141,
   "metadata": {},
   "outputs": [
    {
     "data": {
      "text/html": [
       "<div>\n",
       "<style scoped>\n",
       "    .dataframe tbody tr th:only-of-type {\n",
       "        vertical-align: middle;\n",
       "    }\n",
       "\n",
       "    .dataframe tbody tr th {\n",
       "        vertical-align: top;\n",
       "    }\n",
       "\n",
       "    .dataframe thead th {\n",
       "        text-align: right;\n",
       "    }\n",
       "</style>\n",
       "<table border=\"1\" class=\"dataframe\">\n",
       "  <thead>\n",
       "    <tr style=\"text-align: right;\">\n",
       "      <th></th>\n",
       "      <th>계급(이상~미만)</th>\n",
       "      <th>계급값</th>\n",
       "      <th>도수</th>\n",
       "      <th>상대도수</th>\n",
       "      <th>누적도수</th>\n",
       "    </tr>\n",
       "  </thead>\n",
       "  <tbody>\n",
       "    <tr>\n",
       "      <th>0</th>\n",
       "      <td>(36, 41]</td>\n",
       "      <td>38</td>\n",
       "      <td>3</td>\n",
       "      <td>0.0375</td>\n",
       "      <td>3</td>\n",
       "    </tr>\n",
       "    <tr>\n",
       "      <th>1</th>\n",
       "      <td>(41, 46]</td>\n",
       "      <td>43</td>\n",
       "      <td>16</td>\n",
       "      <td>0.2000</td>\n",
       "      <td>19</td>\n",
       "    </tr>\n",
       "    <tr>\n",
       "      <th>2</th>\n",
       "      <td>(46, 51]</td>\n",
       "      <td>48</td>\n",
       "      <td>31</td>\n",
       "      <td>0.3875</td>\n",
       "      <td>50</td>\n",
       "    </tr>\n",
       "    <tr>\n",
       "      <th>3</th>\n",
       "      <td>(51, 56]</td>\n",
       "      <td>53</td>\n",
       "      <td>16</td>\n",
       "      <td>0.2000</td>\n",
       "      <td>66</td>\n",
       "    </tr>\n",
       "    <tr>\n",
       "      <th>4</th>\n",
       "      <td>(56, 61]</td>\n",
       "      <td>58</td>\n",
       "      <td>8</td>\n",
       "      <td>0.1000</td>\n",
       "      <td>74</td>\n",
       "    </tr>\n",
       "    <tr>\n",
       "      <th>5</th>\n",
       "      <td>(61, 66]</td>\n",
       "      <td>63</td>\n",
       "      <td>4</td>\n",
       "      <td>0.0500</td>\n",
       "      <td>78</td>\n",
       "    </tr>\n",
       "    <tr>\n",
       "      <th>6</th>\n",
       "      <td>(66, 71]</td>\n",
       "      <td>68</td>\n",
       "      <td>2</td>\n",
       "      <td>0.0250</td>\n",
       "      <td>80</td>\n",
       "    </tr>\n",
       "  </tbody>\n",
       "</table>\n",
       "</div>"
      ],
      "text/plain": [
       "  계급(이상~미만)  계급값  도수    상대도수  누적도수\n",
       "0  (36, 41]   38   3  0.0375     3\n",
       "1  (41, 46]   43  16  0.2000    19\n",
       "2  (46, 51]   48  31  0.3875    50\n",
       "3  (51, 56]   53  16  0.2000    66\n",
       "4  (56, 61]   58   8  0.1000    74\n",
       "5  (61, 66]   63   4  0.0500    78\n",
       "6  (66, 71]   68   2  0.0250    80"
      ]
     },
     "execution_count": 141,
     "metadata": {},
     "output_type": "execute_result"
    }
   ],
   "source": [
    "# 계급\n",
    "s1 = pd.Series(data=bins)\n",
    "# 계급값 -> 중앙값인데 .mid로 할 수 있지만 오른쪽 값이 미만 값이라...\n",
    "s2 = pd.Series([s1.iloc[i].left + 2 for i in range(7)])\n",
    "# 도수\n",
    "s3 = table.reset_index(drop=True)\n",
    "# 상대도수 -> 다 더해서 1\n",
    "s4 = s3 / len(data)\n",
    "# 누적도수 -> 마지막에 총 데이터 갯수여야 함\n",
    "s5_list = []\n",
    "result = 0\n",
    "for i in range(7):\n",
    "    result += s3.iloc[i]\n",
    "    s5_list.append(result)\n",
    "s5 = pd.Series(s5_list)\n",
    "\n",
    "df = pd.concat([s1, s2, s3, s4, s5], ignore_index=True, axis=1)\n",
    "df.columns = ['계급(이상~미만)', '계급값', '도수', '상대도수', '누적도수']\n",
    "df"
   ]
  },
  {
   "cell_type": "code",
   "execution_count": 135,
   "metadata": {},
   "outputs": [
    {
     "data": {
      "text/plain": [
       "<AxesSubplot:ylabel='Frequency'>"
      ]
     },
     "execution_count": 135,
     "metadata": {},
     "output_type": "execute_result"
    },
    {
     "data": {
      "image/png": "[encoded data removed]",
      "text/plain": [
       "<Figure size 432x288 with 1 Axes>"
      ]
     },
     "metadata": {
      "needs_background": "light"
     },
     "output_type": "display_data"
    }
   ],
   "source": [
    "# 히스토그램\n",
    "ser.plot.hist(bins=7, range=[36, 70])"
   ]
  }
 ],
 "metadata": {
  "interpreter": {
   "hash": "a5402ad5e55afdc1166c58efd4d7d720cf2c5010e726faa52f37033350a90f4c"
  },
  "kernelspec": {
   "display_name": "Python 3.10.4 64-bit",
   "language": "python",
   "name": "python3"
  },
  "language_info": {
   "codemirror_mode": {
    "name": "ipython",
    "version": 3
   },
   "file_extension": ".py",
   "mimetype": "text/x-python",
   "name": "python",
   "nbconvert_exporter": "python",
   "pygments_lexer": "ipython3",
   "version": "3.10.4"
  },
  "orig_nbformat": 4
 },
 "nbformat": 4,
 "nbformat_minor": 2
}
